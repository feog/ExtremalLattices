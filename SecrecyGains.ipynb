{
 "cells": [
  {
   "cell_type": "markdown",
   "metadata": {},
   "source": [
    "<p><span style=\"background-color: #ccffcc;\"><strong>This SAGE notebook computes the secrecy gain of $l$-modular extremal lattices.</strong></span></p>\n",
    "\n",
    "<p>We compute the theta series of $\\mathbb{Z}$.</p>"
   ]
  },
  {
   "cell_type": "code",
   "execution_count": 12,
   "metadata": {
    "collapsed": false
   },
   "outputs": [
    {
     "data": {
      "text/plain": [
       "1 + 2*q + 2*q^4 + 2*q^9 + 2*q^16 + 2*q^25 + 2*q^36 + 2*q^49 + 2*q^64 + 2*q^81 + 2*q^100"
      ]
     },
     "execution_count": 12,
     "metadata": {},
     "output_type": "execute_result"
    }
   ],
   "source": [
    "R.<q> = PowerSeriesRing(ZZ, default_prec=10)\n",
    "def theta3(N):\n",
    "    t = 0\n",
    "    for n in range(-N,N+1):\n",
    "        t = t + q^(n**2)\n",
    "    return t\n",
    "theta3(10)"
   ]
  },
  {
   "cell_type": "markdown",
   "metadata": {},
   "source": [
    "<p>We compute the secrecy gain of $E_8$, for safety check.</p>"
   ]
  },
  {
   "cell_type": "code",
   "execution_count": 13,
   "metadata": {
    "collapsed": false
   },
   "outputs": [
    {
     "data": {
      "text/plain": []
     },
     "execution_count": 13,
     "metadata": {},
     "output_type": "execute_result"
    }
   ],
   "source": [
    "thetaE8 = 1 + 240*q^2 + 2160*q^4 + 6720*q^6 + 17520*q^8 + 30240*q^10 + 60480*q^12 + 82560*q^14 + 140400*q^16 + 181680*q^18 + 272160*q^20 + 319680*q^22 + 490560*q^24 + 527520*q^26 + O(q^28)\n",
    "R = RealField(200); \n",
    "L=line([(10*log(snr,10),(theta3(10)**8)(q=e^(-R(pi)*snr))/thetaE8.truncate(40)(q=e^(-R(pi)*snr)) ) for snr in [i*(0.01) for i in range(30,300)] ])\n",
    "L.show()"
   ]
  },
  {
   "cell_type": "markdown",
   "metadata": {},
   "source": [
    "<p><span style=\"font-size: xx-large; background-color: #ff99cc;\">$l=2$</span></p>\n",
    "<p>We start with the secrecy function of 2-modular lattices.</p>"
   ]
  },
  {
   "cell_type": "code",
   "execution_count": 1,
   "metadata": {
    "collapsed": false
   },
   "outputs": [
    {
     "data": {
      "text/plain": []
     },
     "execution_count": 1,
     "metadata": {},
     "output_type": "execute_result"
    }
   ],
   "source": [
    "R.<q> = PowerSeriesRing(ZZ, default_prec=10)\n",
    "L2=[]\n",
    "L2=[(8 , 1 + 48*q^2 + 624*q^4 + 1344*q^6 + 5232*q^8 + 6048*q^10 +\n",
    "17472*q^12 + 16512*q^14 + 42096*q^16 + 36336*q^18 + 78624*q^20 + O(q^22)\n",
    "),(\n",
    "12 , 1 + 72*q^2 + 1800*q^4 + 17568*q^6 + 57096*q^8 + 225072*q^10 +\n",
    "439200*q^12 + 1210176*q^14 + 1826568*q^16 + 4269096*q^18 + 5626800*q^20\n",
    "+ O(q^22) ),(\n",
    "16 , 1 + 4320*q^4 + 61440*q^6 + 522720*q^8 + 2211840*q^10 +\n",
    "8960640*q^12 + 23224320*q^14 + 67154400*q^16 + 135168000*q^18 +\n",
    "319809600*q^20 + O(q^22) ),(\n",
    "20 , 1 + 3960*q^4 + 168960*q^6 + 2094840*q^8 + 16625664*q^10 +\n",
    "80652000*q^12 + 343664640*q^14 + 1073639160*q^16 + 3299450880*q^18 +\n",
    "8000389584*q^20 + O(q^22) ),(\n",
    "24 , 1 + 3024*q^4 + 258048*q^6 + 6317136*q^8 + 71221248*q^10 +\n",
    "546017472*q^12 + 2884460544*q^14 + 12928522320*q^16 + 45777715200*q^18 +\n",
    "150505102944*q^20 + O(q^22) ),(\n",
    "28 , 1 + 1512*q^4 + 301056*q^6 + 12484584*q^8 + 230694912*q^10 +\n",
    "2429885472*q^12 + 18309722112*q^14 + 102280003560*q^16 +\n",
    "480352911360*q^18 + 1860467600880*q^20 + O(q^22) ),(\n",
    "32 , 1 + 261120*q^6 + 18947520*q^8 + 535818240*q^10 +\n",
    "8320327680*q^12 + 83347937280*q^14 + 622558664640*q^16 +\n",
    "3614759362560*q^18 + 17694184734720*q^20 + O(q^22) ),(\n",
    "36 , 1 + 164160*q^6 + 21976920*q^8 + 977474304*q^10 +\n",
    "21608709120*q^12 + 298138527360*q^14 + 2874603112920*q^16 +\n",
    "21373181544960*q^18 + 127658701983744*q^20 + O(q^22) ),(\n",
    "40 , 1 + 84480*q^6 + 20314800*q^8 + 1406896128*q^10 +\n",
    "45028515840*q^12 + 840702551040*q^14 + 10649688548400*q^16 +\n",
    "99629039431680*q^18 + 738969815384064*q^20 + O(q^22) ),(\n",
    "44 , 1 + 35904*q^6 + 15246792*q^8 + 1655292672*q^10 +\n",
    "76076470272*q^12 + 1938889332864*q^14 + 31986077222088*q^16 +\n",
    "379828874574336*q^18 + 3467936329482240*q^20 + O(q^22) ),(\n",
    "48 , 1 + 9828000*q^8 + 1610219520*q^10 + 106928640000*q^12 +\n",
    "3703504896000*q^14 + 79916509764000*q^16 + 1199318335488000*q^18 +\n",
    "13538436891033600*q^20 + O(q^22) ),(\n",
    "52 , 1 + 5012280*q^8 + 1328431104*q^10 + 126565770240*q^12 +\n",
    "5972419215360*q^14 + 168204503146680*q^16 + 3197102083768320*q^18 +\n",
    "44523365649444864*q^20 + O(q^22) ),(\n",
    "56 , 1 + 2232720*q^8 + 933101568*q^10 + 128160829440*q^12 +\n",
    "8227171860480*q^14 + 302754273388560*q^16 + 7280392836218880*q^18 +\n",
    "125216070331613184*q^20 + O(q^22) ),(\n",
    "60 , 1 + 867240*q^8 + 566894592*q^10 + 112147200000*q^12 +\n",
    "9800853258240*q^14 + 470981049814440*q^16 + 14336837814435840*q^18 +\n",
    "304364529554595840*q^20 + O(q^22) ),(\n",
    "64 , 1 + 310210560*q^10 + 85566412800*q^12 + 10193519001600*q^14 +\n",
    "639806808009600*q^16 + 24647054956339200*q^18 + 646042058490470400*q^20\n",
    "+ O(q^22) ),(\n",
    "68 , 1 + 141269184*q^10 + 57691771200*q^12 + 9335354976000*q^14 +\n",
    "765400967314200*q^16 + 37318643219625600*q^18 + 1207581862711198464*q^20\n",
    "+ O(q^22) ),(\n",
    "72 , 1 + 57915648*q^10 + 34446021120*q^12 + 7588108200960*q^14 +\n",
    "812554816898160*q^16 + 50140547941639680*q^18 + 2003107817793890304*q^20\n",
    "+ O(q^22) ),(\n",
    "76 , 1 + 21373632*q^10 + 18370981440*q^12 + 5510128239360*q^14 +\n",
    "770649113372040*q^16 + 60186880523495040*q^18 + 2968433974243019520*q^20\n",
    "+ O(q^22) ),(\n",
    "80 , 1 + 9092160000*q^12 + 3591143424000*q^14 + 656978910588000*q^16\n",
    "+ 64933015977984000*q^18 + 3953758800179865600*q^20 + O(q^22) )]"
   ]
  },
  {
   "cell_type": "code",
   "execution_count": 69,
   "metadata": {
    "collapsed": false
   },
   "outputs": [
    {
     "data": {
      "text/plain": []
     },
     "execution_count": 69,
     "metadata": {},
     "output_type": "execute_result"
    }
   ],
   "source": [
    "R = RealField(200); \n",
    "L=[0*i for i in range(0,len(L2))]\n",
    "for j in range(0,6):\n",
    "    L[j] = line([(10*log(snr,10),(theta3(10)**L2[j][0])(q=e^(-R(pi)*snr*sqrt(2.0)))/L2[j][1].truncate(40)(q=e^(-R(pi)*snr)) ) for snr in [i*(0.01) for i in range(20,300)] ],gridlines=True)\n",
    "P = L[0]+L[1]+L[2]+L[3]+L[4]\n",
    "P.save('l2_dim8_12_16_20_24.png')"
   ]
  },
  {
   "cell_type": "markdown",
   "metadata": {},
   "source": [
    "<p>We compute the symmetry point, and the secrecy gain for the largest dimension.</p>"
   ]
  },
  {
   "cell_type": "code",
   "execution_count": 28,
   "metadata": {
    "collapsed": false
   },
   "outputs": [
    {
     "data": {
      "text/plain": [
       "-1.50514997831991 408.840270452132"
      ]
     },
     "execution_count": 28,
     "metadata": {},
     "output_type": "execute_result"
    }
   ],
   "source": [
    "sp2 = 10*log(1/sqrt(2.0),10)\n",
    "snr2 = 1/sqrt(2.0)\n",
    "sg2 = (theta3(10)**L2[len(L2)-1][0])(q=e^(-R(pi)*snr2*sqrt(2.0)))/L2[len(L2)-1][1].truncate(40)(q=e^(-R(pi)*snr2))\n",
    "print sp2, sg2"
   ]
  },
  {
   "cell_type": "markdown",
   "metadata": {},
   "source": [
    "<p>We compute the secrecy gains for all the dimensions.</p>"
   ]
  },
  {
   "cell_type": "code",
   "execution_count": 29,
   "metadata": {
    "collapsed": false
   },
   "outputs": [
    {
     "data": {
      "text/plain": [
       "[(8, 1.17410387776836),\n",
       " (12, 1.27221286690191),\n",
       " (16, 2.20563186526554),\n",
       " (20, 2.81168952543272),\n",
       " (24, 3.69948703753252),\n",
       " (28, 5.10187862601113),\n",
       " (32, 7.34311251334145),\n",
       " (36, 10.0108159932432),\n",
       " (40, 13.8258463013556),\n",
       " (44, 19.2097069187744),\n",
       " (48, 26.9523678766376),\n",
       " (52, 37.3698836775058),\n",
       " (56, 51.9799334818195),\n",
       " (60, 72.4498477070877),\n",
       " (64, 101.392259925365),\n",
       " (68, 141.939037487267),\n",
       " (72, 199.964256599310),\n",
       " (76, 284.207739663152),\n",
       " (80, 408.840270452132)]"
      ]
     },
     "execution_count": 29,
     "metadata": {},
     "output_type": "execute_result"
    }
   ],
   "source": [
    "R = RealField(200); \n",
    "Lsg2=[0*i for i in range(0,len(L2))]\n",
    "for j in range(0,len(L2)):\n",
    "    Lsg2[j] = (L2[j][0],(theta3(10)**L2[j][0])(q=e^(-R(pi)*snr2*sqrt(2.0)))/L2[j][1].truncate(40)(q=e^(-R(pi)*snr2))) \n",
    "Lsg2"
   ]
  },
  {
   "cell_type": "code",
   "execution_count": 18,
   "metadata": {
    "collapsed": false
   },
   "outputs": [
    {
     "data": {
      "text/plain": []
     },
     "execution_count": 18,
     "metadata": {},
     "output_type": "execute_result"
    }
   ],
   "source": [
    "R = RealField(200); \n",
    "L=[0*i for i in range(0,len(L2))]\n",
    "for j in range(6,11):\n",
    "    L[j] = line([(10*log(snr,10),(theta3(10)**L2[j][0])(q=e^(-R(pi)*snr*sqrt(2.0)))/L2[j][1].truncate(40)(q=e^(-R(pi)*snr)) ) for snr in [i*(0.01) for i in range(30,300)] ],gridlines=True)\n",
    "P=L[6]+L[7]+L[8]+L[9]+L[10]\n",
    "P.save('l2_dim32_36_40_44_48.png')"
   ]
  },
  {
   "cell_type": "markdown",
   "metadata": {},
   "source": [
    "<p><span style=\"font-size: xx-large; background-color: #ff99cc;\">$l=3$</span></p>"
   ]
  },
  {
   "cell_type": "code",
   "execution_count": 2,
   "metadata": {
    "collapsed": false
   },
   "outputs": [
    {
     "data": {
      "text/plain": []
     },
     "execution_count": 2,
     "metadata": {},
     "output_type": "execute_result"
    }
   ],
   "source": [
    "R.<q> = PowerSeriesRing(ZZ, default_prec=10)\n",
    "L3=[]\n",
    "L3=[(4 , 1 + 12*q^2 + 36*q^4 + 12*q^6 + 84*q^8 + 72*q^10 + 36*q^12 + 96*q^14 + 180*q^16 + 12*q^18 + 216*q^20 + O(q^22) ), (\n",
    "6 , 1 + 18*q^2 + 108*q^4 + 234*q^6 + 234*q^8 + + 864*q^10 + 756*q^12 + 900*q^14 + 1836*q^16 + 2178*q^18 + 1296*q^20 + O(q^22) ), (\n",
    "8 , 1 + 24*q^2 + 216*q^4 + 888*q^6 + 1752*q^8 + 3024*q^10 +\n",
    "7992*q^12 + 8256*q^14 + 14040*q^16 + 24216*q^18 + 27216*q^20 + O(q^22) ),(\n",
    "10 , 1 + 30*q^2 + 360*q^4 + 2190*q^6 + 7230*q^8 + 14976*q^10 +\n",
    "32760*q^12 + 72060*q^14 + 92520*q^16 + 177150*q^18 + 280800*q^20 +\n",
    "O(q^22) ),(\n",
    "12 , 1 + 756*q^4 + 4032*q^6 + 20412*q^8 + 60480*q^10 + 139860*q^12 +\n",
    "O(q^13) ),(\n",
    "14 , 1 + 756*q^4 + 8736*q^6 + 44226*q^8 + 187488*q^10 + 531468*q^12\n",
    "+ O(q^13) ),(\n",
    "16 , 1 + 720*q^4 + 13440*q^6 + 97200*q^8 + 455040*q^10 +\n",
    "1714320*q^12 + O(q^13) ),(\n",
    "18 , 1 + 648*q^4 + 17712*q^6 + 179334*q^8 + 1043280*q^10 +\n",
    "4517208*q^12 + O(q^13) ),(\n",
    "20 , 1 + 540*q^4 + 21120*q^6 + 286740*q^8 + 2132352*q^10 +\n",
    "10878300*q^12 + O(q^13) ),(\n",
    "22 , 1 + 396*q^4 + 23232*q^6 + 411642*q^8 + 3871296*q^10 +\n",
    "23845140*q^12 + O(q^13) ),(\n",
    "24 , 1 + 26208*q^6 + 530712*q^8 + 6368544*q^10 + 47331648*q^12 +\n",
    "O(q^13) ),(\n",
    "26 , 1 + 21840*q^6 + 663390*q^8 + 9552816*q^10 + 85700160*q^12 +\n",
    "O(q^13) ),(\n",
    "28 , 1 + 17472*q^6 + 741636*q^8 + 13390272*q^10 + 143148096*q^12 +\n",
    "O(q^13) ),(\n",
    "30 , 1 + 13320*q^6 + 765450*q^8 + 17373528*q^10 + 222765120*q^12 +\n",
    "O(q^13) ),(\n",
    "32 , 1 + 9600*q^6 + 738720*q^8 + 20995200*q^10 + 323447040*q^12 +\n",
    "O(q^13) ),(\n",
    "34 , 1 + 6528*q^6 + 669222*q^8 + 23794560*q^10 + 439895808*q^12 +\n",
    "O(q^13) ),(\n",
    "36 , 1 + 646380*q^8 + 24820992*q^10 + 565367040*q^12 + O(q^13) ),(\n",
    "40 , 1 + 360360*q^8 + 24482304*q^10 + 779486400*q^12 + O(q^13) ),(\n",
    "44 , 1 + 173844*q^8 + 19160064*q^10 + 880051392*q^12 + O(q^13) ),(\n",
    "48 , 1 + 14152320*q^10 + 805896000*q^12 + O(q^13) ),(\n",
    "52 , 1 + 7115472*q^10 + 650482560*q^12 + O(q^13) ),(\n",
    "56 , 1 + 3193344*q^10 + 439780320*q^12 + O(q^13) ),(\n",
    "60 , 1 + 294356160*q^12 + O(q^13) ),(\n",
    "64 , 1 + 138458880*q^12 + O(q^13) ),(\n",
    "68 , 1 + 59324832*q^12 + O(q^13) )]"
   ]
  },
  {
   "cell_type": "code",
   "execution_count": 70,
   "metadata": {
    "collapsed": false
   },
   "outputs": [
    {
     "data": {
      "text/plain": []
     },
     "execution_count": 70,
     "metadata": {},
     "output_type": "execute_result"
    }
   ],
   "source": [
    "R = RealField(200); \n",
    "L=[0*i for i in range(0,len(L3))]\n",
    "for j in range(0,4):\n",
    "    L[j] = line([(10*log(snr,10),(theta3(10)**L3[j][0])(q=e^(-R(pi)*snr*sqrt(3.0)))/L3[j][1].truncate(40)(q=e^(-R(pi)*snr)) ) for snr in [i*(0.01) for i in range(18,300)] ],gridlines=True)\n",
    "show(L[0]+L[1]+L[2]+L[3])"
   ]
  },
  {
   "cell_type": "markdown",
   "metadata": {},
   "source": [
    "<p>We compute the symmetry point.</p>"
   ]
  },
  {
   "cell_type": "code",
   "execution_count": 27,
   "metadata": {
    "collapsed": false
   },
   "outputs": [
    {
     "data": {
      "text/plain": [
       "-2.38560627359831"
      ]
     },
     "execution_count": 27,
     "metadata": {},
     "output_type": "execute_result"
    }
   ],
   "source": [
    "10*log(1/sqrt(3.0),10)"
   ]
  },
  {
   "cell_type": "markdown",
   "metadata": {},
   "source": [
    "<p>We compute the secrecy gains for all dimensions.</p>"
   ]
  },
  {
   "cell_type": "code",
   "execution_count": 34,
   "metadata": {
    "collapsed": false
   },
   "outputs": [
    {
     "data": {
      "text/plain": [
       "[(4, 1.03610035533730),\n",
       " (6, 1.05463634502544),\n",
       " (8, 1.07350394633017),\n",
       " (10, 1.09270909183336),\n",
       " (12, 1.66839005589934),\n",
       " (14, 1.85263348496772),\n",
       " (16, 2.07439466633825),\n",
       " (18, 2.34625291308239),\n",
       " (20, 2.68715132688271),\n",
       " (22, 3.12707214224509),\n",
       " (24, 3.93540920240693),\n",
       " (26, 4.54730044219185),\n",
       " (28, 5.28879298782093),\n",
       " (30, 6.19485846185629),\n",
       " (32, 7.31070898498036),\n",
       " (34, 8.69258326273837),\n",
       " (36, 10.6821050127287),\n",
       " (40, 15.4823926077998),\n",
       " (44, 23.2453075611330),\n",
       " (48, 36.3316599878072),\n",
       " (52, 56.2826430705642),\n",
       " (56, 86.6860836582169),\n",
       " (60, 131.017725322748),\n",
       " (64, 192.102020627847),\n",
       " (68, 274.952750535550)]"
      ]
     },
     "execution_count": 34,
     "metadata": {},
     "output_type": "execute_result"
    }
   ],
   "source": [
    "R = RealField(200); \n",
    "snr3 = 1/sqrt(3.0)\n",
    "Lsg3=[0*i for i in range(0,len(L3))]\n",
    "for j in range(0,len(L3)):\n",
    "    Lsg3[j] = (L3[j][0],(theta3(10)**L3[j][0])(q=e^(-R(pi)*snr3*sqrt(3.0)))/L3[j][1].truncate(40)(q=e^(-R(pi)*snr3))) \n",
    "Lsg3"
   ]
  },
  {
   "cell_type": "markdown",
   "metadata": {},
   "source": [
    "<p><span style=\"font-size: xx-large; background-color: #ff99cc;\">$l=5$</span></p>"
   ]
  },
  {
   "cell_type": "code",
   "execution_count": 3,
   "metadata": {
    "collapsed": false
   },
   "outputs": [
    {
     "data": {
      "text/plain": []
     },
     "execution_count": 3,
     "metadata": {},
     "output_type": "execute_result"
    }
   ],
   "source": [
    "R.<q> = PowerSeriesRing(ZZ, default_prec=10)\n",
    "L5=[]\n",
    "L5=[(8 , 1 + 120*q^4 + 240*q^6 + 600*q^8 + 1440*q^10 + 2400*q^12 + 3120*q^14 + 5400*q^16 + 7200*q^18 + O(q^28)  ),\n",
    "(12 , 1 + 126*q^4 + 1008*q^6 + 4410*q^8 + 12096*q^10 + 32760*q^12 + 67536*q^14 + 137970*q^16 + 241920*q^18 + O(q^28) ),\n",
    "(16 , 1 + 2400*q^6 + 10800*q^8 + 60480*q^10 + 223200*q^12 + 626400*q^14 + 1609200*q^16 + 3681600*q^18 + O(q^28)),\n",
    "(20 , 1 + 1740*q^6 + 22590*q^8 + 164736*q^10 + 847440*q^12 + O(q^13)),\n",
    "(24 , 1 + 37800*q^8 + 241920*q^10 + 2293200*q^12 + O(q^13) ),\n",
    "(28 , 1 + 23310*q^8 + 374976*q^10 + 3993360*q^12 + O(q^13) ),\n",
    "(32 , 1 + 552960*q^10 + 4152000*q^12 + O(q^13) ),\n",
    "(36 , 1 + 310716*q^10 + 5537700*q^12 + O(q^13) ),\n",
    "(40 , 1 + 7854000*q^12 + O(q^13) ),\n",
    "(44 , 1 + 4156284*q^12 + O(q^13) )]"
   ]
  },
  {
   "cell_type": "code",
   "execution_count": 71,
   "metadata": {
    "collapsed": false
   },
   "outputs": [
    {
     "data": {
      "text/plain": []
     },
     "execution_count": 71,
     "metadata": {},
     "output_type": "execute_result"
    }
   ],
   "source": [
    "R = RealField(200); \n",
    "L=[0*i for i in range(0,len(L5))]\n",
    "for j in range(0,3):\n",
    "    L[j] = line([(10*log(snr,10),(theta3(10)**L5[j][0])(q=e^(-R(pi)*snr*sqrt(5.0)))/L5[j][1].truncate(40)(q=e^(-R(pi)*snr)) ) for snr in [i*(0.01) for i in range(20,300)] ],gridlines=True)\n",
    "show(L[0]+L[1]+L[2])"
   ]
  },
  {
   "cell_type": "code",
   "execution_count": 26,
   "metadata": {
    "collapsed": false
   },
   "outputs": [
    {
     "data": {
      "text/plain": [
       "-3.49485002168009"
      ]
     },
     "execution_count": 26,
     "metadata": {},
     "output_type": "execute_result"
    }
   ],
   "source": [
    "10*log(1/sqrt(5.0),10)"
   ]
  },
  {
   "cell_type": "markdown",
   "metadata": {},
   "source": [
    "<p>We compute the secrecy gains for all dimensions.</p>"
   ]
  },
  {
   "cell_type": "code",
   "execution_count": 36,
   "metadata": {
    "collapsed": false
   },
   "outputs": [
    {
     "data": {
      "text/plain": [
       "[(8, 1.29699014311406),\n",
       " (12, 1.54873042901311),\n",
       " (16, 2.18233560402147),\n",
       " (20, 2.84128605481637),\n",
       " (24, 4.06849420320518),\n",
       " (28, 5.68134297564759),\n",
       " (32, 8.67975173139095),\n",
       " (36, 13.0992287248336),\n",
       " (40, 20.0495071395879),\n",
       " (44, 32.0405619805763)]"
      ]
     },
     "execution_count": 36,
     "metadata": {},
     "output_type": "execute_result"
    }
   ],
   "source": [
    "R = RealField(200); \n",
    "snr5 = 1/sqrt(5.0)\n",
    "Lsg5=[0*i for i in range(0,len(L5))]\n",
    "for j in range(0,len(L5)):\n",
    "    Lsg5[j] = (L5[j][0],(theta3(10)**L5[j][0])(q=e^(-R(pi)*snr5*sqrt(5.0)))/L5[j][1].truncate(40)(q=e^(-R(pi)*snr5)) )\n",
    "Lsg5"
   ]
  },
  {
   "cell_type": "markdown",
   "metadata": {},
   "source": [
    "<p><span style=\"font-size: xx-large; background-color: #ff99cc;\">$l=6$</span></p>"
   ]
  },
  {
   "cell_type": "code",
   "execution_count": 4,
   "metadata": {
    "collapsed": false
   },
   "outputs": [
    {
     "data": {
      "text/plain": []
     },
     "execution_count": 4,
     "metadata": {},
     "output_type": "execute_result"
    }
   ],
   "source": [
    "R.<q> = PowerSeriesRing(ZZ, default_prec=10)\n",
    "L6=[]\n",
    "#here there are two sets of theta series\n",
    "L6=[(8 , 1 + 72*q^4 + 192*q^6 + 504*q^8 + 576*q^10 + 2280*q^12 + 1728*q^14 + 4248*q^16 + 4800*q^18 + O(q^22) \n",
    "),(\n",
    "12 , 1 + 54*q^4 + 720*q^6 + 1998*q^8 + 8208*q^10 + 17514*q^12 + 42768*q^14 + 65070*q^16 + 169200*q^18 + O(q^22)),(\n",
    "16 , 1 + 960*q^6 + 6480*q^8 + 25920*q^10 + 113280*q^12  + 285120*q^14 + 822960*q^16 + 1705920*q^18 + O(q^22)),(\n",
    "20 , 1 + 660*q^6 + 8910*q^8 + 67716*q^10 + 335280*q^12 + O(q^13) ),(\n",
    "24 , 1 + 10584*q^8 + 96768*q^10 + 737856*q^12 + O(q^13) ),(\n",
    "28 , 1 + 5670*q^8 + 108864*q^10 + 1103760*q^12 + O(q^13) ),(\n",
    "32 , 1 + 103680*q^10 + 1238400*q^12 + O(q^13) ),(\n",
    "36 , 1 + 51516*q^10 + 1129140*q^12 + O(q^13) ),(\n",
    "40 , 1 + 997920*q^12 + O(q^13) ),(\n",
    "44 , 1 + 463716*q^12 + O(q^13) ),(8 , 1 + 72*q^4 + 192*q^6 + 504*q^8 + 576*q^10 + 2280*q^12 + O(q^13)\n",
    "),(\n",
    "12 , 1 + 84*q^4 + 448*q^6 + 2940*q^8 + 6720*q^10 + 19124*q^12 +\n",
    "O(q^13) ),(\n",
    "16 , 1 + 960*q^6 + 6480*q^8 + 25920*q^10 + 113280*q^12 + O(q^13) ),(\n",
    "20 , 1 + 640*q^6 + 9180*q^8 + 65664*q^10 + 348800*q^12 + O(q^13) ),(\n",
    "24 , 1 + 10584*q^8 + 96768*q^10 + 737856*q^12 + O(q^13) ),(\n",
    "28 , 1 + 6020*q^8 + 103936*q^10 + 1135680*q^12 + O(q^13) ),(\n",
    "32 , 1 + 103680*q^10 + 1238400*q^12 + O(q^13) ),(\n",
    "36 , 1 + 53424*q^10 + 1102080*q^12 + O(q^13) ),(\n",
    "40 , 1 + 997920*q^12 + O(q^13) ),(\n",
    "44 , 1 + 481536*q^12 + O(q^13) )]"
   ]
  },
  {
   "cell_type": "code",
   "execution_count": 72,
   "metadata": {
    "collapsed": false
   },
   "outputs": [
    {
     "data": {
      "text/plain": []
     },
     "execution_count": 72,
     "metadata": {},
     "output_type": "execute_result"
    }
   ],
   "source": [
    "R = RealField(200); \n",
    "L=[0*i for i in range(0,len(L5))]\n",
    "for j in range(0,3):\n",
    "    L[j] = line([(10*log(snr,10),(theta3(10)**L6[j][0])(q=e^(-R(pi)*snr*sqrt(6.0)))/L6[j][1].truncate(40)(q=e^(-R(pi)*snr)) ) for snr in [i*(0.01) for i in range(20,300)] ],gridlines=True)\n",
    "show(L[0]+L[1]+L[2])"
   ]
  },
  {
   "cell_type": "code",
   "execution_count": 25,
   "metadata": {
    "collapsed": false
   },
   "outputs": [
    {
     "data": {
      "text/plain": [
       "-3.89075625191822"
      ]
     },
     "execution_count": 25,
     "metadata": {},
     "output_type": "execute_result"
    }
   ],
   "source": [
    "10*log(1/sqrt(6.0),10)"
   ]
  },
  {
   "cell_type": "markdown",
   "metadata": {},
   "source": [
    "<p>We compute the secrecy gains for all dimensions.</p>"
   ]
  },
  {
   "cell_type": "code",
   "execution_count": 38,
   "metadata": {
    "collapsed": false
   },
   "outputs": [
    {
     "data": {
      "text/plain": [
       "[(8, 1.26619645091434),\n",
       " (12, 1.55111910381996),\n",
       " (16, 2.13771064516831),\n",
       " (20, 2.81643245399610),\n",
       " (24, 4.10027243329783),\n",
       " (28, 5.92395522365662),\n",
       " (32, 9.24496999294425),\n",
       " (36, 14.4099702909642),\n",
       " (40, 22.8348609921443),\n",
       " (44, 35.0233154488461),\n",
       " (8, 1.26622384361356),\n",
       " (12, 1.48125678418812),\n",
       " (16, 2.14465583503537),\n",
       " (20, 2.82002681754229),\n",
       " (24, 4.10027243329783),\n",
       " (28, 5.90475746201462),\n",
       " (32, 9.24496999294425),\n",
       " (36, 14.4148670699685),\n",
       " (40, 22.8348609921443),\n",
       " (44, 34.9058393072533)]"
      ]
     },
     "execution_count": 38,
     "metadata": {},
     "output_type": "execute_result"
    }
   ],
   "source": [
    "R = RealField(200); \n",
    "snr6 = 1/sqrt(6.0)\n",
    "Lsg6=[0*i for i in range(0,len(L6))]\n",
    "for j in range(0,len(L6)):\n",
    "    Lsg6[j] = (L6[j][0],(theta3(10)**L6[j][0])(q=e^(-R(pi)*snr6*sqrt(6.0)))/L6[j][1].truncate(40)(q=e^(-R(pi)*snr6)) )\n",
    "Lsg6"
   ]
  },
  {
   "cell_type": "markdown",
   "metadata": {},
   "source": [
    "<p><span style=\"font-size: xx-large; background-color: #ff99cc;\">$l=7$</span></p>"
   ]
  },
  {
   "cell_type": "code",
   "execution_count": 5,
   "metadata": {
    "collapsed": false
   },
   "outputs": [
    {
     "data": {
      "text/plain": []
     },
     "execution_count": 5,
     "metadata": {},
     "output_type": "execute_result"
    }
   ],
   "source": [
    "R.<q> = PowerSeriesRing(ZZ, default_prec=10)\n",
    "L7=[]\n",
    "L7=[(4, 1 + 4*q^2 + 12*q^4 + 16*q^6 + 28*q^8 + 24*q^10 + 48*q^12 + 4*q^14 +\n",
    "60*q^16 + 52*q^18 + 72*q^20 + O(q^22)),\n",
    "(6 , 1 + 42*q^4 + 56*q^6 + 84*q^8 + 168*q^10 + 280*q^12 + 336*q^14 +\n",
    "462*q^16 + 336*q^18 + O(q^22)  ),(\n",
    "8 , 1 + 48*q^4 + 144*q^6 + 384*q^8 + 528*q^10 + 1200*q^12 + 1920*q^14 + 2736*q^16 + 3744*q^18 + O(q^22) \n",
    "),(10 , 1 + 50*q^4 + 240*q^6 + 900*q^8 + 1872*q^10 + 4080*q^12 +O(q^13) ),\n",
    "(12 , 1 + 616*q^6 + 1176*q^8 + 4200*q^10 + 13272*q^12 + O(q^13) ),\n",
    "(14 , 1 + 560*q^6 + 2394*q^8 + 9072*q^10 + 26824*q^12 + O(q^13) ),(\n",
    "16 , 1 + 480*q^6 + 3360*q^8 + 15840*q^10 + 55200*q^12 + O(q^13) ),(\n",
    "18 , 1 + 7434*q^8 + 13104*q^10 + 104496*q^12 + O(q^13) ),(\n",
    "20 , 1 + 6160*q^8 + 27104*q^10 + 157080*q^12 + O(q^13) ),(\n",
    "22 , 1 + 4906*q^8 + 35904*q^10 + 225368*q^12 + O(q^13) ),(\n",
    "24 , 1 + 84672*q^10 + 91728*q^12 + O(q^13) ),(\n",
    "26 , 1 + 66612*q^10 + 256620*q^12 + O(q^13) ),(\n",
    "28 , 1 + 50848*q^10 + 348264*q^12 + O(q^13) ),(\n",
    "30 , 1 + 944720*q^12 + O(q^13) ),(\n",
    "32 , 1 + 719040*q^12 + O(q^13) ),(\n",
    "34 , 1 + 534072*q^12 + O(q^13) )]"
   ]
  },
  {
   "cell_type": "code",
   "execution_count": 73,
   "metadata": {
    "collapsed": false
   },
   "outputs": [
    {
     "data": {
      "text/plain": []
     },
     "execution_count": 73,
     "metadata": {},
     "output_type": "execute_result"
    }
   ],
   "source": [
    "R = RealField(200); \n",
    "L=[0*i for i in range(0,len(L7))]\n",
    "for j in range(0,3):\n",
    "    L[j] = line([(10*log(snr,10),(theta3(10)**L7[j][0])(q=e^(-R(pi)*snr*sqrt(7.0)))/L7[j][1].truncate(40)(q=e^(-R(pi)*snr)) ) for snr in [i*(0.01) for i in range(10,300)] ],gridlines=True)\n",
    "show(L[0]+L[1]+L[2])"
   ]
  },
  {
   "cell_type": "code",
   "execution_count": 24,
   "metadata": {
    "collapsed": false
   },
   "outputs": [
    {
     "data": {
      "text/plain": [
       "-4.22549020007128"
      ]
     },
     "execution_count": 24,
     "metadata": {},
     "output_type": "execute_result"
    }
   ],
   "source": [
    "10*log(1/sqrt(7.0),10)"
   ]
  },
  {
   "cell_type": "markdown",
   "metadata": {},
   "source": [
    "<p>We compute the secrecy gains for all dimensions.</p>"
   ]
  },
  {
   "cell_type": "code",
   "execution_count": 40,
   "metadata": {
    "collapsed": false
   },
   "outputs": [
    {
     "data": {
      "text/plain": [
       "[(4, 0.934308088166843),\n",
       " (6, 1.16112679066250),\n",
       " (8, 1.24048199122864),\n",
       " (10, 1.34051954155635),\n",
       " (12, 1.66727983818128),\n",
       " (14, 1.86571730071328),\n",
       " (16, 2.11146417687778),\n",
       " (18, 2.59162594961600),\n",
       " (20, 2.99576593981754),\n",
       " (22, 3.51264381322524),\n",
       " (24, 4.43336964412975),\n",
       " (26, 5.29371401574958),\n",
       " (28, 6.44784540275033),\n",
       " (30, 7.45800699280051),\n",
       " (32, 9.68143631704078),\n",
       " (34, 12.4452652369373)]"
      ]
     },
     "execution_count": 40,
     "metadata": {},
     "output_type": "execute_result"
    }
   ],
   "source": [
    "R = RealField(200); \n",
    "snr7 = 1/sqrt(7.0)\n",
    "Lsg7=[0*i for i in range(0,len(L7))]\n",
    "for j in range(0,len(L7)):\n",
    "    Lsg7[j] = (L7[j][0],(theta3(10)**L7[j][0])(q=e^(-R(pi)*snr7*sqrt(7.0)))/L7[j][1].truncate(40)(q=e^(-R(pi)*snr7)) )\n",
    "Lsg7"
   ]
  },
  {
   "cell_type": "markdown",
   "metadata": {},
   "source": [
    "<p><span style=\"font-size: xx-large; background-color: #ff99cc;\">$l=11$</span></p>"
   ]
  },
  {
   "cell_type": "code",
   "execution_count": 6,
   "metadata": {
    "collapsed": false
   },
   "outputs": [
    {
     "data": {
      "text/plain": []
     },
     "execution_count": 6,
     "metadata": {},
     "output_type": "execute_result"
    }
   ],
   "source": [
    "R.<q> = PowerSeriesRing(ZZ, default_prec=10)\n",
    "L11=[]\n",
    "L11=[(4 , 1 + 12*q^4 + 12*q^6 + 12*q^8 + 12*q^10 + 24*q^12 + O(q^13) ),(\n",
    "6 , 1 + 12*q^4 + 50*q^6 + 30*q^8 + 90*q^10 + 120*q^12 + O(q^13) ),(\n",
    "8 , 1 + 120*q^6 + 120*q^8 + 120*q^10 + 600*q^12 + O(q^13) ),(\n",
    "10 , 1 + 110*q^6 + 330*q^8 + 462*q^10 + 1320*q^12 + O(q^13) ),(\n",
    "12 , 1 + 1044*q^8 + 288*q^10 + 1908*q^12 + O(q^13) ),(\n",
    "14 , 1 + 854*q^8 + 2184*q^10 + 2996*q^12 + O(q^13) ),(\n",
    "16 , 1 + 8640*q^10 - 6000*q^12 + O(q^13) ),(\n",
    "18 , 1 + 6732*q^10 + 10560*q^12 + O(q^13) )]\n",
    "R = RealField(200); \n",
    "L=[0*i for i in range(0,len(L11))]\n",
    "for j in range(0,len(L11)):\n",
    "    L[j] = line([(10*log(snr,10),(theta3(10)**L11[j][0])(q=e^(-R(pi)*snr*sqrt(11.0)))/L11[j][1].truncate(40)(q=e^(-R(pi)*snr)) ) for snr in [i*(0.01) for i in range(10,300)] ],gridlines=True)\n",
    "show(L[0]+L[1])"
   ]
  },
  {
   "cell_type": "code",
   "execution_count": 23,
   "metadata": {
    "collapsed": false
   },
   "outputs": [
    {
     "data": {
      "text/plain": [
       "-5.20696342579113"
      ]
     },
     "execution_count": 23,
     "metadata": {},
     "output_type": "execute_result"
    }
   ],
   "source": [
    "10*log(1/sqrt(11.0),10)"
   ]
  },
  {
   "cell_type": "markdown",
   "metadata": {},
   "source": [
    "<p>We compute the secrecy gains for all dimensions.</p>"
   ]
  },
  {
   "cell_type": "code",
   "execution_count": 42,
   "metadata": {
    "collapsed": false
   },
   "outputs": [
    {
     "data": {
      "text/plain": [
       "[(4, 1.05576807829855),\n",
       " (6, 1.12232906165442),\n",
       " (8, 1.30634643555445),\n",
       " (10, 1.43737398939708),\n",
       " (12, 1.71322678377175),\n",
       " (14, 1.94661200919659),\n",
       " (16, 2.36140988370374),\n",
       " (18, 2.71107706714450)]"
      ]
     },
     "execution_count": 42,
     "metadata": {},
     "output_type": "execute_result"
    }
   ],
   "source": [
    "R = RealField(200); \n",
    "snr11 = 1/sqrt(11.0)\n",
    "Lsg11=[0*i for i in range(0,len(L11))]\n",
    "for j in range(0,len(L11)):\n",
    "    Lsg11[j] = (L11[j][0],(theta3(10)**L11[j][0])(q=e^(-R(pi)*snr11*sqrt(11.0)))/L11[j][1].truncate(40)(q=e^(-R(pi)*snr11))) \n",
    "Lsg11"
   ]
  },
  {
   "cell_type": "markdown",
   "metadata": {},
   "source": [
    "<p><span style=\"font-size: xx-large; background-color: #ff99cc;\">$l=14$</span></p>"
   ]
  },
  {
   "cell_type": "code",
   "execution_count": 7,
   "metadata": {
    "collapsed": false
   },
   "outputs": [
    {
     "data": {
      "text/plain": []
     },
     "execution_count": 7,
     "metadata": {},
     "output_type": "execute_result"
    }
   ],
   "source": [
    "R.<q> = PowerSeriesRing(ZZ, default_prec=10)\n",
    "L14=[]\n",
    "L14=[(8 , 1 + 48*q^6 + 144*q^8 + 48*q^10 + 336*q^12 + 384*q^14 + 864*q^16+ 864*q^18 + O(q^22)  ),(\n",
    "12 , 1 + 336*q^8 + 672*q^10 + 1064*q^12 + 2688*q^14 + 7560*q^16 + 9632*q^18 + O(q^22) ),(\n",
    "16 , 1 + 1920*q^10 + 4320*q^12 + 3840*q^14 + 30240*q^16 + 67200*q^18+ O(q^22) ),(\n",
    "20 , 1 + 11480*q^12 + 19200*q^14 + 24360*q^16 + 224000*q^18 + O(q^22))]\n",
    "R = RealField(200); \n",
    "L=[0*i for i in range(0,len(L14))]\n",
    "for j in range(0,len(L14)):\n",
    "    L[j] = line([(10*log(snr,10),(theta3(10)**L14[j][0])(q=e^(-R(pi)*snr*sqrt(14.0)))/L14[j][1].truncate(40)(q=e^(-R(pi)*snr)) ) for snr in [i*(0.01) for i in range(10,300)] ],gridlines=True)\n",
    "show(L[0])"
   ]
  },
  {
   "cell_type": "code",
   "execution_count": 22,
   "metadata": {
    "collapsed": false
   },
   "outputs": [
    {
     "data": {
      "text/plain": [
       "-5.73064017839119"
      ]
     },
     "execution_count": 22,
     "metadata": {},
     "output_type": "execute_result"
    }
   ],
   "source": [
    "10*log(1/sqrt(14.0),10)"
   ]
  },
  {
   "cell_type": "markdown",
   "metadata": {},
   "source": [
    "<p>We compute the secrecy gains for all dimensions.</p>"
   ]
  },
  {
   "cell_type": "code",
   "execution_count": 44,
   "metadata": {
    "collapsed": false
   },
   "outputs": [
    {
     "data": {
      "text/plain": [
       "[(8, 1.28103401682433),\n",
       " (12, 1.65104747837729),\n",
       " (16, 2.20580051821853),\n",
       " (20, 3.03250727662081)]"
      ]
     },
     "execution_count": 44,
     "metadata": {},
     "output_type": "execute_result"
    }
   ],
   "source": [
    "R = RealField(200); \n",
    "snr14 = 1/sqrt(14.0)\n",
    "Lsg14=[0*i for i in range(0,len(L14))]\n",
    "for j in range(0,len(L14)):\n",
    "    Lsg14[j] = (L14[j][0],(theta3(10)**L14[j][0])(q=e^(-R(pi)*snr14*sqrt(14.0)))/L14[j][1].truncate(40)(q=e^(-R(pi)*snr14))) \n",
    "Lsg14"
   ]
  },
  {
   "cell_type": "markdown",
   "metadata": {},
   "source": [
    "<p><span style=\"font-size: xx-large; background-color: #ff99cc;\">$l=15$</span></p>"
   ]
  },
  {
   "cell_type": "code",
   "execution_count": 8,
   "metadata": {
    "collapsed": false
   },
   "outputs": [
    {
     "data": {
      "text/plain": []
     },
     "execution_count": 8,
     "metadata": {},
     "output_type": "execute_result"
    }
   ],
   "source": [
    "R.<q> = PowerSeriesRing(ZZ, default_prec=10)\n",
    "L15=[]\n",
    "L15=[(8 , 1 + 48*q^6 + 72*q^8 + 144*q^10 + 288*q^12 + 288*q^14 + 576*q^16 + 912*q^18 + O(q^22) ),(\n",
    "12 , 1 + 270*q^8 + 432*q^10 + 1260*q^12 + 2160*q^14 + 4860*q^16 + 10080*q^18 + O(q^22)  ),(\n",
    "16 , 1 + 1440*q^10 + 2400*q^12 + 7200*q^14 + 18000*q^16 + 48000*q^18 + O(q^22) ),(\n",
    "20 , 1 + 7860*q^12 + 9720*q^14 + 42930*q^16 + 126960*q^18 + O(q^22) )]\n",
    "R = RealField(200); \n",
    "L=[0*i for i in range(0,len(L15))]\n",
    "for j in range(0,len(L15)):\n",
    "    L[j] = line([(10*log(snr,10),(theta3(10)**L15[j][0])(q=e^(-R(pi)*snr*sqrt(15.0)))/L15[j][1].truncate(40)(q=e^(-R(pi)*snr)) ) for snr in [i*(0.01) for i in range(10,300)] ],gridlines=True)\n",
    "show(L[0]+L[1])"
   ]
  },
  {
   "cell_type": "code",
   "execution_count": 21,
   "metadata": {
    "collapsed": false
   },
   "outputs": [
    {
     "data": {
      "text/plain": [
       "-5.88045629527841"
      ]
     },
     "execution_count": 21,
     "metadata": {},
     "output_type": "execute_result"
    }
   ],
   "source": [
    "10*log(1/sqrt(15.0),10)"
   ]
  },
  {
   "cell_type": "markdown",
   "metadata": {},
   "source": [
    "<p>We compute all the secrecy gains for all dimensions.</p>"
   ]
  },
  {
   "cell_type": "code",
   "execution_count": 46,
   "metadata": {
    "collapsed": false
   },
   "outputs": [
    {
     "data": {
      "text/plain": [
       "[(8, 1.25692830085922),\n",
       " (12, 1.63331505155184),\n",
       " (16, 2.18797684818377),\n",
       " (20, 3.02293502788966)]"
      ]
     },
     "execution_count": 46,
     "metadata": {},
     "output_type": "execute_result"
    }
   ],
   "source": [
    "R = RealField(200); \n",
    "snr15 = 1/sqrt(15.0)\n",
    "Lsg15=[0*i for i in range(0,len(L15))]\n",
    "for j in range(0,len(L15)):\n",
    "    Lsg15[j] = (L15[j][0],(theta3(10)**L15[j][0])(q=e^(-R(pi)*snr15*sqrt(15.0)))/L15[j][1].truncate(40)(q=e^(-R(pi)*snr15))) \n",
    "Lsg15"
   ]
  },
  {
   "cell_type": "markdown",
   "metadata": {},
   "source": [
    "<p><span style=\"font-size: xx-large; background-color: #ff99cc;\">$l=23$</span></p>"
   ]
  },
  {
   "cell_type": "code",
   "execution_count": 9,
   "metadata": {
    "collapsed": false
   },
   "outputs": [
    {
     "data": {
      "text/plain": []
     },
     "execution_count": 9,
     "metadata": {},
     "output_type": "execute_result"
    }
   ],
   "source": [
    "R.<q> = PowerSeriesRing(ZZ, default_prec=10)\n",
    "L23=[]\n",
    "L23=[(4,1 + 12*q^6 + 12*q^8 + 12*q^12 + 24*q^16 + 12*q^18 + 24*q^20 + 24*q^22 +\n",
    "24*q^24 + 12*q^26 + 8*q^27 + 24*q^28 - 16*q^29 + 24*q^30 - 8*q^31 +\n",
    "24*q^32 + 16*q^33 + 24*q^34 + 8*q^35 + 36*q^36 + 16*q^37 + 24*q^38 -\n",
    "16*q^39 + 48*q^40 + 48*q^42 - 16*q^43 + 48*q^44 - 16*q^45 + 8*q^47 +\n",
    "60*q^48 + 44*q^50 + 44*q^52 + 16*q^53 + 40*q^54 + 24*q^55 + 64*q^56 -\n",
    "16*q^57 + 32*q^58 + 16*q^59 + O(q^60))]\n",
    "\n",
    "R = RealField(200); \n",
    "L=line([(10*log(snr,10),(theta3(10)**L23[0][0])(q=e^(-R(pi)*snr*sqrt(23.0)))/L23[0][1].truncate(40)(q=e^(-R(pi)*snr)) ) for snr in [i*(0.01) for i in range(5,300)] ], gridlines = True)\n",
    "L.show()"
   ]
  },
  {
   "cell_type": "code",
   "execution_count": 19,
   "metadata": {
    "collapsed": false
   },
   "outputs": [
    {
     "data": {
      "text/plain": [
       "-6.80863918008796"
      ]
     },
     "execution_count": 19,
     "metadata": {},
     "output_type": "execute_result"
    }
   ],
   "source": [
    "10*log(1/sqrt(23.0),10)"
   ]
  },
  {
   "cell_type": "code",
   "execution_count": 49,
   "metadata": {
    "collapsed": false
   },
   "outputs": [
    {
     "data": {
      "text/plain": [
       "[(4, 1.06787114509500)]"
      ]
     },
     "execution_count": 49,
     "metadata": {},
     "output_type": "execute_result"
    }
   ],
   "source": [
    "R = RealField(200); \n",
    "snr23 = 1/sqrt(23.0)\n",
    "Lsg23=[(4,(theta3(10)**L23[0][0])(q=e^(-R(pi)*snr23*sqrt(23.0)))/L23[0][1].truncate(40)(q=e^(-R(pi)*snr23)))]\n",
    "Lsg23"
   ]
  },
  {
   "cell_type": "markdown",
   "metadata": {},
   "source": [
    "<p><span style=\"text-decoration: underline; font-size: x-large;\">Secrecy Gain Comparisons</span></p>"
   ]
  },
  {
   "cell_type": "code",
   "execution_count": 64,
   "metadata": {
    "collapsed": false
   },
   "outputs": [
    {
     "data": {
      "text/plain": []
     },
     "execution_count": 64,
     "metadata": {},
     "output_type": "execute_result"
    }
   ],
   "source": [
    "point(Lsg2,size=50,rgbcolor='red')+point(Lsg3,size=50,rgbcolor='blue')+point(Lsg5,size=50,rgbcolor='green')"
   ]
  },
  {
   "cell_type": "code",
   "execution_count": 65,
   "metadata": {
    "collapsed": false
   },
   "outputs": [
    {
     "data": {
      "text/plain": []
     },
     "execution_count": 65,
     "metadata": {},
     "output_type": "execute_result"
    }
   ],
   "source": [
    "point(Lsg5,size=50,rgbcolor='green')+point(Lsg6,size=50,rgbcolor='blue')+point(Lsg7,size=50,rgbcolor='red')"
   ]
  },
  {
   "cell_type": "code",
   "execution_count": 67,
   "metadata": {
    "collapsed": false
   },
   "outputs": [
    {
     "data": {
      "text/plain": []
     },
     "execution_count": 67,
     "metadata": {},
     "output_type": "execute_result"
    }
   ],
   "source": [
    "point(Lsg7,size=50,rgbcolor='red')+point(Lsg11,size=50,rgbcolor='black')+point(Lsg14,size=50,rgbcolor='green')"
   ]
  },
  {
   "cell_type": "code",
   "execution_count": 68,
   "metadata": {
    "collapsed": false
   },
   "outputs": [
    {
     "data": {
      "text/plain": []
     },
     "execution_count": 68,
     "metadata": {},
     "output_type": "execute_result"
    }
   ],
   "source": [
    "point(Lsg14,size=50,rgbcolor='green')+point(Lsg15,size=50,rgbcolor='blue')+point(Lsg23,size=50,rgbcolor='yellow')"
   ]
  },
  {
   "cell_type": "code",
   "execution_count": 74,
   "metadata": {
    "collapsed": false
   },
   "outputs": [
    {
     "data": {
      "text/plain": []
     },
     "execution_count": 74,
     "metadata": {},
     "output_type": "execute_result"
    }
   ],
   "source": [
    "lb= [(n,(1.084)**n/2) for n in range(0,85)]\n",
    "Lsg1 = [(8,1.3),(24,4.1),(32,7.11),(48,26.9),(72,195.7),(80,380)]\n",
    "line(lb,gridlines = True)+point(Lsg1,size=40)"
   ]
  },
  {
   "cell_type": "code",
   "execution_count": 75,
   "metadata": {
    "collapsed": false
   },
   "outputs": [
    {
     "data": {
      "text/plain": []
     },
     "execution_count": 75,
     "metadata": {},
     "output_type": "execute_result"
    }
   ],
   "source": [
    "lb= [(n,(1.084)**n/2) for n in range(0,85)]\n",
    "Lsg1 = [(8,1.3),(24,4.1),(32,7.11),(48,26.9),(72,195.7),(80,380)]\n",
    "P=line(lb,gridlines=True)+point(Lsg1,size=120,rgbcolor='blue',legend_label='l=1')+point(Lsg2,size=70,rgbcolor='red',legend_label='l=2')+point(Lsg3,size=30,rgbcolor='green',legend_label='l=3')\n",
    "P.save(\"sc_l1_l2_l3.png\")"
   ]
  },
  {
   "cell_type": "code",
   "execution_count": 76,
   "metadata": {
    "collapsed": false
   },
   "outputs": [
    {
     "data": {
      "text/plain": []
     },
     "execution_count": 76,
     "metadata": {},
     "output_type": "execute_result"
    }
   ],
   "source": [
    "lb= [(n,(1.084)**n/2) for n in range(0,50)]\n",
    "Lsg1 = [(8,1.3),(24,4.1),(32,7.11),(48,26.9)]\n",
    "P=line(lb,gridlines=True)+point(Lsg1,size=120,rgbcolor=\"blue\",legend_label='l=1')+point(Lsg5,size=100,rgbcolor=\"pink\",legend_label='l=5')+point(Lsg6,size=70,rgbcolor=\"black\",legend_label='l=6')+point(Lsg7,size=40,rgbcolor=\"orange\",legend_label='l=7')\n",
    "P.save(\"sc_l1_l5_l6_l7.png\")"
   ]
  },
  {
   "cell_type": "code",
   "execution_count": 77,
   "metadata": {
    "collapsed": false
   },
   "outputs": [
    {
     "data": {
      "text/plain": []
     },
     "execution_count": 77,
     "metadata": {},
     "output_type": "execute_result"
    }
   ],
   "source": [
    "lb= [(n,(1.084)**n/2) for n in range(0,25)]\n",
    "Lsg1 = [(8,1.3),(24,4.1)]\n",
    "P=line(lb,gridlines=True)+point(Lsg1,size=100,rgbcolor=\"blue\",legend_label='l=1')+point(Lsg11,size=80,rgbcolor=\"pink\",legend_label='l=11')+point(Lsg14,size=60,rgbcolor=\"black\",legend_label='l=14')+point(Lsg15,size=40,rgbcolor=\"orange\",legend_label='l=15')+point(Lsg2[0:5],size=50,rgbcolor=\"red\",legend_label='l=2')+point(Lsg3[0:8],size=50,rgbcolor=\"green\",legend_label='l=3')+point(Lsg5[0:5],size=50,rgbcolor=\"yellow\",legend_label='l=5')+point(Lsg7[0:8],size=50,rgbcolor=\"purple\",legend_label='l=7')\n",
    "P.save('sc_smalldim.png')"
   ]
  },
  {
   "cell_type": "code",
   "execution_count": 79,
   "metadata": {
    "collapsed": false
   },
   "outputs": [
    {
     "data": {
      "text/plain": [
       "[(4, 0.934308088166843),\n",
       " (4, 1.03610035533730),\n",
       " (4, 1.05576807829855),\n",
       " (6, 1.05463634502544),\n",
       " (6, 1.12232906165442),\n",
       " (6, 1.16112679066250),\n",
       " (8, 1.07350394633017),\n",
       " (8, 1.17410387776836),\n",
       " (8, 1.24048199122864),\n",
       " (8, 1.25692830085922),\n",
       " (8, 1.26619645091434),\n",
       " (8, 1.26622384361356),\n",
       " (8, 1.28103401682433),\n",
       " (8, 1.29699014311406),\n",
       " (8, 1.30634643555445),\n",
       " (10, 1.09270909183336),\n",
       " (10, 1.34051954155635),\n",
       " (10, 1.43737398939708),\n",
       " (12, 1.27221286690191),\n",
       " (12, 1.48125678418812),\n",
       " (12, 1.54873042901311),\n",
       " (12, 1.55111910381996),\n",
       " (12, 1.63331505155184),\n",
       " (12, 1.65104747837729),\n",
       " (12, 1.66727983818128),\n",
       " (12, 1.66839005589934),\n",
       " (12, 1.71322678377175),\n",
       " (14, 1.85263348496772),\n",
       " (14, 1.86571730071328),\n",
       " (14, 1.94661200919659),\n",
       " (16, 2.07439466633825),\n",
       " (16, 2.11146417687778),\n",
       " (16, 2.13771064516831),\n",
       " (16, 2.14465583503537),\n",
       " (16, 2.18233560402147),\n",
       " (16, 2.18797684818377),\n",
       " (16, 2.20563186526554),\n",
       " (16, 2.20580051821853),\n",
       " (16, 2.36140988370374),\n",
       " (18, 2.34625291308239),\n",
       " (18, 2.59162594961600),\n",
       " (18, 2.71107706714450),\n",
       " (20, 2.68715132688271),\n",
       " (20, 2.81168952543272),\n",
       " (20, 2.81643245399610),\n",
       " (20, 2.82002681754229),\n",
       " (20, 2.84128605481637),\n",
       " (20, 2.99576593981754),\n",
       " (20, 3.02293502788966),\n",
       " (20, 3.03250727662081),\n",
       " (22, 3.12707214224509),\n",
       " (22, 3.51264381322524),\n",
       " (24, 3.69948703753252),\n",
       " (24, 3.93540920240693),\n",
       " (24, 4.06849420320518),\n",
       " (24, 4.10027243329783),\n",
       " (24, 4.10027243329783),\n",
       " (24, 4.43336964412975),\n",
       " (26, 4.54730044219185),\n",
       " (26, 5.29371401574958),\n",
       " (28, 5.10187862601113),\n",
       " (28, 5.28879298782093),\n",
       " (28, 5.68134297564759),\n",
       " (28, 5.90475746201462),\n",
       " (28, 5.92395522365662),\n",
       " (28, 6.44784540275033),\n",
       " (30, 6.19485846185629),\n",
       " (30, 7.45800699280051),\n",
       " (32, 7.31070898498036),\n",
       " (32, 7.34311251334145),\n",
       " (32, 8.67975173139095),\n",
       " (32, 9.24496999294425),\n",
       " (32, 9.24496999294425),\n",
       " (32, 9.68143631704078),\n",
       " (34, 8.69258326273837),\n",
       " (34, 12.4452652369373),\n",
       " (36, 10.0108159932432),\n",
       " (36, 10.6821050127287),\n",
       " (36, 13.0992287248336),\n",
       " (36, 14.4099702909642),\n",
       " (36, 14.4148670699685),\n",
       " (40, 13.8258463013556),\n",
       " (40, 15.4823926077998),\n",
       " (40, 20.0495071395879),\n",
       " (40, 22.8348609921443),\n",
       " (40, 22.8348609921443),\n",
       " (44, 19.2097069187744),\n",
       " (44, 23.2453075611330),\n",
       " (44, 32.0405619805763),\n",
       " (44, 34.9058393072533),\n",
       " (44, 35.0233154488461),\n",
       " (48, 26.9523678766376),\n",
       " (48, 36.3316599878072),\n",
       " (52, 37.3698836775058),\n",
       " (52, 56.2826430705642),\n",
       " (56, 51.9799334818195),\n",
       " (56, 86.6860836582169),\n",
       " (60, 72.4498477070877),\n",
       " (60, 131.017725322748),\n",
       " (64, 101.392259925365),\n",
       " (64, 192.102020627847),\n",
       " (68, 141.939037487267),\n",
       " (68, 274.952750535550),\n",
       " (72, 199.964256599310),\n",
       " (76, 284.207739663152),\n",
       " (80, 408.840270452132)]"
      ]
     },
     "execution_count": 79,
     "metadata": {},
     "output_type": "execute_result"
    }
   ],
   "source": [
    "Lsg = Lsg2+Lsg3+Lsg5+Lsg6+Lsg7+Lsg11+Lsg14+Lsg15\n",
    "Lsg.sort()\n",
    "Lsg"
   ]
  },
  {
   "cell_type": "code",
   "execution_count": 80,
   "metadata": {
    "collapsed": false
   },
   "outputs": [
    {
     "data": {
      "text/plain": []
     },
     "execution_count": 80,
     "metadata": {},
     "output_type": "execute_result"
    }
   ],
   "source": [
    "lb= [(n,(1.084)**n/2) for n in range(0,20)]\n",
    "#one more theta series in dim 12, l-modular, not extremal \t\n",
    "L11_12 = [(12,1 + 100*q^6 + 444*q^8 + 1188*q^10 + 2908*q^12 + 6504*q^14 + O(q^15))]\n",
    "R = RealField(200); \n",
    "snr11 = 1/sqrt(11.0)\n",
    "sg11_12=[(12,(theta3(10)**L11_12[0][0])(q=e^(-R(pi)*snr11*sqrt(11.0)))/L11_12[0][1].truncate(40)(q=e^(-R(pi)*snr11)))]\n",
    "#theta series of direct products\n",
    "Lsg11_2= [(Lsg11[0][0]*i,Lsg11[0][1]**i) for i in range(1,5)]\n",
    "P=line(lb,gridlines=True)+point(Lsg11,size=100,rgbcolor=\"red\",legend_label='extremal')+point(Lsg11_2,size=80,rgbcolor=\"blue\",legend_label='direct product')+point(sg11_12,size=100,rgbcolor=\"green\",legend_label='not extremal')\n",
    "P.save('l11.png')"
   ]
  }
 ],
 "metadata": {
  "anaconda-cloud": {},
  "kernelspec": {
   "display_name": "Python [conda root]",
   "language": "python",
   "name": "conda-root-py"
  },
  "language": "python",
  "language_info": {
   "codemirror_mode": {
    "name": "ipython",
    "version": 3
   },
   "file_extension": ".py",
   "mimetype": "text/x-python",
   "name": "python",
   "nbconvert_exporter": "python",
   "pygments_lexer": "ipython3",
   "version": "3.5.2"
  }
 },
 "nbformat": 4,
 "nbformat_minor": 0
}

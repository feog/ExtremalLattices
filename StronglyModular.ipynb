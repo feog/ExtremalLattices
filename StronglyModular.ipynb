{
 "cells": [
  {
   "cell_type": "markdown",
   "metadata": {},
   "source": [
    "<p><span style=\"background-color: #ccffcc;\"><strong>This notebook gives a SAGE function to compute the partial dual of an $l$-modular lattice given by its Gram matrix.</strong></span></p>\n",
    "<p><span style=\"background-color: #ccffcc;\"><strong>It then looks for strongly modular lattices among the 14- and 15-modular lattices of dimension 4.</strong></span></p>\n",
    "\n",
    "<p>The partial dual of a lattice of level $l$, by definition [<span id=\"cell_outer_0\">Atkin-Lehner eigenforms and strongly modular lattices\", by H.-G. Quebbemann</span>], in terms of generator matrix is<br />$D_d\\Lambda = \\sqrt{d}\\left( \\frac{1}{d}\\Lambda \\cap \\Lambda^*\\right) $ <br />for $d$ a divisor of $l$.</p>\n",
    "<p>To compute a partial dual, we need a basis for the intersection of two bases $B_1$ and $B_2$. For that, we compute dual bases $B_1^*$ and $B_2^*$ respectively, then we compute the span of  $B_1^*$ and $B_2^*$ and compute a Hermite normal form to obtain a basis, after which we compute the dual of this basis (Omeara, An introduction to Quadratic Forms, 82F).</p>\n",
    "<p>From a Gram matrix $G$, we obtain a generator matrix using a Cholesky decomposition, that is we write</p>\n",
    "<p>$G=LL^T$ where $L$ is a lower triangular matrix.</p>\n",
    "<p>We note that</p>\n",
    "<p>$$l_{11}=\\sqrt{g_{11}}, l_{j1}=g_{1j}/l_{11},~j\\geq2$$</p>\n",
    "<p>thus the first colum will have integer coefficients if we factor out $1/l_{11}$.</p>\n",
    "<p>Then</p>\n",
    "<p>$$l_{22} =\\sqrt{a_{22}-a_{12}^2/l_{11}^2},~l_{j2}=(a_{2j}-l_{j1}l_{21})/l_{22},~j\\geq 3$$</p>\n",
    "<p>and again, we notice that since $l_{j1}l_{21}$ has $l_{11}^2$ which is an integer at the denominator, if we factor out $1/l_{22}$, we get rational coefficients. If we also factor out $1/l_{11}^2$, we get integer coefficients.</p>\n",
    "<p>Then $l_{33}$ is again a square root, and</p>\n",
    "<p>$$l_{43}=(1/l_{33})(a_{34}-l_{41}l_{31}-l_{42}l_{32}).$$</p>\n",
    "<p>The second term has $l_{11}^2$ as the denominator. The third term has $l_{22}^2$ at the denominator.</p>\n",
    "<p>A Hermite normal form is computed on an integer matrix. The above discussion tells us that the basis matrix can be multiplied by a diagonal matrix, such that the product is an integer matrix.</p>"
   ]
  },
  {
   "cell_type": "code",
   "execution_count": 4,
   "metadata": {},
   "outputs": [
    {
     "data": {
      "text/plain": []
     },
     "execution_count": 4,
     "metadata": {},
     "output_type": "execute_result"
    }
   ],
   "source": [
    "def partial_dual(G,d):\n",
    "#take as input an nxn Gram matrix of an l-modular lattice, and d divides l \n",
    "#output: a generator matrix (rows are basis vectors) and a Gram matrix for the partial dual D_d\n",
    "    n = G.nrows()\n",
    "    #B is a generator matrix\n",
    "    B = G.cholesky()\n",
    "    D = matrix(RR,n)\n",
    "    D[0,0] = B[0,0]\n",
    "    for i in range(1,n):\n",
    "        D[i,i] = B[i,i]*D[i-1,i-1]^2\n",
    "    C = block_matrix([[(B/d).inverse().transpose()],[B]])\n",
    "    #C*D is an integer matrix, compute the Hermite Normal Form on it\n",
    "    CD = matrix(ZZ,2*n,n)\n",
    "    CDtmp = C*D\n",
    "    for i in range(0,2*n):\n",
    "        for j in range(0,n):\n",
    "            CD[i,j] = round(CDtmp[i,j])\n",
    "    #U[1] contains the unimodular matrix that computes the reduced basis        \n",
    "    U = (CD).hermite_form(transformation=true)\n",
    "    #reduced basis for the span of C\n",
    "    UC = (U[1]*C)[0:n,:]\n",
    "    #basis for the partial dual\n",
    "    B_partdual = sqrt(d*(1.0))*UC.inverse().transpose()\n",
    "    #Gram matrix for the partial dual\n",
    "    G_partdualtmp = B_partdual*B_partdual.transpose()\n",
    "    G_partdual = matrix(ZZ,n)\n",
    "    for i in range(0,n):\n",
    "        for j in range(0,n):\n",
    "            G_partdual[i,j] = round(G_partdualtmp[i,j])\n",
    "    #use sqrt(d) for a symbolic output, and sqrt(d*(1.0)) for a numeric one\n",
    "    return B_partdual, G_partdual"
   ]
  },
  {
   "cell_type": "markdown",
   "metadata": {},
   "source": [
    "<p>We check with the lattice $A_2$ which is 3-modular.</p>\n",
    "<p>We use $d=1,3$ and each time check that the bases are equivalent.</p>\n",
    "<p>In the first method, the unimodular transformation is guessed.</p>\n",
    "<p>In the second method, it is given as an output from the LLL_gram function.</p>"
   ]
  },
  {
   "cell_type": "code",
   "execution_count": 1,
   "metadata": {},
   "outputs": [
    {
     "data": {
      "text/plain": [
       "[2 1]\n",
       "[1 2]"
      ]
     },
     "execution_count": 1,
     "metadata": {},
     "output_type": "execute_result"
    }
   ],
   "source": [
    "GA2 = matrix(ZZ, [[2,1],[1,2]])\n",
    "CA2 = partial_dual(GA2,1)\n",
    "U = matrix(ZZ,[[1,0],[0,-1]]) \n",
    "U*CA2[1]*U.transpose()"
   ]
  },
  {
   "cell_type": "code",
   "execution_count": 16,
   "metadata": {},
   "outputs": [
    {
     "data": {
      "text/plain": [
       "[2 1]\n",
       "[1 2]"
      ]
     },
     "execution_count": 16,
     "metadata": {},
     "output_type": "execute_result"
    }
   ],
   "source": [
    "GA2 = matrix(ZZ, [[2,1],[1,2]])\n",
    "CA2 = partial_dual(GA2,3)\n",
    "U = CA2[1].LLL_gram()\n",
    "U.transpose()*CA2[1]*U"
   ]
  },
  {
   "cell_type": "markdown",
   "metadata": {},
   "source": [
    "<p><span style=\"font-size: xx-large; background-color: #ccffcc;\">$l=15$</span></p>\n",
    "<p>We consider the five 15-modular lattices in dimension 4 according to G.L. Nipp, and check with the first 15-modular lattice.</p>\n",
    "<p>For $d=3$, the lattice is not equivalent to its partial dual.</p>\n",
    "<p>This is because the partial dual is equivalent to the second 15-modular lattice.</p>"
   ]
  },
  {
   "cell_type": "code",
   "execution_count": 9,
   "metadata": {},
   "outputs": [
    {
     "data": {
      "text/plain": [
       "(\n",
       "[ 2.4495 0.00000 0.00000 0.00000]  [4 1 0 0]\n",
       "[0.00000  2.4495 0.00000 0.00000]  [1 4 0 0]\n",
       "[-1.2247 0.00000  1.5811 0.00000]  [0 0 4 1]\n",
       "[0.00000 -1.2247 0.00000  1.5811], [0 0 1 4]\n",
       ")"
      ]
     },
     "execution_count": 9,
     "metadata": {},
     "output_type": "execute_result"
    }
   ],
   "source": [
    "G1 = matrix(ZZ, [[2,0,1,0],[0,2,0,1],[1,0,8,0],[0,1,0,8]])\n",
    "C1 = partial_dual(G1,3)\n",
    "#just a trick to print less digits in the matrices\n",
    "MatPrint = MatrixSpace(RealField(prec=18),4,4)\n",
    "U = C1[1].LLL_gram()\n",
    "MatPrint(C1[0]), matrix(ZZ,[[1,0,0,0],[0,1,0,0],[0,0,1,0],[0,0,0,-1]])*U.transpose()*C1[1]*U*matrix(ZZ,[[1,0,0,0],[0,1,0,0],[0,0,1,0],[0,0,0,-1]])"
   ]
  },
  {
   "cell_type": "markdown",
   "metadata": {},
   "source": [
    "<p>We may also check that the determinant is right.</p>"
   ]
  },
  {
   "cell_type": "code",
   "execution_count": 18,
   "metadata": {},
   "outputs": [
    {
     "data": {
      "text/plain": [
       "225.000000000000"
      ]
     },
     "execution_count": 18,
     "metadata": {},
     "output_type": "execute_result"
    }
   ],
   "source": [
    "det(C1[0])^2"
   ]
  },
  {
   "cell_type": "markdown",
   "metadata": {},
   "source": [
    "<p>We check the second 15-modular lattice. For $d=3$, the lattice and its partial dual are not equivalent.</p>\n",
    "<p>We see that because the partial dual is equivalent to the first 15-modular lattice.</p>"
   ]
  },
  {
   "cell_type": "code",
   "execution_count": 20,
   "metadata": {},
   "outputs": [
    {
     "data": {
      "text/plain": [
       "[2 0 1 0]\n",
       "[0 2 0 1]\n",
       "[1 0 8 0]\n",
       "[0 1 0 8]"
      ]
     },
     "execution_count": 20,
     "metadata": {},
     "output_type": "execute_result"
    }
   ],
   "source": [
    "G2 = matrix(ZZ, [[4,1,0,0],[1,4,0,0],[0,0,4,1],[0,0,1,4]])\n",
    "C2 = partial_dual(G2,3)\n",
    "U = C2[1].LLL_gram()\n",
    "matrix(ZZ,[[1,0,0,0],[0,1,0,0],[0,0,-1,0],[0,0,0,1]])*U.transpose()*C2[1]*U*matrix(ZZ,[[1,0,0,0],[0,1,0,0],[0,0,-1,0],[0,0,0,1]])"
   ]
  },
  {
   "cell_type": "markdown",
   "metadata": {},
   "source": [
    "<p>We check the 3rd one. For $d=3$, the lattice and its partial dual are equivalent.</p>"
   ]
  },
  {
   "cell_type": "code",
   "execution_count": 22,
   "metadata": {},
   "outputs": [
    {
     "data": {
      "text/plain": [
       "[ 2  1  0  0]\n",
       "[ 1  2  0  0]\n",
       "[ 0  0 10  5]\n",
       "[ 0  0  5 10]"
      ]
     },
     "execution_count": 22,
     "metadata": {},
     "output_type": "execute_result"
    }
   ],
   "source": [
    "G3 = matrix(ZZ, [[2,1,0,0],[1,2,0,0],[0,0,10,5],[0,0,5,10]])\n",
    "C3 = partial_dual(G3,3)\n",
    "U = C3[1].LLL_gram()\n",
    "matrix(ZZ,[[1,0,0,0],[0,-1,0,0],[0,0,1,0],[0,0,0,-1]])*U.transpose()*C3[1]*U*matrix(ZZ,[[1,0,0,0],[0,-1,0,0],[0,0,1,0],[0,0,0,-1]])"
   ]
  },
  {
   "cell_type": "markdown",
   "metadata": {},
   "source": [
    "<p>For $d=5$, the lattice and its partial dual are equivalent. Therefore this lattice is strongly 15-modular.</p>"
   ]
  },
  {
   "cell_type": "code",
   "execution_count": 46,
   "metadata": {},
   "outputs": [
    {
     "data": {
      "text/plain": [
       "[ 2  1  0  0]\n",
       "[ 1  2  0  0]\n",
       "[ 0  0 10  5]\n",
       "[ 0  0  5 10]"
      ]
     },
     "execution_count": 46,
     "metadata": {},
     "output_type": "execute_result"
    }
   ],
   "source": [
    "G3 = matrix(ZZ, [[2,1,0,0],[1,2,0,0],[0,0,10,5],[0,0,5,10]])\n",
    "C3 = partial_dual(G3,5)\n",
    "U = C3[1].LLL_gram()\n",
    "matrix(ZZ,[[1,0,0,0],[0,-1,0,0],[0,0,1,0],[0,0,0,-1]])*U.transpose()*C3[1]*U*matrix(ZZ,[[1,0,0,0],[0,-1,0,0],[0,0,1,0],[0,0,0,-1]])"
   ]
  },
  {
   "cell_type": "markdown",
   "metadata": {},
   "source": [
    "<p>We check the 4rth one for $d=3$. The lattice and its partial dual are equivalent.</p>"
   ]
  },
  {
   "cell_type": "code",
   "execution_count": 23,
   "metadata": {},
   "outputs": [
    {
     "data": {
      "text/plain": [
       "[2 0 0 1]\n",
       "[0 4 1 0]\n",
       "[0 1 4 0]\n",
       "[1 0 0 8]"
      ]
     },
     "execution_count": 23,
     "metadata": {},
     "output_type": "execute_result"
    }
   ],
   "source": [
    "G4 = matrix(ZZ, [[2,0,0,1],[0,4,1,0],[0,1,4,0],[1,0,0,8]])\n",
    "C4 = partial_dual(G4,3)\n",
    "U = C4[1].LLL_gram()\n",
    "matrix(ZZ,[[1,0,0,0],[0,1,0,0],[0,0,1,0],[0,0,0,-1]])*U.transpose()*C4[1]*U*matrix(ZZ,[[1,0,0,0],[0,1,0,0],[0,0,1,0],[0,0,0,-1]])"
   ]
  },
  {
   "cell_type": "markdown",
   "metadata": {},
   "source": [
    "<p>For $d=5$, the lattice and its partial dual are equivalent. Therefore this is a strongly 15-modular lattice.</p>"
   ]
  },
  {
   "cell_type": "code",
   "execution_count": 48,
   "metadata": {},
   "outputs": [
    {
     "data": {
      "text/plain": [
       "[2 0 0 1]\n",
       "[0 4 1 0]\n",
       "[0 1 4 0]\n",
       "[1 0 0 8]"
      ]
     },
     "execution_count": 48,
     "metadata": {},
     "output_type": "execute_result"
    }
   ],
   "source": [
    "G4 = matrix(ZZ, [[2,0,0,1],[0,4,1,0],[0,1,4,0],[1,0,0,8]])\n",
    "C4 = partial_dual(G4,5)\n",
    "U = C4[1].LLL_gram()\n",
    "matrix(ZZ,[[1,0,0,0],[0,-1,0,0],[0,0,1,0],[0,0,0,-1]])*U.transpose()*C4[1]*U*matrix(ZZ,[[1,0,0,0],[0,-1,0,0],[0,0,1,0],[0,0,0,-1]])"
   ]
  },
  {
   "cell_type": "markdown",
   "metadata": {},
   "source": [
    "<p>We check the 5th 15-modular lattice.</p>"
   ]
  },
  {
   "cell_type": "code",
   "execution_count": 25,
   "metadata": {},
   "outputs": [
    {
     "data": {
      "text/plain": [
       "[ 4  2  1  1]\n",
       "[ 2  4 -1  2]\n",
       "[ 1 -1  6  2]\n",
       "[ 1  2  2  6] 1"
      ]
     },
     "execution_count": 25,
     "metadata": {},
     "output_type": "execute_result"
    }
   ],
   "source": [
    "G5 = matrix(ZZ, [[4,2,1,1],[2,4,-1,2],[1,-1,6,2],[1,2,2,6]])\n",
    "C5 = partial_dual(G5,3)\n",
    "U = C5[1].LLL_gram()\n",
    "U1 = matrix(ZZ,[[0,-1,0,0],[1,0,0,0],[0,0,0,1],[0,0,-1,0]])\n",
    "print U1*U.transpose()*C5[1]*U*U1.transpose(), det(U1)"
   ]
  },
  {
   "cell_type": "code",
   "execution_count": 33,
   "metadata": {},
   "outputs": [
    {
     "data": {
      "text/plain": [
       "[ 4  2  1  1]\n",
       "[ 2  4 -1  2]\n",
       "[ 1 -1  6  2]\n",
       "[ 1  2  2  6] 1"
      ]
     },
     "execution_count": 33,
     "metadata": {},
     "output_type": "execute_result"
    }
   ],
   "source": [
    "G5 = matrix(ZZ, [[4,2,1,1],[2,4,-1,2],[1,-1,6,2],[1,2,2,6]])\n",
    "C5 = partial_dual(G5,5)\n",
    "U = C5[1].LLL_gram()\n",
    "U1 = matrix(ZZ,[[1,1,0,0],[1,0,0,0],[0,0,0,-1],[1,0,-1,0]])\n",
    "print U1*U.transpose()*C5[1]*U*U1.transpose(), det(U1)"
   ]
  },
  {
   "cell_type": "markdown",
   "metadata": {},
   "source": [
    "<p><span style=\"font-size: xx-large; background-color: #ccffcc;\">$l=14$</span></p>\n",
    "<p>We now check for 14-modular lattices. According to G.L. Nipp, there are five of them.</p>\n",
    "<p>For the first lattice, we check for $d=2,7$.</p>"
   ]
  },
  {
   "cell_type": "code",
   "execution_count": 36,
   "metadata": {},
   "outputs": [
    {
     "data": {
      "text/plain": [
       "[2 0 1 1]\n",
       "[0 2 1 1]\n",
       "[1 1 8 1]\n",
       "[1 1 1 8]"
      ]
     },
     "execution_count": 36,
     "metadata": {},
     "output_type": "execute_result"
    }
   ],
   "source": [
    "G6 = matrix(ZZ,[[2,0,1,1],[0,2,1,1],[1,1,8,1],[1,1,1,8]])\n",
    "det(G6)\n",
    "C6 = partial_dual(G6,7)\n",
    "U = C6[1].LLL_gram()\n",
    "matrix(ZZ,[[1,0,0,0],[0,-1,0,0],[0,0,-1,0],[0,0,0,1]])*U.transpose()*C6[1]*U*matrix(ZZ,[[1,0,0,0],[0,-1,0,0],[0,0,-1,0],[0,0,0,1]])"
   ]
  },
  {
   "cell_type": "code",
   "execution_count": 42,
   "metadata": {},
   "outputs": [
    {
     "data": {
      "text/plain": [
       "[2 0 1 1]\n",
       "[0 2 1 1]\n",
       "[1 1 8 1]\n",
       "[1 1 1 8]"
      ]
     },
     "execution_count": 42,
     "metadata": {},
     "output_type": "execute_result"
    }
   ],
   "source": [
    "G6 = matrix(ZZ,[[2,0,1,1],[0,2,1,1],[1,1,8,1],[1,1,1,8]])\n",
    "det(G6)\n",
    "C6 = partial_dual(G6,2)\n",
    "U = C6[1].LLL_gram()\n",
    "matrix(ZZ,[[1,0,0,0],[0,-1,0,0],[0,0,1,0],[0,0,0,1]])*U.transpose()*C6[1]*U*matrix(ZZ,[[1,0,0,0],[0,-1,0,0],[0,0,1,0],[0,0,0,1]])"
   ]
  },
  {
   "cell_type": "markdown",
   "metadata": {},
   "source": [
    "<p>The second 14-modular lattice is strongly modular.</p>"
   ]
  },
  {
   "cell_type": "code",
   "execution_count": 37,
   "metadata": {},
   "outputs": [
    {
     "data": {
      "text/plain": [
       "[2 1 0 0]\n",
       "[1 4 0 0]\n",
       "[0 0 4 2]\n",
       "[0 0 2 8]"
      ]
     },
     "execution_count": 37,
     "metadata": {},
     "output_type": "execute_result"
    }
   ],
   "source": [
    "G7 = matrix(ZZ,[[2,1,0,0],[1,4,0,0],[0,0,4,2],[0,0,2,8]])\n",
    "C7 = partial_dual(G7,2)\n",
    "U = C7[1].LLL_gram()\n",
    "matrix(ZZ,[[1,0,0,0],[0,-1,0,0],[0,0,1,0],[0,0,0,-1]])*U.transpose()*C7[1]*U*matrix(ZZ,[[1,0,0,0],[0,-1,0,0],[0,0,1,0],[0,0,0,-1]])"
   ]
  },
  {
   "cell_type": "code",
   "execution_count": 50,
   "metadata": {},
   "outputs": [
    {
     "data": {
      "text/plain": [
       "[2 1 0 0]\n",
       "[1 4 0 0]\n",
       "[0 0 4 2]\n",
       "[0 0 2 8]"
      ]
     },
     "execution_count": 50,
     "metadata": {},
     "output_type": "execute_result"
    }
   ],
   "source": [
    "G7 = matrix(ZZ,[[2,1,0,0],[1,4,0,0],[0,0,4,2],[0,0,2,8]])\n",
    "C7 = partial_dual(G7,7)\n",
    "U = C7[1].LLL_gram()\n",
    "U.transpose()*C7[1]*U"
   ]
  },
  {
   "cell_type": "markdown",
   "metadata": {},
   "source": [
    "<p>For the 3rd lattice we check with $d=7$. Its partial dual is equivalent to the 5th 14-modular lattice.</p>\n",
    "<p>Therefore this lattice is not strongly modular.</p>"
   ]
  },
  {
   "cell_type": "code",
   "execution_count": 38,
   "metadata": {},
   "outputs": [
    {
     "data": {
      "text/plain": [
       "[4 2 2 2]\n",
       "[2 4 0 2]\n",
       "[2 0 6 3]\n",
       "[2 2 3 6]"
      ]
     },
     "execution_count": 38,
     "metadata": {},
     "output_type": "execute_result"
    }
   ],
   "source": [
    "G8 = matrix(ZZ,[[2,1,1,1],[1,2,0,1],[1,0,10,5],[1,1,5,10]])\n",
    "C8 = partial_dual(G8,7)\n",
    "U = C8[1].LLL_gram()\n",
    "U1 = matrix(ZZ,[[1,0,0,0],[0,-1,0,0],[1,0,1,0],[0,0,0,1]])\n",
    "U1*U.transpose()*C8[1]*U*U1.transpose()"
   ]
  },
  {
   "cell_type": "markdown",
   "metadata": {},
   "source": [
    "<p>For the 4rth lattice, we check for $d=2,7$.</p>"
   ]
  },
  {
   "cell_type": "code",
   "execution_count": 39,
   "metadata": {},
   "outputs": [
    {
     "data": {
      "text/plain": [
       "[ 4  1  0  1]\n",
       "[ 1  4  1  0]\n",
       "[ 0  1  4 -1]\n",
       "[ 1  0 -1  4]"
      ]
     },
     "execution_count": 39,
     "metadata": {},
     "output_type": "execute_result"
    }
   ],
   "source": [
    "G9 = matrix(ZZ,[[4,1,1,0],[1,4,0,1],[1,0,4,-1],[0,1,-1,4]])\n",
    "det(G9)\n",
    "C9 = partial_dual(G9,2)\n",
    "U = C9[1].LLL_gram()\n",
    "matrix(ZZ,[[-1,0,0,0],[0,1,0,0],[0,0,1,0],[0,0,0,1]])*U.transpose()*C9[1]*U*matrix(ZZ,[[-1,0,0,0],[0,1,0,0],[0,0,1,0],[0,0,0,1]])"
   ]
  },
  {
   "cell_type": "code",
   "execution_count": 52,
   "metadata": {},
   "outputs": [
    {
     "data": {
      "text/plain": [
       "[ 4  1  0  1]\n",
       "[ 1  4  1  0]\n",
       "[ 0  1  4 -1]\n",
       "[ 1  0 -1  4]"
      ]
     },
     "execution_count": 52,
     "metadata": {},
     "output_type": "execute_result"
    }
   ],
   "source": [
    "G9 = matrix(ZZ,[[4,1,1,0],[1,4,0,1],[1,0,4,-1],[0,1,-1,4]])\n",
    "det(G9)\n",
    "C9 = partial_dual(G9,7)\n",
    "U = C9[1].LLL_gram()\n",
    "matrix(ZZ,[[1,0,0,0],[0,1,0,0],[0,0,1,0],[0,0,0,-1]])*U.transpose()*C9[1]*U*matrix(ZZ,[[1,0,0,0],[0,1,0,0],[0,0,1,0],[0,0,0,-1]])"
   ]
  },
  {
   "cell_type": "markdown",
   "metadata": {},
   "source": [
    "<p>The 5th 14-modular lattice has a dual for $d=7$ which is equivalent to the 3rd 14-modular lattice, therefore this lattice is not strongly modular.</p>"
   ]
  },
  {
   "cell_type": "code",
   "execution_count": 41,
   "metadata": {},
   "outputs": [
    {
     "data": {
      "text/plain": [
       "[ 2  1  1  1]\n",
       "[ 1  2  0  1]\n",
       "[ 1  0 10  5]\n",
       "[ 1  1  5 10]"
      ]
     },
     "execution_count": 41,
     "metadata": {},
     "output_type": "execute_result"
    }
   ],
   "source": [
    "G10 = matrix(ZZ,[[4,2,2,2],[2,4,0,2],[2,0,6,3],[2,2,3,6]])\n",
    "C10 = partial_dual(G10,7)\n",
    "U = C10[1].LLL_gram()\n",
    "U1 = matrix(ZZ,[[1,0,0,0],[0,-1,0,0],[1,0,1,0],[0,0,0,1]])\n",
    "U1*U.transpose()*C10[1]*U*U1.transpose()"
   ]
  }
 ],
 "metadata": {
  "kernelspec": {
   "display_name": "SageMath",
   "name": "sagemath"
  },
  "language": "python"
 },
 "nbformat": 4,
 "nbformat_minor": 0
}

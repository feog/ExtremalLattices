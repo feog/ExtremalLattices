{
 "cells": [
  {
   "cell_type": "markdown",
   "metadata": {},
   "source": [
    "<p>For $l\\in \\mathbb{N}$, $\\Gamma_0(l)$ denotes the subgroup of matrices in $SL_2(\\mathbb{Z})$ whose lower left entry is a multiple of $l$.</p>\n",
    "<p>For an even lattice of even dimension $n=2k$ and level $l$, its theta series $\\Theta$ is a modular form of weight $k$ for the group $\\Gamma_0(l)$</p>\n",
    "<p>and a certain quadratic character $\\epsilon: \\Gamma_0(l) \\rightarrow \\{\\pm 1\\}$. This means that</p>\n",
    "<p>$$ \\Theta |_k \\gamma = \\epsilon(\\gamma)\\Theta$$</p>\n",
    "<p>where the character $\\epsilon$ only depends on the determinant of the lattice, and is trivial if this is a square [1.2, 3]</p>\n",
    "<p>Since the determinant is $l^{n/2}=l^k$, the character will be trivial if $k$ is even.</p>\n",
    "<p>[3] ``Extremal Lattices\", by R. Scharlau and R. Schulze-Pillot</p>\n",
    "\n",
    "<p>The theta series of an even modular lattice of level $l$ and dimension $n=2k$ can be written as a linear combination of all [Theor 7,1],[Prop 3,2]</p>\n",
    "<p>$$\\Theta_{2k_0}^\\lambda\\Delta_{2k_l}^\\mu,~k_0\\lambda+k_l\\mu=k,~\\lambda,\\mu \\geq 0,~ l\\in \\{1,2,3,5,7,11,23\\}$$</p>\n",
    "<p>$$\\Theta_{4}^\\lambda\\Delta_{2k_l}^\\mu,~2\\lambda+k_l\\mu=k,~\\lambda,\\mu \\geq 0,~ l\\in \\{14,15\\}$$</p>\n",
    "<p>$$\\Theta_{4}^\\lambda\\Delta_{4k_l}^\\mu,~2\\lambda+2k_l\\mu=k,~\\lambda,\\mu \\geq 0,~ l=6$$</p>\n",
    "<p>where $\\Theta_4$ is the theta series of some $4$-dimensional strongly modular even lattice of level $l$, and $\\Theta_{2k_0}$ is the theta series of an even modular lattice of level $l$ and lowest positive dimension $2k_0$.</p>\n",
    "<p>SAGE uses $q=e^{2\\pi i z}$.</p>\n",
    "<p>[1] <span id=\"cell_outer_11\">``Modular Lattices in Euclidean Spaces, by H.-G. Quebbemann</span></p>\n",
    "<p>[2]  ``Atkin-Lehner eigenforms and strongly modular lattices\", by H.-G. Quebbemann</p>\n",
    "\n",
    "<p>for $l=2$,</p>\n",
    "\n",
    "<p>for $l=2$, the lowest dimension $2k_0=4$, thus $k_0=2$ and $\\Theta_4$ is the theta series of $D_4$ [p. 192, 1].</p>"
   ]
  },
  {
   "cell_type": "code",
   "execution_count": 3,
   "metadata": {},
   "outputs": [
    {
     "data": {
      "text/plain": [
       "Modular Forms space of dimension 1 for Congruence Subgroup Gamma0(2) of weight 2 over Rational Field"
      ]
     },
     "execution_count": 3,
     "metadata": {},
     "output_type": "execute_result"
    }
   ],
   "source": [
    "#ModularForms(Congruence Subgroup,weight)\n",
    "m2_2 = ModularForms(Gamma0(2),2)\n",
    "m2_2"
   ]
  },
  {
   "cell_type": "code",
   "execution_count": 4,
   "metadata": {},
   "outputs": [
    {
     "data": {
      "text/plain": [
       "[\n",
       "1 + 24*q + 24*q^2 + 96*q^3 + 24*q^4 + 144*q^5 + O(q^6)\n",
       "]"
      ]
     },
     "execution_count": 4,
     "metadata": {},
     "output_type": "execute_result"
    }
   ],
   "source": [
    "b2_2 = m2_2.basis()\n",
    "b2_2"
   ]
  },
  {
   "cell_type": "code",
   "execution_count": 10,
   "metadata": {},
   "outputs": [
    {
     "data": {
      "text/plain": [
       "1 + 24*q + 24*q^2 + 96*q^3 + 24*q^4 + 144*q^5 + O(q^6)"
      ]
     },
     "execution_count": 10,
     "metadata": {},
     "output_type": "execute_result"
    }
   ],
   "source": [
    "Theta_D4 = b2_2[0]\n",
    "Theta_D4"
   ]
  },
  {
   "cell_type": "markdown",
   "metadata": {},
   "source": [
    "<p>$l=5$</p>\n",
    "<p>The smallest dimension for an even $5$-modular lattice is 4 [3.1, ``Extremal Lattices\", by R. Scharlau and R. Schulze-Pillot].</p>\n",
    "<p>The weight is thus $k=2$. The condition $2\\lambda+4\\mu=2$ forces $\\mu=0$, and the theta series of a $5$-modular lattice of dimension 4 can be written as $\\Theta_4$,</p>\n",
    "<p>which is the theta series of QQF.4.a.</p>"
   ]
  },
  {
   "cell_type": "code",
   "execution_count": 8,
   "metadata": {},
   "outputs": [
    {
     "data": {
      "text/plain": [
       "Modular Forms space of dimension 1 for Congruence Subgroup Gamma0(5) of weight 2 over Rational Field"
      ]
     },
     "execution_count": 8,
     "metadata": {},
     "output_type": "execute_result"
    }
   ],
   "source": [
    "m5_2 = ModularForms(Gamma0(5),2)\n",
    "m5_2"
   ]
  },
  {
   "cell_type": "code",
   "execution_count": 9,
   "metadata": {},
   "outputs": [
    {
     "data": {
      "text/plain": [
       "[\n",
       "1 + 6*q + 18*q^2 + 24*q^3 + 42*q^4 + 6*q^5 + O(q^6)\n",
       "]"
      ]
     },
     "execution_count": 9,
     "metadata": {},
     "output_type": "execute_result"
    }
   ],
   "source": [
    "b5_2 = m5_2.basis()\n",
    "b5_2"
   ]
  },
  {
   "cell_type": "code",
   "execution_count": 13,
   "metadata": {},
   "outputs": [
    {
     "data": {
      "text/plain": [
       "1 + 6*q + 18*q^2 + 24*q^3 + 42*q^4 + 6*q^5 + O(q^6)"
      ]
     },
     "execution_count": 13,
     "metadata": {},
     "output_type": "execute_result"
    }
   ],
   "source": [
    "Theta_QQF4a = b5_2[0]\n",
    "Theta_QQF4a"
   ]
  },
  {
   "cell_type": "code",
   "execution_count": 14,
   "metadata": {},
   "outputs": [
    {
     "data": {
      "text/plain": []
     },
     "execution_count": 14,
     "metadata": {},
     "output_type": "execute_result"
    }
   ],
   "source": []
  }
 ],
 "metadata": {
  "kernelspec": {
   "display_name": "SageMath",
   "name": "sagemath"
  },
  "language": "python"
 },
 "nbformat": 4,
 "nbformat_minor": 0
}

{
 "cells": [
  {
   "cell_type": "markdown",
   "metadata": {},
   "source": [
    "<p><span style=\"background-color: #ccffcc;\"><strong>This SAGE notebook computes the theta series of high dimensional $l$-modular even extremal lattices using isobaric polynomials.</strong></span></p>\n",
    "\n",
    "<p>For $l\\in \\mathbb{N}$, $\\Gamma_0(l)$ denotes the subgroup of matrices in $SL_2(\\mathbb{Z})$ whose lower left entry is a multiple of $l$.</p>\n",
    "<p>For an even lattice of even dimension $n=2k$ and level $l$, its theta series $\\Theta$ is a modular form of weight $k$ for the group $\\Gamma_0(l)$</p>\n",
    "<p>and a certain quadratic character $\\epsilon: \\Gamma_0(l) \\rightarrow \\{\\pm 1\\}$. This means that</p>\n",
    "<p>$$ \\Theta |_k \\gamma = \\epsilon(\\gamma)\\Theta$$</p>\n",
    "<p>where the character $\\epsilon$ only depends on the determinant of the lattice, and is trivial if this is a square [1.2, 3]</p>\n",
    "<p>Since the determinant is $l^{n/2}=l^k$, the character will be trivial if $k$ is even.</p>\n",
    "<p>[3] ''Extremal Lattices\", by R. Scharlau and R. Schulze-Pillot</p>\n",
    "<p>The theta series of an even modular lattice of level $l$ and dimension $n=2k$ can be written as a linear combination of all [Theor 7,1],[Prop 3,2]</p>\n",
    "<p>$$\\Theta_{2k_0}^\\lambda\\Delta_{l}^\\mu,~k_0\\lambda+k_l\\mu=k,~\\lambda,\\mu \\geq 0,~ l\\in \\{1,2,3,5,7,11,23\\}$$</p>\n",
    "<p>$$\\Theta_{4}^\\lambda\\Delta_{l}^\\mu,~2\\lambda+2k_l\\mu=k,~\\lambda,\\mu \\geq  0,~l\\in \\{6,14,15\\}$$</p>\n",
    "<p>where $\\Theta_4$ is the theta series of some $4$-dimensional strongly modular even lattice of level $l$, and $\\Theta_{2k_0}$ is the theta series of an even modular lattice of level $l$ and lowest positive dimension $2k_0$.</p>\n",
    "<p>SAGE uses $q=e^{2\\pi i z}$.</p>\n",
    "<p>[1] <span id=\"cell_outer_11\">``Modular Lattices in Euclidean Spaces, by H.-G. Quebbemann</span></p>\n",
    "<p>[2]  ``Atkin-Lehner eigenforms and strongly modular lattices\", by H.-G. Quebbemann</p>\n",
    "<p> </p>\n",
    "<p><span style=\"font-size: xx-large; color: #339966; background-color: #ccffcc;\">$l=2$</span></p>\n",
    "<p>For $l=2$, the lowest dimension $2k_0=4$, thus $k_0=2$ and $\\Theta_4$ is the theta series of $D_4$ [p. 192, 1].</p>"
   ]
  },
  {
   "cell_type": "code",
   "execution_count": 1,
   "metadata": {},
   "outputs": [
    {
     "data": {
      "text/plain": [
       "[\n",
       "1 + 24*q + 24*q^2 + 96*q^3 + 24*q^4 + 144*q^5 + 96*q^6 + 192*q^7 + 24*q^8 + 312*q^9 + 144*q^10 + 288*q^11 + 96*q^12 + 336*q^13 + 192*q^14 + 576*q^15 + 24*q^16 + 432*q^17 + 312*q^18 + 480*q^19 + 144*q^20 + 768*q^21 + O(q^22)\n",
       "]"
      ]
     },
     "execution_count": 1,
     "metadata": {},
     "output_type": "execute_result"
    }
   ],
   "source": [
    "#ModularForms(Congruence Subgroup,weight)\n",
    "m2_2 = ModularForms(Gamma0(2),2,prec=22)\n",
    "m2_2.basis()"
   ]
  },
  {
   "cell_type": "code",
   "execution_count": 5,
   "metadata": {},
   "outputs": [
    {
     "data": {
      "text/plain": [
       "1 + 24*q + 24*q^2 + 96*q^3 + 24*q^4 + 144*q^5 + 96*q^6 + 192*q^7 + 24*q^8 + 312*q^9 + 144*q^10 + 288*q^11 + 96*q^12 + 336*q^13 + 192*q^14 + 576*q^15 + 24*q^16 + 432*q^17 + 312*q^18 + 480*q^19 + 144*q^20 + 768*q^21 + O(q^22)"
      ]
     },
     "execution_count": 5,
     "metadata": {},
     "output_type": "execute_result"
    }
   ],
   "source": [
    "R.<q> = PowerSeriesRing(ZZ, default_prec=14)\n",
    "Theta_D4 = 1 + 24*q + 24*q^2 + 96*q^3 + 24*q^4 + 144*q^5 + 96*q^6 + 192*q^7 + 24*q^8 + 312*q^9 + 144*q^10 + 288*q^11 + 96*q^12 + 336*q^13 + + 192*q^14 + 576*q^15 + 24*q^16 + 432*q^17 + 312*q^18 + 480*q^19 + 144*q^20 + 768*q^21 + O(q^22)\n",
    "Theta_D4"
   ]
  },
  {
   "cell_type": "markdown",
   "metadata": {},
   "source": [
    "<p>For $l=2$, $\\Delta_{2}$ is a cusp form of weight 8.</p>"
   ]
  },
  {
   "cell_type": "code",
   "execution_count": 13,
   "metadata": {},
   "outputs": [
    {
     "data": {
      "text/plain": [
       "[\n",
       "q - 8*q^2 + 12*q^3 + 64*q^4 - 210*q^5 - 96*q^6 + 1016*q^7 - 512*q^8 - 2043*q^9 + 1680*q^10 + 1092*q^11 + 768*q^12 + 1382*q^13 - 8128*q^14 - 2520*q^15 + 4096*q^16 + 14706*q^17 + 16344*q^18 - 39940*q^19 - 13440*q^20 + 12192*q^21 + O(q^22)\n",
       "]"
      ]
     },
     "execution_count": 13,
     "metadata": {},
     "output_type": "execute_result"
    }
   ],
   "source": [
    "c2_8 = CuspForms(Gamma0(2),8, prec=22)\n",
    "c2_8.basis()"
   ]
  },
  {
   "cell_type": "code",
   "execution_count": 15,
   "metadata": {},
   "outputs": [
    {
     "data": {
      "text/plain": [
       "q - 8*q^2 + 12*q^3 + 64*q^4 - 210*q^5 - 96*q^6 + 1016*q^7 - 512*q^8 - 2043*q^9 + 1680*q^10 + 1092*q^11 + 768*q^12 + 1382*q^13 - 8128*q^14 - 2520*q^15 + 4096*q^16 + 14706*q^17 + 16344*q^18 - 39940*q^19 - 13440*q^20 + 12192*q^21 + O(q^22)"
      ]
     },
     "execution_count": 15,
     "metadata": {},
     "output_type": "execute_result"
    }
   ],
   "source": [
    "Delta_2 = q - 8*q^2 + 12*q^3 + 64*q^4 - 210*q^5 - 96*q^6 + 1016*q^7 - 512*q^8 - 2043*q^9 + 1680*q^10 + 1092*q^11 + 768*q^12 + 1382*q^13 + - 8128*q^14 - 2520*q^15 + 4096*q^16 + 14706*q^17 + 16344*q^18 - 39940*q^19 -13440*q^20 + 12192*q^21 + O(q^22)\n",
    "Delta_2"
   ]
  },
  {
   "cell_type": "markdown",
   "metadata": {},
   "source": [
    "<p>For $l=2$, we have $k_0\\lambda+k_l\\mu =k$, that is $2\\lambda+8\\mu=k$.</p>\n",
    "<p>From [Table 2.4,3], $l$-modular lattices which are extermal can be found in dimensions which are multiples of 4, from $4$ to $80$.</p>"
   ]
  },
  {
   "cell_type": "code",
   "execution_count": 25,
   "metadata": {},
   "outputs": [
    {
     "data": {
      "text/plain": [
       "8 & 1 + 48*q^2 + 624*q^4 + 1344*q^6 + 5232*q^8 + 6048*q^10 + 17472*q^12 + 16512*q^14 + 42096*q^16 + 36336*q^18 + 78624*q^20 + O(q^22) \\ \\\n",
       "12 & 1 + 72*q^2 + 1800*q^4 + 17568*q^6 + 57096*q^8 + 225072*q^10 + 439200*q^12 + 1210176*q^14 + 1826568*q^16 + 4269096*q^18 + 5626800*q^20 + O(q^22) \\ \\\n",
       "16 & 1 + 4320*q^4 + 61440*q^6 + 522720*q^8 + 2211840*q^10 + 8960640*q^12 + 23224320*q^14 + 67154400*q^16 + 135168000*q^18 + 319809600*q^20 + O(q^22) \\ \\\n",
       "20 & 1 + 3960*q^4 + 168960*q^6 + 2094840*q^8 + 16625664*q^10 + 80652000*q^12 + 343664640*q^14 + 1073639160*q^16 + 3299450880*q^18 + 8000389584*q^20 + O(q^22) \\ \\\n",
       "24 & 1 + 3024*q^4 + 258048*q^6 + 6317136*q^8 + 71221248*q^10 + 546017472*q^12 + 2884460544*q^14 + 12928522320*q^16 + 45777715200*q^18 + 150505102944*q^20 + O(q^22) \\ \\\n",
       "28 & 1 + 1512*q^4 + 301056*q^6 + 12484584*q^8 + 230694912*q^10 + 2429885472*q^12 + 18309722112*q^14 + 102280003560*q^16 + 480352911360*q^18 + 1860467600880*q^20 + O(q^22) \\ \\\n",
       "32 & 1 + 261120*q^6 + 18947520*q^8 + 535818240*q^10 + 8320327680*q^12 + 83347937280*q^14 + 622558664640*q^16 + 3614759362560*q^18 + 17694184734720*q^20 + O(q^22) \\ \\\n",
       "36 & 1 + 164160*q^6 + 21976920*q^8 + 977474304*q^10 + 21608709120*q^12 + 298138527360*q^14 + 2874603112920*q^16 + 21373181544960*q^18 + 127658701983744*q^20 + O(q^22) \\ \\\n",
       "40 & 1 + 84480*q^6 + 20314800*q^8 + 1406896128*q^10 + 45028515840*q^12 + 840702551040*q^14 + 10649688548400*q^16 + 99629039431680*q^18 + 738969815384064*q^20 + O(q^22) \\ \\\n",
       "44 & 1 + 35904*q^6 + 15246792*q^8 + 1655292672*q^10 + 76076470272*q^12 + 1938889332864*q^14 + 31986077222088*q^16 + 379828874574336*q^18 + 3467936329482240*q^20 + O(q^22) \\ \\\n",
       "48 & 1 + 9828000*q^8 + 1610219520*q^10 + 106928640000*q^12 + 3703504896000*q^14 + 79916509764000*q^16 + 1199318335488000*q^18 + 13538436891033600*q^20 + O(q^22) \\ \\\n",
       "52 & 1 + 5012280*q^8 + 1328431104*q^10 + 126565770240*q^12 + 5972419215360*q^14 + 168204503146680*q^16 + 3197102083768320*q^18 + 44523365649444864*q^20 + O(q^22) \\ \\\n",
       "56 & 1 + 2232720*q^8 + 933101568*q^10 + 128160829440*q^12 + 8227171860480*q^14 + 302754273388560*q^16 + 7280392836218880*q^18 + 125216070331613184*q^20 + O(q^22) \\ \\\n",
       "60 & 1 + 867240*q^8 + 566894592*q^10 + 112147200000*q^12 + 9800853258240*q^14 + 470981049814440*q^16 + 14336837814435840*q^18 + 304364529554595840*q^20 + O(q^22) \\ \\\n",
       "64 & 1 + 310210560*q^10 + 85566412800*q^12 + 10193519001600*q^14 + 639806808009600*q^16 + 24647054956339200*q^18 + 646042058490470400*q^20 + O(q^22) \\ \\\n",
       "68 & 1 + 141269184*q^10 + 57691771200*q^12 + 9335354976000*q^14 + 765400967314200*q^16 + 37318643219625600*q^18 + 1207581862711198464*q^20 + O(q^22) \\ \\\n",
       "72 & 1 + 57915648*q^10 + 34446021120*q^12 + 7588108200960*q^14 + 812554816898160*q^16 + 50140547941639680*q^18 + 2003107817793890304*q^20 + O(q^22) \\ \\\n",
       "76 & 1 + 21373632*q^10 + 18370981440*q^12 + 5510128239360*q^14 + 770649113372040*q^16 + 60186880523495040*q^18 + 2968433974243019520*q^20 + O(q^22) \\ \\\n",
       "80 & 1 + 9092160000*q^12 + 3591143424000*q^14 + 656978910588000*q^16 + 64933015977984000*q^18 + 3953758800179865600*q^20 + O(q^22) \\ \\"
      ]
     },
     "execution_count": 25,
     "metadata": {},
     "output_type": "execute_result"
    }
   ],
   "source": [
    "for n in range(8,81,4):\n",
    "    k = n/2\n",
    "    #values of the minimum\n",
    "    min_ext = [2,2,2,4,4,4,4,6,6,6,6,8,8,8,8,10,10,10,10,12]\n",
    "    #eqns (-a,b,c) means bx1+cx2=a, ieqs (-a,b,c) means bx1+cx2 >=a\n",
    "    P2 = Polyhedron(eqns = [(-k,2,8)], ieqs = [(0,1,0),(0,0,1)], base_ring = QQ)\n",
    "    #solves 2\\lambda+8\\mu=k\n",
    "    L2_exp = P2.integral_points()\n",
    "    if len(L2_exp) == 1:\n",
    "        p = (Theta_D4**L2_exp[0][0])*(Delta_2**L2_exp[0][1])\n",
    "        #change here O(q^i) depending on the desired precision\n",
    "        print n,\"&\",p(q^2)+O(q^22),\"\\\\\",\"\\\\\"\n",
    "    else:\n",
    "        M = matrix(len(L2_exp)+1,50)\n",
    "        M[0,0] = -1\n",
    "        for i in range(0,len(L2_exp)):\n",
    "            p = (Theta_D4**L2_exp[i][0])*(Delta_2**L2_exp[i][1]) \n",
    "            M[i+1,0:p.degree()+1] = vector(p.list())  \n",
    "        #identify coefficients to eliminate low powers of q\n",
    "        L2_coeffs = Polyhedron(eqns = M[:,[0..min_ext[n/4-1]/2-1]].transpose(), base_ring = QQ).integral_points()\n",
    "        #initialize coeffs of the extremal series to be computed\n",
    "        ext_series_coeffs2 = matrix(1,50)\n",
    "        for i in range(0,len(L2_coeffs[0])):\n",
    "            ext_series_coeffs2 = ext_series_coeffs2 + M[i+1,:]*L2_coeffs[0][i]\n",
    "        #find a way to get a list \n",
    "        l = [0,0,0,0,0,0,0,0,0,0,0,0,0,0,0,0,0,0,0,0,0]\n",
    "        for i in range(0,20):    \n",
    "            l[i] = ext_series_coeffs2[0][i]\n",
    "        #change here O(q^i) depending on the desired precision\n",
    "        print n,\"&\",R(l)(q^2)+O(q^22),\"\\\\\",\"\\\\\""
   ]
  },
  {
   "cell_type": "markdown",
   "metadata": {},
   "source": [
    "<p>We observe no change in the minimum from dimension 4 to 12.</p>\n",
    "<p>This suggets that for $n=8$, we have $D_4\\oplus D_4$, and for $n=12$, $D_4\\oplus D_4\\oplus D_4$.</p>"
   ]
  },
  {
   "cell_type": "code",
   "execution_count": 31,
   "metadata": {},
   "outputs": [
    {
     "data": {
      "text/plain": [
       "1 + 48*q + 624*q^2 + 1344*q^3 + 5232*q^4 + 6048*q^5 + 17472*q^6 + 16512*q^7 + 42096*q^8 + 36336*q^9 + O(q^10)"
      ]
     },
     "execution_count": 31,
     "metadata": {},
     "output_type": "execute_result"
    }
   ],
   "source": [
    "Theta_D4**2"
   ]
  },
  {
   "cell_type": "code",
   "execution_count": 33,
   "metadata": {},
   "outputs": [
    {
     "data": {
      "text/plain": [
       "1 + 72*q + 1800*q^2 + 17568*q^3 + 57096*q^4 + 225072*q^5 + 439200*q^6 + 1210176*q^7 + 1826568*q^8 + 4269096*q^9 + O(q^10)"
      ]
     },
     "execution_count": 33,
     "metadata": {},
     "output_type": "execute_result"
    }
   ],
   "source": [
    "Theta_D4**3"
   ]
  },
  {
   "cell_type": "markdown",
   "metadata": {},
   "source": [
    "<p><span style=\"font-size: xx-large; color: #339966; background-color: #ffff99;\">$l=3$</span></p>\n",
    "\n",
    "<p>We compute $\\Delta_3$ which is of weight 6.</p>"
   ]
  },
  {
   "cell_type": "code",
   "execution_count": 107,
   "metadata": {},
   "outputs": [
    {
     "data": {
      "text/plain": [
       "q^2 - 6*q^4 + 9*q^6 + 4*q^8 + 6*q^10 - 54*q^12 - 40*q^14 + 168*q^16 + 81*q^18 - 36*q^20 - 564*q^22 + 36*q^24 + 638*q^26 + 240*q^28 + 54*q^30 - 1136*q^32 + 882*q^34 - 486*q^36 - 556*q^38 + 24*q^40 + O(q^42)"
      ]
     },
     "execution_count": 107,
     "metadata": {},
     "output_type": "execute_result"
    }
   ],
   "source": [
    "q^2*(qexp_eta(ZZ[['q']], 20)(q^2)*qexp_eta(ZZ[['q']], 20)(q^6))^6"
   ]
  },
  {
   "cell_type": "code",
   "execution_count": 58,
   "metadata": {},
   "outputs": [
    {
     "data": {
      "text/plain": [
       "q - 6*q^2 + 9*q^3 + 4*q^4 + 6*q^5 - 54*q^6 - 40*q^7 + 168*q^8 + 81*q^9 - 36*q^10 - 564*q^11 + 36*q^12 + 638*q^13 + 240*q^14 + 54*q^15 - 1136*q^16 + 882*q^17 - 486*q^18 - 556*q^19 + 24*q^20 + O(q^21)"
      ]
     },
     "execution_count": 58,
     "metadata": {},
     "output_type": "execute_result"
    }
   ],
   "source": [
    "R.<q> = PowerSeriesRing(ZZ, default_prec=21)\n",
    "Delta_3 = q - 6*q^2 + 9*q^3 + 4*q^4 + 6*q^5 - 54*q^6 - 40*q^7 + 168*q^8 + 81*q^9 - 36*q^10 - 564*q^11 + 36*q^12 + 638*q^13 + 240*q^14 + 54*q^15 - 1136*q^16 + 882*q^17 - 486*q^18 - 556*q^19 + 24*q^20 + O(q^21)\n",
    "Delta_3"
   ]
  },
  {
   "cell_type": "code",
   "execution_count": 59,
   "metadata": {},
   "outputs": [
    {
     "data": {
      "text/plain": [
       "1 + 6*q + 6*q^3 + 6*q^4 + 12*q^7 + 6*q^9 + 6*q^12 + 12*q^13 + 6*q^16 + 12*q^19 + 12*q^21 + O(q^22)"
      ]
     },
     "execution_count": 59,
     "metadata": {},
     "output_type": "execute_result"
    }
   ],
   "source": [
    "ModularForms(Gamma1(3),1, prec=22).basis()\n",
    "Theta_A2 = 1 + 6*q + 6*q^3 + 6*q^4 + 12*q^7 + 6*q^9 + 6*q^12 + 12*q^13 + 6*q^16 + 12*q^19 + 12*q^21 + O(q^22)\n",
    "Theta_A2"
   ]
  },
  {
   "cell_type": "markdown",
   "metadata": {},
   "source": [
    "<p>For $l=3$, the lowest dimension $2k_0=2$, thus $k_0 =1$, and $k_0\\lambda + k_l\\mu =k$ becomes $\\lambda+6\\mu=k$.</p>\n",
    "<p>From Table [2.4,3], $3$-modular even extremal lattices can be found in even dimensions, from 2 to 36, and in dimensions that are multiples of 4 from 40 to 68.</p>"
   ]
  },
  {
   "cell_type": "code",
   "execution_count": 61,
   "metadata": {},
   "outputs": [
    {
     "data": {
      "text/plain": [
       "4 & 1 + 12*q^2 + 36*q^4 + 12*q^6 + 84*q^8 + 72*q^10 + 36*q^12 + 96*q^14 + 180*q^16 + 12*q^18 + 216*q^20 + O(q^22) \\ \\\n",
       "6 & 1 + 18*q^2 + 108*q^4 + 234*q^6 + 234*q^8 + 864*q^10 + 756*q^12 + 900*q^14 + 1836*q^16 + 2178*q^18 + 1296*q^20 + O(q^22) \\ \\\n",
       "8 & 1 + 24*q^2 + 216*q^4 + 888*q^6 + 1752*q^8 + 3024*q^10 + 7992*q^12 + 8256*q^14 + 14040*q^16 + 24216*q^18 + 27216*q^20 + O(q^22) \\ \\\n",
       "10 & 1 + 30*q^2 + 360*q^4 + 2190*q^6 + 7230*q^8 + 14976*q^10 + 32760*q^12 + 72060*q^14 + 92520*q^16 + 177150*q^18 + 280800*q^20 + O(q^22) \\ \\\n",
       "12 & 1 + 756*q^4 + 4032*q^6 + 20412*q^8 + 60480*q^10 + 139860*q^12 + O(q^13) \\ \\\n",
       "14 & 1 + 756*q^4 + 8736*q^6 + 44226*q^8 + 187488*q^10 + 531468*q^12 + O(q^13) \\ \\\n",
       "16 & 1 + 720*q^4 + 13440*q^6 + 97200*q^8 + 455040*q^10 + 1714320*q^12 + O(q^13) \\ \\\n",
       "18 & 1 + 648*q^4 + 17712*q^6 + 179334*q^8 + 1043280*q^10 + 4517208*q^12 + O(q^13) \\ \\\n",
       "20 & 1 + 540*q^4 + 21120*q^6 + 286740*q^8 + 2132352*q^10 + 10878300*q^12 + O(q^13) \\ \\\n",
       "22 & 1 + 396*q^4 + 23232*q^6 + 411642*q^8 + 3871296*q^10 + 23845140*q^12 + O(q^13) \\ \\\n",
       "24 & 1 + 26208*q^6 + 530712*q^8 + 6368544*q^10 + 47331648*q^12 + O(q^13) \\ \\\n",
       "26 & 1 + 21840*q^6 + 663390*q^8 + 9552816*q^10 + 85700160*q^12 + O(q^13) \\ \\\n",
       "28 & 1 + 17472*q^6 + 741636*q^8 + 13390272*q^10 + 143148096*q^12 + O(q^13) \\ \\\n",
       "30 & 1 + 13320*q^6 + 765450*q^8 + 17373528*q^10 + 222765120*q^12 + O(q^13) \\ \\\n",
       "32 & 1 + 9600*q^6 + 738720*q^8 + 20995200*q^10 + 323447040*q^12 + O(q^13) \\ \\\n",
       "34 & 1 + 6528*q^6 + 669222*q^8 + 23794560*q^10 + 439895808*q^12 + O(q^13) \\ \\\n",
       "36 & 1 + 646380*q^8 + 24820992*q^10 + 565367040*q^12 + O(q^13) \\ \\\n",
       "40 & 1 + 360360*q^8 + 24482304*q^10 + 779486400*q^12 + O(q^13) \\ \\\n",
       "44 & 1 + 173844*q^8 + 19160064*q^10 + 880051392*q^12 + O(q^13) \\ \\\n",
       "48 & 1 + 14152320*q^10 + 805896000*q^12 + O(q^13) \\ \\\n",
       "52 & 1 + 7115472*q^10 + 650482560*q^12 + O(q^13) \\ \\\n",
       "56 & 1 + 3193344*q^10 + 439780320*q^12 + O(q^13) \\ \\\n",
       "60 & 1 + 294356160*q^12 + O(q^13) \\ \\\n",
       "64 & 1 + 138458880*q^12 + O(q^13) \\ \\\n",
       "68 & 1 + 59324832*q^12 + O(q^13) \\ \\"
      ]
     },
     "execution_count": 61,
     "metadata": {},
     "output_type": "execute_result"
    }
   ],
   "source": [
    "for n in range(4,37,2)+range(40,69,4):\n",
    "    k = n/2\n",
    "    #values of the minimum, 0 are artifically introduced to compensate jumps by 4\n",
    "    min_ext = [2,2,2,2,2,4,4,4,4,4,4,6,6,6,6,6,6,8,0,8,0,8,0,10,0,10,0,10,0,12,0,12,0,12]\n",
    "    #eqns (-a,b,c) means bx1+cx2=a, ieqs (-a,b,c) means bx1+cx2 >=a\n",
    "    P3 = Polyhedron(eqns = [(-k,1,6)], ieqs = [(0,1,0),(0,0,1)], base_ring = QQ)\n",
    "    #solves \\lambda+6\\mu=k\n",
    "    L3_exp = P3.integral_points()\n",
    "    if len(L3_exp) == 1:\n",
    "        p = (Theta_A2**L3_exp[0][0])*(Delta_3**L3_exp[0][1])\n",
    "        #change here O(q^i) depending on the desired precision\n",
    "        print n,\"&\",p(q^2)+O(q^22),\"\\\\\",\"\\\\\"\n",
    "    else:\n",
    "        M = matrix(len(L3_exp)+1,30)\n",
    "        M[0,0] = -1\n",
    "        for i in range(0,len(L3_exp)):\n",
    "            p = (Theta_A2**L3_exp[i][0])*(Delta_3**L3_exp[i][1]) \n",
    "            M[i+1,0:p.degree()+1] = vector(p.list())  \n",
    "        #identify coefficients to eliminate low powers of q\n",
    "        L3_coeffs = Polyhedron(eqns = M[:,[0..min_ext[n/2-1]/2-1]].transpose(), base_ring = QQ).integral_points()\n",
    "        #initialize coeffs of the extremal series to be computed\n",
    "        ext_series_coeffs3 = matrix(1,30)\n",
    "        for i in range(0,len(L3_coeffs[0])):\n",
    "            ext_series_coeffs3 = ext_series_coeffs3 + M[i+1,:]*L3_coeffs[0][i]\n",
    "        #find a way to get a list \n",
    "        l = [0,0,0,0,0,0,0,0,0,0,0]\n",
    "        for i in range(0,10):    \n",
    "            l[i] = ext_series_coeffs3[0][i]\n",
    "        #change here O(q^i) depending on the desired precision\n",
    "        print n,\"&\",R(l)(q^2)+O(q^13),\"\\\\\",\"\\\\\""
   ]
  },
  {
   "cell_type": "markdown",
   "metadata": {},
   "source": [
    "<p><span style=\"font-size: xx-large; color: #339966; background-color: #ccffcc;\">$l=5$</span></p>\n",
    "<p>For $l=5$, the lowest dimension $2k_0=4$, thus $k_0=2$ and $\\Theta_4$ is the theta series of QQF.4.a.</p>"
   ]
  },
  {
   "cell_type": "code",
   "execution_count": 6,
   "metadata": {},
   "outputs": [
    {
     "data": {
      "text/plain": [
       "[\n",
       "1 + 6*q + 18*q^2 + 24*q^3 + 42*q^4 + 6*q^5 + 72*q^6 + 48*q^7 + 90*q^8 + 78*q^9 + 18*q^10 + 72*q^11 + 168*q^12 + 84*q^13 + 144*q^14 + 24*q^15 + 186*q^16 + 108*q^17 + 234*q^18 + 120*q^19 + 42*q^20 + 192*q^21 + 216*q^22 + 144*q^23 + 360*q^24 + 6*q^25 + 252*q^26 + 240*q^27 + O(q^28)\n",
       "]"
      ]
     },
     "execution_count": 6,
     "metadata": {},
     "output_type": "execute_result"
    }
   ],
   "source": [
    "m5_2 = ModularForms(Gamma0(5),2,prec=28)\n",
    "m5_2.basis()"
   ]
  },
  {
   "cell_type": "code",
   "execution_count": 8,
   "metadata": {},
   "outputs": [
    {
     "data": {
      "text/plain": [
       "1 + 6*q + 18*q^2 + 24*q^3 + 42*q^4 + 6*q^5 + 72*q^6 + 48*q^7 + 90*q^8 + 78*q^9 + 18*q^10 + 72*q^11 + 168*q^12 + 84*q^13 + 144*q^14 + 24*q^15 + 186*q^16 + 108*q^17 + 234*q^18 + 120*q^19 + 42*q^20 + 192*q^21 + 216*q^22 + 144*q^23 + 360*q^24 + 6*q^25 + 252*q^26 + 240*q^27 + O(q^28)"
      ]
     },
     "execution_count": 8,
     "metadata": {},
     "output_type": "execute_result"
    }
   ],
   "source": [
    "R.<q> = PowerSeriesRing(ZZ, default_prec=10)\n",
    "Theta_QQF4a = 1 + 6*q + 18*q^2 + 24*q^3 + 42*q^4 + 6*q^5 + 72*q^6 + 48*q^7 + 90*q^8 + 78*q^9 + 18*q^10 + 72*q^11 + 168*q^12 + 84*q^13 + 144*q^14 + 24*q^15 + 186*q^16 + 108*q^17 + 234*q^18 + 120*q^19 + 42*q^20 + 192*q^21 + 216*q^22 + 144*q^23 + 360*q^24 + 6*q^25 + 252*q^26 + 240*q^27 + O(q^28)\n",
    "Theta_QQF4a"
   ]
  },
  {
   "cell_type": "markdown",
   "metadata": {},
   "source": [
    "<p>For $l=5$, $\\Delta_5$ is a cusp form of weight 4.</p>"
   ]
  },
  {
   "cell_type": "code",
   "execution_count": 16,
   "metadata": {},
   "outputs": [
    {
     "data": {
      "text/plain": [
       "[\n",
       "q - 4*q^2 + 2*q^3 + 8*q^4 - 5*q^5 - 8*q^6 + 6*q^7 - 23*q^9 + 20*q^10 + 32*q^11 + 16*q^12 - 38*q^13 - 24*q^14 - 10*q^15 - 64*q^16 + 26*q^17 + 92*q^18 + 100*q^19 - 40*q^20 + 12*q^21 - 128*q^22 - 78*q^23 + 25*q^25 + 152*q^26 - 100*q^27 + O(q^28)\n",
       "]"
      ]
     },
     "execution_count": 16,
     "metadata": {},
     "output_type": "execute_result"
    }
   ],
   "source": [
    "c5_4 = CuspForms(Gamma0(5),4,prec=28)\n",
    "c5_4.basis()"
   ]
  },
  {
   "cell_type": "code",
   "execution_count": 18,
   "metadata": {},
   "outputs": [
    {
     "data": {
      "text/plain": [
       "q - 4*q^2 + 2*q^3 + 8*q^4 - 5*q^5 - 8*q^6 + 6*q^7 - 23*q^9 + 20*q^10 + 32*q^11 + 16*q^12 - 38*q^13 - 24*q^14 - 10*q^15 - 64*q^16 + 26*q^17 + 92*q^18 + 100*q^19 - 40*q^20 + 12*q^21 - 128*q^22 - 78*q^23 + 25*q^25 + 152*q^26 - 100*q^27 + O(q^28)"
      ]
     },
     "execution_count": 18,
     "metadata": {},
     "output_type": "execute_result"
    }
   ],
   "source": [
    "Delta_5 = q - 4*q^2 + 2*q^3 + 8*q^4 - 5*q^5 - 8*q^6 + 6*q^7 - 23*q^9 + 20*q^10 + 32*q^11 + 16*q^12 - 38*q^13 - 24*q^14 - 10*q^15 - 64*q^16 + 26*q^17 + 92*q^18 + 100*q^19 - 40*q^20 + 12*q^21 - 128*q^22 - 78*q^23 + 25*q^25 + 152*q^26 - 100*q^27 + O(q^28)\n",
    "Delta_5"
   ]
  },
  {
   "cell_type": "markdown",
   "metadata": {},
   "source": [
    "<p>For $l=5$, we have $k_0\\lambda+k_l\\mu=k$, that is $2\\lambda+5\\mu=k$.</p>\n",
    "<p>From [Table 2.4,3], $5$-modular lattices which are extermal can be found in dimensions which are multiples of 4, from $4$ to $44$.</p>"
   ]
  },
  {
   "cell_type": "code",
   "execution_count": 27,
   "metadata": {},
   "outputs": [
    {
     "data": {
      "text/plain": [
       "8 & 1 + 120*q^4 + 240*q^6 + 600*q^8 + 1440*q^10 + 2400*q^12 + 3120*q^14 + 5400*q^16 + 7200*q^18 + O(q^28) \\ \\\n",
       "12 & 1 + 126*q^4 + 1008*q^6 + 4410*q^8 + 12096*q^10 + 32760*q^12 + 67536*q^14 + 137970*q^16 + 241920*q^18 + O(q^28) \\ \\\n",
       "16 & 1 + 2400*q^6 + 10800*q^8 + 60480*q^10 + 223200*q^12 + 626400*q^14 + 1609200*q^16 + 3681600*q^18 + O(q^28) \\ \\\n",
       "20 & 1 + 1740*q^6 + 22590*q^8 + 164736*q^10 + 847440*q^12 + 3419460*q^14 + 11362770*q^16 + 32764080*q^18 + O(q^28) \\ \\\n",
       "24 & 1 + 37800*q^8 + 241920*q^10 + 2293200*q^12 + 12096000*q^14 + 51597000*q^16 + 190713600*q^18 + O(q^28) \\ \\\n",
       "28 & 1 + 23310*q^8 + 374976*q^10 + 3993360*q^12 + 29721600*q^14 + 169303050*q^16 + 780265920*q^18 + O(q^28) \\ \\\n",
       "32 & 1 + 552960*q^10 + 4152000*q^12 + 58752000*q^14 + 403164000*q^16 + 2363136000*q^18 + O(q^28) \\ \\\n",
       "36 & 1 + 310716*q^10 + 5537700*q^12 + 77792400*q^14 + 755725950*q^16 + 5598009900*q^18 + O(q^28) \\ \\\n",
       "40 & 1 + 7854000*q^12 + 61776000*q^14 + 1232847000*q^16 + 10208352000*q^18 + O(q^28) \\ \\\n",
       "44 & 1 + 4156284*q^12 + 76725792*q^14 + 1347250806*q^16 + 15944489088*q^18 + O(q^28) \\ \\"
      ]
     },
     "execution_count": 27,
     "metadata": {},
     "output_type": "execute_result"
    }
   ],
   "source": [
    "for n in range(8,45,4):\n",
    "    k = n/2\n",
    "    #values of the minimum\n",
    "    min_ext = [2,4,4,6,6,8,8,10,10,12,12]\n",
    "    #eqns (-a,b,c) means bx1+cx2=a, ieqs (-a,b,c) means bx1+cx2 >=a\n",
    "    P5 = Polyhedron(eqns = [(-k,2,4)], ieqs = [(0,1,0),(0,0,1)], base_ring = QQ)\n",
    "    #solves 2\\lambda+4\\mu=k\n",
    "    L5_exp = P5.integral_points()\n",
    "    if len(L5_exp) == 1:\n",
    "        p = (Theta_QQF4a**L5_exp[0][0])*(Delta_5**L5_exp[0][1])\n",
    "        [n,p(q^2)+O(q^28)]\n",
    "    else:\n",
    "        M = matrix(len(L5_exp)+1,40)\n",
    "        M[0,0] = -1\n",
    "        for i in range(0,len(L5_exp)):\n",
    "            p = (Theta_QQF4a**L5_exp[i][0])*(Delta_5**L5_exp[i][1]) \n",
    "            M[i+1,0:p.degree()+1] = vector(p.list())  \n",
    "        #identify coefficients to eliminate low powers of q\n",
    "        L5_coeffs = Polyhedron(eqns = M[:,[0..min_ext[n/4-1]/2-1]].transpose(), base_ring = QQ).integral_points()\n",
    "        #initialize coeffs of the extremal series to be computed\n",
    "        ext_series_coeffs = matrix(1,40)\n",
    "        for i in range(0,len(L5_coeffs[0])):\n",
    "            ext_series_coeffs = ext_series_coeffs + M[i+1,:]*L5_coeffs[0][i]\n",
    "        #find a way to get a list \n",
    "        l = [0,0,0,0,0,0,0,0,0,0]\n",
    "        for i in range(0,10):    \n",
    "            l[i] = ext_series_coeffs[0][i]\n",
    "        #latex printing for tabular\n",
    "        print n,\"&\",R(l)(q^2)+O(q^28),\"\\\\\",\"\\\\\""
   ]
  },
  {
   "cell_type": "markdown",
   "metadata": {},
   "source": [
    "<p><span style=\"font-size: xx-large; color: #339966; background-color: #ccffcc;\">$l=6$</span></p>\n",
    "<p>For $l=6$, the cusp form $\\Delta_6$ has weight 4. It can also be computed using the eta function.</p>"
   ]
  },
  {
   "cell_type": "code",
   "execution_count": 20,
   "metadata": {},
   "outputs": [
    {
     "data": {
      "text/plain": [
       "[\n",
       "q - 2*q^2 - 3*q^3 + 4*q^4 + 6*q^5 + 6*q^6 - 16*q^7 - 8*q^8 + 9*q^9 - 12*q^10 + 12*q^11 - 12*q^12 + 38*q^13 + 32*q^14 + O(q^15)\n",
       "]"
      ]
     },
     "execution_count": 20,
     "metadata": {},
     "output_type": "execute_result"
    }
   ],
   "source": [
    "c6_4 = CuspForms(Gamma0(6),4,prec=15)\n",
    "c6_4.basis()"
   ]
  },
  {
   "cell_type": "code",
   "execution_count": 105,
   "metadata": {},
   "outputs": [
    {
     "data": {
      "text/plain": [
       "q^2 - 2*q^4 - 3*q^6 + 4*q^8 + 6*q^10 + 6*q^12 - 16*q^14 - 8*q^16 + 9*q^18 - 12*q^20 + 12*q^22 - 12*q^24 + 38*q^26 + 32*q^28 - 18*q^30 + 16*q^32 - 126*q^34 - 18*q^36 + 20*q^38 + 24*q^40 + 48*q^42 + O(q^44)"
      ]
     },
     "execution_count": 105,
     "metadata": {},
     "output_type": "execute_result"
    }
   ],
   "source": [
    "R.<q> = PowerSeriesRing(ZZ, default_prec=21)\n",
    "q^2*(qexp_eta(ZZ[['q']],21)(q^2)*qexp_eta(ZZ[['q']],21)(q^4)*qexp_eta(ZZ[['q']], 21)(q^6)*qexp_eta(ZZ[['q']],21)(q^12))^2"
   ]
  },
  {
   "cell_type": "code",
   "execution_count": 21,
   "metadata": {},
   "outputs": [
    {
     "data": {
      "text/plain": [
       "q - 2*q^2 - 3*q^3 + 4*q^4 + 6*q^5 + 6*q^6 - 16*q^7 - 8*q^8 + 9*q^9 - 12*q^10 + 12*q^11 - 12*q^12 + 38*q^13 + 32*q^14 - 18*q^15 + 16*q^16 - 126*q^17 - 18*q^18 + 20*q^19 + 24*q^20 + 48*q^21 + O(q^22)"
      ]
     },
     "execution_count": 21,
     "metadata": {},
     "output_type": "execute_result"
    }
   ],
   "source": [
    "Delta_6 = q - 2*q^2 - 3*q^3 + 4*q^4 + 6*q^5 + 6*q^6 - 16*q^7 - 8*q^8 + 9*q^9 -12*q^10 + 12*q^11 -12*q^12 + 38*q^13 + 32*q^14 - 18*q^15 + 16*q^16 - 126*q^17 - 18*q^18 + 20*q^19 + 24*q^20 + 48*q^21 + O(q^22)\n",
    "Delta_6"
   ]
  },
  {
   "cell_type": "code",
   "execution_count": 34,
   "metadata": {},
   "outputs": [
    {
     "data": {
      "text/plain": [
       "[\n",
       "1 + 24*q^3 + 24*q^6 + 96*q^9 + 24*q^12 + 144*q^15 + 96*q^18 + 192*q^21 + O(q^24),\n",
       "q + 5*q^3 - 2*q^4 + 6*q^5 + 4*q^6 + 8*q^7 - 6*q^8 + 17*q^9 + 12*q^11 + 2*q^12 + 14*q^13 + 30*q^15 - 14*q^16 + 18*q^17 + 16*q^18 + 20*q^19 - 12*q^20 + 40*q^21 + 24*q^23 + O(q^24),\n",
       "q^2 - 2*q^3 + 3*q^4 - q^6 + 7*q^8 - 8*q^9 + 6*q^10 + q^12 + 8*q^14 - 12*q^15 + 15*q^16 - 7*q^18 + 18*q^20 - 16*q^21 + 12*q^22 + O(q^24)\n",
       "]"
      ]
     },
     "execution_count": 34,
     "metadata": {},
     "output_type": "execute_result"
    }
   ],
   "source": [
    "m6_4 = ModularForms(Gamma0(6),2,prec=24)\n",
    "b6_4 = m6_4.basis()\n",
    "b6_4"
   ]
  },
  {
   "cell_type": "markdown",
   "metadata": {},
   "source": [
    "<p>The first terms for QQF4g are 1,6,6,42,6.</p>\n",
    "<p>The are 1,4,20 ,4,52 for QQF4i.</p>"
   ]
  },
  {
   "cell_type": "code",
   "execution_count": 35,
   "metadata": {},
   "outputs": [
    {
     "data": {
      "text/plain": [
       "1 + 6*q + 6*q^2 + 42*q^3 + 6*q^4 + 36*q^5 + 42*q^6 + 48*q^7 + 6*q^8 + 150*q^9 + 36*q^10 + 72*q^11 + 42*q^12 + 84*q^13 + 48*q^14 + 252*q^15 + 6*q^16 + 108*q^17 + 150*q^18 + 120*q^19 + 36*q^20 + 336*q^21 + 72*q^22 + 144*q^23 + O(q^24)"
      ]
     },
     "execution_count": 35,
     "metadata": {},
     "output_type": "execute_result"
    }
   ],
   "source": [
    "b6_4[0]+6*b6_4[1]+6*b6_4[2]"
   ]
  },
  {
   "cell_type": "code",
   "execution_count": 37,
   "metadata": {},
   "outputs": [
    {
     "data": {
      "text/plain": [
       "1 + 6*q + 6*q^2 + 42*q^3 + 6*q^4 + 36*q^5 + 42*q^6 + 48*q^7 + 6*q^8 + 150*q^9 + 36*q^10 + 72*q^11 + 42*q^12 + 84*q^13 + 48*q^14 + 252*q^15 + 6*q^16 + 108*q^17 + 150*q^18 + 120*q^19 + 36*q^20 + 336*q^21 + 72*q^22 + 144*q^23 + O(q^24)"
      ]
     },
     "execution_count": 37,
     "metadata": {},
     "output_type": "execute_result"
    }
   ],
   "source": [
    "Theta_QQF4g = 1 + 6*q + 6*q^2 + 42*q^3 + 6*q^4 + 36*q^5 + 42*q^6 + 48*q^7 + 6*q^8 + 150*q^9 + 36*q^10 + 72*q^11 + 42*q^12 + 84*q^13 + 48*q^14 + 252*q^15 + 6*q^16 + 108*q^17 + 150*q^18 + 120*q^19 + 36*q^20 + 336*q^21 + 72*q^22 + 144*q^23 + O(q^24)\n",
    "Theta_QQF4g"
   ]
  },
  {
   "cell_type": "code",
   "execution_count": 38,
   "metadata": {},
   "outputs": [
    {
     "data": {
      "text/plain": [
       "1 + 4*q + 20*q^2 + 4*q^3 + 52*q^4 + 24*q^5 + 20*q^6 + 32*q^7 + 116*q^8 + 4*q^9 + 120*q^10 + 48*q^11 + 52*q^12 + 56*q^13 + 160*q^14 + 24*q^15 + 244*q^16 + 72*q^17 + 20*q^18 + 80*q^19 + 312*q^20 + 32*q^21 + 240*q^22 + 96*q^23 + O(q^24)"
      ]
     },
     "execution_count": 38,
     "metadata": {},
     "output_type": "execute_result"
    }
   ],
   "source": [
    "b6_4[0]+4*b6_4[1]+20*b6_4[2]"
   ]
  },
  {
   "cell_type": "code",
   "execution_count": 39,
   "metadata": {},
   "outputs": [
    {
     "data": {
      "text/plain": [
       "1 + 4*q + 20*q^2 + 4*q^3 + 52*q^4 + 24*q^5 + 20*q^6 + 32*q^7 + 116*q^8 + 4*q^9 + 120*q^10 + 48*q^11 + 52*q^12 + 56*q^13 + 160*q^14 + 24*q^15 + 244*q^16 + 72*q^17 + 20*q^18 + 80*q^19 + 312*q^20 + 32*q^21 + 240*q^22 + 96*q^23 + O(q^24)"
      ]
     },
     "execution_count": 39,
     "metadata": {},
     "output_type": "execute_result"
    }
   ],
   "source": [
    "Theta_QQF4i = 1 + 4*q + 20*q^2 + 4*q^3 + 52*q^4 + 24*q^5 + 20*q^6 + 32*q^7 + 116*q^8 + 4*q^9 + 120*q^10 + 48*q^11 + 52*q^12 + 56*q^13 + 160*q^14 + 24*q^15 + 244*q^16 + 72*q^17 + 20*q^18 + 80*q^19 + 312*q^20 + 32*q^21 + 240*q^22 + 96*q^23 + O(q^24)\n",
    "Theta_QQF4i"
   ]
  },
  {
   "cell_type": "markdown",
   "metadata": {},
   "source": [
    "<p>For $l=6$, we have $2\\lambda+2k_l\\mu=k$, that is $2\\lambda+4\\mu=k$.</p>\n",
    "<p>From [Table 2.4,3], $6$-modular even lattices which are extermal can be found in dimensions which are multiples of 4, from $4$ to $44$.</p>\n",
    "<p>We first compute with QQF4g.</p>"
   ]
  },
  {
   "cell_type": "code",
   "execution_count": 40,
   "metadata": {},
   "outputs": [
    {
     "data": {
      "text/plain": [
       "8 & 1 + 72*q^4 + 192*q^6 + 504*q^8 + 576*q^10 + 2280*q^12 + 1728*q^14 + 4248*q^16 + 4800*q^18 + O(q^22) \\ \\\n",
       "12 & 1 + 54*q^4 + 720*q^6 + 1998*q^8 + 8208*q^10 + 17514*q^12 + 42768*q^14 + 65070*q^16 + 169200*q^18 + O(q^22) \\ \\\n",
       "16 & 1 + 960*q^6 + 6480*q^8 + 25920*q^10 + 113280*q^12 + 285120*q^14 + 822960*q^16 + 1705920*q^18 + O(q^22) \\ \\\n",
       "20 & 1 + 660*q^6 + 8910*q^8 + 67716*q^10 + 335280*q^12 + 1407780*q^14 + 4392630*q^16 + 13698300*q^18 + O(q^22) \\ \\\n",
       "24 & 1 + 10584*q^8 + 96768*q^10 + 737856*q^12 + 3967488*q^14 + 17746344*q^16 + 62963712*q^18 + O(q^22) \\ \\\n",
       "28 & 1 + 5670*q^8 + 108864*q^10 + 1103760*q^12 + 8372160*q^14 + 46749150*q^16 + 219770880*q^18 + O(q^22) \\ \\\n",
       "32 & 1 + 103680*q^10 + 1238400*q^12 + 12545280*q^14 + 95294880*q^16 + 551516160*q^18 + O(q^22) \\ \\\n",
       "36 & 1 + 51516*q^10 + 1129140*q^12 + 15022260*q^14 + 146113470*q^16 + 1086251040*q^18 + O(q^22) \\ \\\n",
       "40 & 1 + 997920*q^12 + 13685760*q^14 + 178877160*q^16 + 1694837760*q^18 + O(q^22) \\ \\\n",
       "44 & 1 + 463716*q^12 + 11205216*q^14 + 178914582*q^16 + 2146099296*q^18 + O(q^22) \\ \\"
      ]
     },
     "execution_count": 40,
     "metadata": {},
     "output_type": "execute_result"
    }
   ],
   "source": [
    "for n in range(8,45,4):\n",
    "    k = n/2\n",
    "    #values of the minimum\n",
    "    min_ext = [2,4,4,6,6,8,8,10,10,12,12]\n",
    "    #eqns (-a,b,c) means bx1+cx2=a, ieqs (-a,b,c) means bx1+cx2 >=a\n",
    "    P6 = Polyhedron(eqns = [(-k,2,4)], ieqs = [(0,1,0),(0,0,1)], base_ring = QQ)\n",
    "    #solves 2\\lambda+4\\mu=k\n",
    "    L6_exp = P6.integral_points()\n",
    "    if len(L6_exp) == 1:\n",
    "        p = (Theta_QQF4g**L6_exp[0][0])*(Delta_6**L6_exp[0][1])\n",
    "        [n,p(q^2)+O(q^22)]\n",
    "    else:\n",
    "        M = matrix(len(L6_exp)+1,40)\n",
    "        M[0,0] = -1\n",
    "        for i in range(0,len(L6_exp)):\n",
    "            p = (Theta_QQF4g**L6_exp[i][0])*(Delta_6**L6_exp[i][1]) \n",
    "            M[i+1,0:p.degree()+1] = vector(p.list())  \n",
    "        #identify coefficients to eliminate low powers of q\n",
    "        L6_coeffs = Polyhedron(eqns = M[:,[0..min_ext[n/4-1]/2-1]].transpose(), base_ring = QQ).integral_points()\n",
    "        #initialize coeffs of the extremal series to be computed\n",
    "        ext_series_coeffs = matrix(1,40)\n",
    "        for i in range(0,len(L6_coeffs[0])):\n",
    "            ext_series_coeffs = ext_series_coeffs + M[i+1,:]*L6_coeffs[0][i]\n",
    "        #find a way to get a list \n",
    "        l = [0,0,0,0,0,0,0,0,0,0]\n",
    "        for i in range(0,10):    \n",
    "            l[i] = ext_series_coeffs[0][i]\n",
    "        #latex printing for tabular\n",
    "        print n,\"&\",R(l)(q^2)+O(q^22),\"\\\\\",\"\\\\\""
   ]
  },
  {
   "cell_type": "markdown",
   "metadata": {},
   "source": [
    "<p>Same computations with QQF4i.</p>"
   ]
  },
  {
   "cell_type": "code",
   "execution_count": 43,
   "metadata": {},
   "outputs": [
    {
     "data": {
      "text/plain": [
       "8 & 1 + 72*q^4 + 192*q^6 + 504*q^8 + 576*q^10 + 2280*q^12 + O(q^13) \\\n",
       "12 & 1 + 84*q^4 + 448*q^6 + 2940*q^8 + 6720*q^10 + 19124*q^12 + O(q^13) \\\n",
       "16 & 1 + 960*q^6 + 6480*q^8 + 25920*q^10 + 113280*q^12 + O(q^13) \\\n",
       "20 & 1 + 640*q^6 + 9180*q^8 + 65664*q^10 + 348800*q^12 + O(q^13) \\\n",
       "24 & 1 + 10584*q^8 + 96768*q^10 + 737856*q^12 + O(q^13) \\\n",
       "28 & 1 + 6020*q^8 + 103936*q^10 + 1135680*q^12 + O(q^13) \\\n",
       "32 & 1 + 103680*q^10 + 1238400*q^12 + O(q^13) \\\n",
       "36 & 1 + 53424*q^10 + 1102080*q^12 + O(q^13) \\\n",
       "40 & 1 + 997920*q^12 + O(q^13) \\\n",
       "44 & 1 + 481536*q^12 + O(q^13) \\"
      ]
     },
     "execution_count": 43,
     "metadata": {},
     "output_type": "execute_result"
    }
   ],
   "source": [
    "for n in range(8,45,4):\n",
    "    k = n/2\n",
    "    #values of the minimum\n",
    "    min_ext = [2,4,4,6,6,8,8,10,10,12,12]\n",
    "    #eqns (-a,b,c) means bx1+cx2=a, ieqs (-a,b,c) means bx1+cx2 >=a\n",
    "    P6 = Polyhedron(eqns = [(-k,2,4)], ieqs = [(0,1,0),(0,0,1)], base_ring = QQ)\n",
    "    #solves 2\\lambda+4\\mu=k\n",
    "    L6_exp = P6.integral_points()\n",
    "    if len(L6_exp) == 1:\n",
    "        p = (Theta_QQF4i**L6_exp[0][0])*(Delta_6**L6_exp[0][1])\n",
    "        [n,p(q^2)+O(q^7)]\n",
    "    else:\n",
    "        M = matrix(len(L6_exp)+1,20)\n",
    "        M[0,0] = -1\n",
    "        for i in range(0,len(L6_exp)):\n",
    "            p = (Theta_QQF4i**L6_exp[i][0])*(Delta_6**L6_exp[i][1]) \n",
    "            M[i+1,0:p.degree()+1] = vector(p.list())  \n",
    "        #identify coefficients to eliminate low powers of q\n",
    "        L6_coeffs = Polyhedron(eqns = M[:,[0..min_ext[n/4-1]/2-1]].transpose(), base_ring = QQ).integral_points()\n",
    "        #initialize coeffs of the extremal series to be computed\n",
    "        ext_series_coeffs = matrix(1,20)\n",
    "        for i in range(0,len(L6_coeffs[0])):\n",
    "            ext_series_coeffs = ext_series_coeffs + M[i+1,:]*L6_coeffs[0][i]\n",
    "        #find a way to get a list \n",
    "        l = [0,0,0,0,0,0,0,0,0,0]\n",
    "        for i in range(0,10):    \n",
    "            l[i] = ext_series_coeffs[0][i]\n",
    "        #latex printing for tabular\n",
    "        print n,\"&\",R(l)(q^2)+O(q^13),\"\\\\\""
   ]
  },
  {
   "cell_type": "markdown",
   "metadata": {},
   "source": [
    "<p><span style=\"font-size: xx-large; color: #339966; background-color: #ccffcc;\">$l=7$</span></p>"
   ]
  },
  {
   "cell_type": "code",
   "execution_count": 98,
   "metadata": {},
   "outputs": [
    {
     "data": {
      "text/plain": [
       "q^2 - 3*q^4 + 5*q^8 - 7*q^14 - 3*q^16 + 9*q^18 - 6*q^22 + 21*q^28 - 11*q^32 - 27*q^36 + O(q^44)"
      ]
     },
     "execution_count": 98,
     "metadata": {},
     "output_type": "execute_result"
    }
   ],
   "source": [
    "q^2*(qexp_eta(ZZ[['q']], 21)(q^2)*qexp_eta(ZZ[['q']], 21)(q^14))^3"
   ]
  },
  {
   "cell_type": "code",
   "execution_count": 97,
   "metadata": {},
   "outputs": [
    {
     "data": {
      "text/plain": []
     },
     "execution_count": 97,
     "metadata": {},
     "output_type": "execute_result"
    }
   ],
   "source": [
    "R.<q> = PowerSeriesRing(ZZ, default_prec=22)\n",
    "Delta_7 = q - 3*q^2 + 5*q^4 -7*q^7 -3*q^8 + 9*q^9 -6*q^11 + 21*q^14 - 11*q^16 - 27*q^18 + O(q^22)\n",
    "Theta_L7 = 1 + 2*q + 4*q^2 + 6*q^4 + 2*q^7 + 8*q^8 + 2*q^9 + 4*q^11 + 4*q^14 + 10*q^16 + 4*q^18 + 8*q^22 + O(q^23)"
   ]
  },
  {
   "cell_type": "markdown",
   "metadata": {},
   "source": [
    "<p>Lattices that are 7-modular exist in even dimensions from 4 to 34.</p>\n",
    "<p>We $l=7$, we need $\\lambda+3\\mu=k$, $\\lambda,\\mu \\geq 0$.</p>"
   ]
  },
  {
   "cell_type": "code",
   "execution_count": 94,
   "metadata": {},
   "outputs": [
    {
     "data": {
      "text/plain": [
       "[4,\n",
       " 1 + 4*q^2 + 12*q^4 + 16*q^6 + 28*q^8 + 24*q^10 + 48*q^12 + 4*q^14 + 60*q^16 + 52*q^18 + 72*q^20 + O(q^22)]\n",
       "6 & 1 + 42*q^4 + 56*q^6 + 84*q^8 + 168*q^10 + 280*q^12 + 336*q^14 + 462*q^16 + 336*q^18 + O(q^22) \\\n",
       "8 & 1 + 48*q^4 + 144*q^6 + 384*q^8 + 528*q^10 + 1200*q^12 + 1920*q^14 + 2736*q^16 + 3744*q^18 + O(q^22) \\\n",
       "10 & 1 + 50*q^4 + 240*q^6 + 900*q^8 + 1872*q^10 + 4080*q^12 + 7200*q^14 + 13750*q^16 + 20000*q^18 + O(q^22) \\\n",
       "12 & 1 + 616*q^6 + 1176*q^8 + 4200*q^10 + 13272*q^12 + 24192*q^14 + 49392*q^16 + 85456*q^18 + O(q^22) \\\n",
       "14 & 1 + 560*q^6 + 2394*q^8 + 9072*q^10 + 26824*q^12 + 71136*q^14 + 158004*q^16 + 306432*q^18 + O(q^22) \\\n",
       "16 & 1 + 480*q^6 + 3360*q^8 + 15840*q^10 + 55200*q^12 + 165120*q^14 + 423360*q^16 + 960960*q^18 + O(q^22) \\\n",
       "18 & 1 + 7434*q^8 + 13104*q^10 + 104496*q^12 + 376992*q^14 + 947772*q^16 + 2544752*q^18 + O(q^22) \\\n",
       "20 & 1 + 6160*q^8 + 27104*q^10 + 157080*q^12 + 633600*q^14 + 2152920*q^16 + 6049120*q^18 + O(q^22) \\\n",
       "22 & 1 + 4906*q^8 + 35904*q^10 + 225368*q^12 + 1040512*q^14 + 4044084*q^16 + 13028928*q^18 + O(q^22) \\\n",
       "24 & 1 + 84672*q^10 + 91728*q^12 + 1911168*q^14 + 7302960*q^16 + 23284800*q^18 + O(q^22) \\\n",
       "26 & 1 + 66612*q^10 + 256620*q^12 + 2279160*q^14 + 11102910*q^16 + 45265220*q^18 + O(q^22) \\\n",
       "28 & 1 + 50848*q^10 + 348264*q^12 + 2823552*q^14 + 15955800*q^16 + 74734240*q^18 + O(q^22) \\\n",
       "30 & 1 + 944720*q^12 - 33600*q^14 + 30815610*q^16 + 109556160*q^18 + O(q^22) \\\n",
       "32 & 1 + 719040*q^12 + 2004480*q^14 + 30784320*q^16 + 161763840*q^18 + O(q^22) \\\n",
       "34 & 1 + 534072*q^12 + 3096720*q^14 + 33550146*q^16 + 215355728*q^18 + O(q^22) \\"
      ]
     },
     "execution_count": 94,
     "metadata": {},
     "output_type": "execute_result"
    }
   ],
   "source": [
    "for n in range(4,35,2):\n",
    "    k = n/2\n",
    "    #values of the minimum (the min for dim 2 is needed to use index 0)\n",
    "    min_ext = [2,2,4,4,4,6,6,6,8,8,8,10,10,10,12,12,12]\n",
    "    #eqns (-a,b,c) means bx1+cx2=a, ieqs (-a,b,c) means bx1+cx2 >=a\n",
    "    P7 = Polyhedron(eqns = [(-k,1,3)], ieqs = [(0,1,0),(0,0,1)], base_ring = QQ)\n",
    "    #solves \\lambda+3\\mu=k\n",
    "    L7_exp = P7.integral_points()\n",
    "    if len(L7_exp) == 1:\n",
    "        p = (Theta_L7**L7_exp[0][0])*(Delta_7**L7_exp[0][1])\n",
    "        [n,p(q^2)+O(q^22)]\n",
    "    else:\n",
    "        M = matrix(len(L7_exp)+1,35)\n",
    "        M[0,0] = -1\n",
    "        for i in range(0,len(L7_exp)):\n",
    "            p = (Theta_L7**L7_exp[i][0])*(Delta_7**L7_exp[i][1]) \n",
    "            M[i+1,0:p.degree()+1] = vector(p.list())    \n",
    "        #identify coefficients to eliminate low powers of q\n",
    "        L7_coeffs = Polyhedron(eqns = M[:,[0..min_ext[n/2-1]/2-1]].transpose(), base_ring = QQ).integral_points()\n",
    "        #initialize coeffs of the extremal series to be computed\n",
    "        ext_series_coeffs = matrix(1,35)\n",
    "        for i in range(0,len(L7_coeffs[0])):\n",
    "            ext_series_coeffs = ext_series_coeffs + M[i+1,:]*L7_coeffs[0][i]\n",
    "        #find a way to get a list \n",
    "        l = [0,0,0,0,0,0,0,0,0,0,0]\n",
    "        for i in range(0,10):    \n",
    "            l[i] = ext_series_coeffs[0][i]\n",
    "        #latex printing for tabular\n",
    "        print n,\"&\",R(l)(q^2)+O(q^22),\"\\\\\""
   ]
  },
  {
   "cell_type": "markdown",
   "metadata": {},
   "source": [
    "<p><span style=\"font-size: xx-large; background-color: #ccffcc; color: #339966;\">$l=11$</span></p>\n",
    "<p>For $l=11$, the cusp form $\\Delta_{11}$ has weight 2. It can be computed using the modular form approach, or the eta function approach (in which case the convention is to use $q^i$ while for the former approach, it uses $q^{i/2}$.)</p>"
   ]
  },
  {
   "cell_type": "code",
   "execution_count": 89,
   "metadata": {},
   "outputs": [
    {
     "data": {
      "text/plain": [
       "[\n",
       "q - 2*q^2 - q^3 + 2*q^4 + q^5 + 2*q^6 - 2*q^7 - 2*q^9 - 2*q^10 + q^11 - 2*q^12 + 4*q^13 + 4*q^14 - q^15 + O(q^16)\n",
       "]"
      ]
     },
     "execution_count": 89,
     "metadata": {},
     "output_type": "execute_result"
    }
   ],
   "source": [
    "c11_2 = CuspForms(Gamma0(11),2,prec=16)\n",
    "c11_2.basis()"
   ]
  },
  {
   "cell_type": "code",
   "execution_count": 104,
   "metadata": {},
   "outputs": [
    {
     "data": {
      "text/plain": [
       "q^2 - 2*q^4 - q^6 + 2*q^8 + q^10 + 2*q^12 - 2*q^14 - 2*q^18 - 2*q^20 + O(q^22)"
      ]
     },
     "execution_count": 104,
     "metadata": {},
     "output_type": "execute_result"
    }
   ],
   "source": [
    "q^2*(qexp_eta(ZZ[['q']], 10)(q^2)*qexp_eta(ZZ[['q']], 10)(q^22))^2"
   ]
  },
  {
   "cell_type": "code",
   "execution_count": 90,
   "metadata": {},
   "outputs": [
    {
     "data": {
      "text/plain": [
       "(q - 2*q^2 - q^3 + 2*q^4 + q^5 + 2*q^6 - 2*q^7 - 2*q^9 - 2*q^10 + q^11 - 2*q^12 + 4*q^13 + 4*q^14 - q^15 + O(q^16),\n",
       " 1 + 2*q + 4*q^3 + 2*q^4 + 4*q^5 + 6*q^9 + 2*q^11 + 4*q^12 + 8*q^15 + O(q^16))"
      ]
     },
     "execution_count": 90,
     "metadata": {},
     "output_type": "execute_result"
    }
   ],
   "source": [
    "R.<q> = PowerSeriesRing(ZZ, default_prec=16)\n",
    "Delta_11 = q - 2*q^2 - q^3 + 2*q^4 + q^5 + 2*q^6 - 2*q^7 - 2*q^9 - 2*q^10 + q^11 - 2*q^12 + 4*q^13 + 4*q^14 - q^15 + O(q^16)\n",
    "Theta_L11 = 1 + 2*q + 4*q^3 + 2*q^4 + 4*q^5 + 6*q^9 + 2*q^11 + 4*q^12 + 8*q^15 + O(q^16)\n",
    "Delta_11, Theta_L11"
   ]
  },
  {
   "cell_type": "markdown",
   "metadata": {},
   "source": [
    "<p>Lattices which are 11-modular exist in even dimensions from 2 to 14 and 18 (hypothetically for 16).</p>\n",
    "<p>For $l=11$, we have $\\lambda+2\\mu=2$, $\\lambda,\\mu\\geq 0$.</p>"
   ]
  },
  {
   "cell_type": "code",
   "execution_count": 91,
   "metadata": {},
   "outputs": [
    {
     "data": {
      "text/plain": [
       "4 & 1 + 12*q^4 + 12*q^6 + 12*q^8 + 12*q^10 + 24*q^12 + O(q^13) \\\n",
       "6 & 1 + 12*q^4 + 50*q^6 + 30*q^8 + 90*q^10 + 120*q^12 + O(q^13) \\\n",
       "8 & 1 + 120*q^6 + 120*q^8 + 120*q^10 + 600*q^12 + O(q^13) \\\n",
       "10 & 1 + 110*q^6 + 330*q^8 + 462*q^10 + 1320*q^12 + O(q^13) \\\n",
       "12 & 1 + 1044*q^8 + 288*q^10 + 1908*q^12 + O(q^13) \\\n",
       "14 & 1 + 854*q^8 + 2184*q^10 + 2996*q^12 + O(q^13) \\\n",
       "16 & 1 + 8640*q^10 - 6000*q^12 + O(q^13) \\\n",
       "18 & 1 + 6732*q^10 + 10560*q^12 + O(q^13) \\"
      ]
     },
     "execution_count": 91,
     "metadata": {},
     "output_type": "execute_result"
    }
   ],
   "source": [
    "for n in range(4,19,2):\n",
    "    k = n/2\n",
    "    #values of the minimum (the min for dim 2 is needed to use index 0)\n",
    "    min_ext = [2,4,4,6,6,8,8,10,10]\n",
    "    #eqns (-a,b,c) means bx1+cx2=a, ieqs (-a,b,c) means bx1+cx2 >=a\n",
    "    P11 = Polyhedron(eqns = [(-k,1,2)], ieqs = [(0,1,0),(0,0,1)], base_ring = QQ)\n",
    "    #solves \\lambda+2\\mu=k\n",
    "    L11_exp = P11.integral_points()\n",
    "    if len(L11_exp) == 1:\n",
    "        p = (Theta_L11**L11_exp[0][0])*(Delta_11**L11_exp[0][1])\n",
    "        [n,p(q^2)+O(q^7)]\n",
    "    else:\n",
    "        M = matrix(len(L11_exp)+1,20)\n",
    "        M[0,0] = -1\n",
    "        for i in range(0,len(L11_exp)):\n",
    "            p = (Theta_L11**L11_exp[i][0])*(Delta_11**L11_exp[i][1]) \n",
    "            M[i+1,0:p.degree()+1] = vector(p.list())\n",
    "        #identify coefficients to eliminate low powers of q\n",
    "        L11_coeffs = Polyhedron(eqns = M[:,[0..min_ext[n/2-1]/2-1]].transpose(), base_ring = QQ).integral_points()\n",
    "        #initialize coeffs of the extremal series to be computed\n",
    "        ext_series_coeffs = matrix(1,20)\n",
    "        for i in range(0,len(L11_coeffs[0])):\n",
    "            ext_series_coeffs = ext_series_coeffs + M[i+1,:]*L11_coeffs[0][i]\n",
    "        #find a way to get a list \n",
    "        l = [0,0,0,0,0,0,0,0,0,0]\n",
    "        for i in range(0,10):    \n",
    "            l[i] = ext_series_coeffs[0][i]\n",
    "        #latex printing for tabular\n",
    "        print n,\"&\",R(l)(q^2)+O(q^13),\"\\\\\""
   ]
  },
  {
   "cell_type": "markdown",
   "metadata": {},
   "source": [
    "<p><span style=\"color: #339966; background-color: #ccffcc; font-size: xx-large;\">$l=14$</span></p>\n",
    "<p>For $l=14$, the cusp form $\\Delta_{14}$ has weight 2.</p>"
   ]
  },
  {
   "cell_type": "code",
   "execution_count": 9,
   "metadata": {},
   "outputs": [
    {
     "data": {
      "text/plain": [
       "[\n",
       "q - q^2 - 2*q^3 + q^4 + 2*q^6 + q^7 - q^8 + q^9 - 2*q^12 - 4*q^13 - q^14 + q^16 + 6*q^17 - q^18 + 2*q^19 - 2*q^21 + 2*q^24 + O(q^25)\n",
       "]"
      ]
     },
     "execution_count": 9,
     "metadata": {},
     "output_type": "execute_result"
    }
   ],
   "source": [
    "c14_2 = CuspForms(Gamma0(14),2,prec=25)\n",
    "c14_2.basis()"
   ]
  },
  {
   "cell_type": "code",
   "execution_count": 10,
   "metadata": {},
   "outputs": [
    {
     "data": {
      "text/plain": [
       "q - q^2 - 2*q^3 + q^4 + 2*q^6 + q^7 - q^8 + q^9 - 2*q^12 - 4*q^13 - q^14 + q^16 + 6*q^17 - q^18 + 2*q^19 - 2*q^21 + 2*q^24 + O(q^25)"
      ]
     },
     "execution_count": 10,
     "metadata": {},
     "output_type": "execute_result"
    }
   ],
   "source": [
    "R.<q> = PowerSeriesRing(ZZ, default_prec=16)\n",
    "Delta_14 = q - q^2 - 2*q^3 + q^4 + 2*q^6 + q^7 - q^8 + q^9 - 2*q^12 - 4*q^13 - q^14 + q^16 + 6*q^17 - q^18 + 2*q^19 - 2*q^21 + 2*q^24 + O(q^25)\n",
    "Delta_14"
   ]
  },
  {
   "cell_type": "markdown",
   "metadata": {},
   "source": [
    "<p>Another way to compute $\\Delta_{14}$.</p>"
   ]
  },
  {
   "cell_type": "code",
   "execution_count": 103,
   "metadata": {},
   "outputs": [
    {
     "data": {
      "text/plain": [
       "q^2 - q^4 - 2*q^6 + q^8 + 2*q^12 + q^14 - q^16 + q^18 - 2*q^24 - 4*q^26 - q^28 + q^32 + 6*q^34 - q^36 + 2*q^38 - 2*q^42 + O(q^44)"
      ]
     },
     "execution_count": 103,
     "metadata": {},
     "output_type": "execute_result"
    }
   ],
   "source": [
    "q^2*(qexp_eta(ZZ[['q']], 21)(q^2)*qexp_eta(ZZ[['q']], 21)(q^4)*qexp_eta(ZZ[['q']], 21)(q^14)*qexp_eta(ZZ[['q']], 21)(q^28))"
   ]
  },
  {
   "cell_type": "code",
   "execution_count": 44,
   "metadata": {},
   "outputs": [
    {
     "data": {
      "text/plain": [
       "[\n",
       "q - q^2 - 2*q^3 + q^4 + 2*q^6 + q^7 - q^8 + q^9 - 2*q^12 - 4*q^13 - q^14 + q^16 + 6*q^17 - q^18 + 2*q^19 + O(q^21),\n",
       "1 + 24*q^7 + 24*q^14 + O(q^21),\n",
       "q + 4*q^3 - 2*q^4 + 6*q^5 + 13*q^7 - 6*q^8 + 13*q^9 + 12*q^11 - 8*q^12 + 14*q^13 + 12*q^14 + 24*q^15 - 14*q^16 + 18*q^17 + 20*q^19 - 12*q^20 + O(q^21),\n",
       "q^2 + 3*q^4 + 4*q^6 - 6*q^7 + 7*q^8 + 6*q^10 + 12*q^12 - 5*q^14 + 15*q^16 + 13*q^18 + 18*q^20 + O(q^21)\n",
       "]"
      ]
     },
     "execution_count": 44,
     "metadata": {},
     "output_type": "execute_result"
    }
   ],
   "source": [
    "m14_2 = ModularForms(Gamma0(14),2, prec=21)\n",
    "b14_2 = m14_2.basis()\n",
    "b14_2"
   ]
  },
  {
   "cell_type": "markdown",
   "metadata": {},
   "source": [
    "<p>The first terms for E(14) are 1,0,8,8,16,8,24.</p>\n",
    "<p><span style=\"color: #ff0000;\">I cannot get it, why???</span></p>"
   ]
  },
  {
   "cell_type": "code",
   "execution_count": 46,
   "metadata": {},
   "outputs": [
    {
     "data": {
      "text/plain": [
       "1 + 8*q^2 + 24*q^4 + 32*q^6 - 24*q^7 + 56*q^8 + O(q^10)"
      ]
     },
     "execution_count": 46,
     "metadata": {},
     "output_type": "execute_result"
    }
   ],
   "source": [
    "b14_2[1]+8*b14_2[3]"
   ]
  },
  {
   "cell_type": "code",
   "execution_count": 51,
   "metadata": {},
   "outputs": [
    {
     "data": {
      "text/plain": [
       "1 + 8*q^2 + 8*q^3 + 16*q^4 + 8*q^5 + 24*q^6 + 40*q^8 + 16*q^9 + 40*q^10 + 16*q^11 + 72*q^12 + 24*q^13 + 8*q^14 + 32*q^15 + 80*q^16 + 16*q^17 + 88*q^18 + 24*q^19 + 104*q^20 + O(q^21)"
      ]
     },
     "execution_count": 51,
     "metadata": {},
     "output_type": "execute_result"
    }
   ],
   "source": [
    "Theta_E14 = 1 + 8*q^2 + 8*q^3 + 16*q^4 + 8*q^5 + 24*q^6 + 40*q^8 + 16*q^9 + 40*q^10 + 16*q^11 + 72*q^12 + 24*q^13 + 8*q^14 + 32*q^15 + + 80*q^16 + 16*q^17 + 88*q^18 + 24*q^19 + 104*q^20 + O(q^21)\n",
    "Theta_E14"
   ]
  },
  {
   "cell_type": "markdown",
   "metadata": {},
   "source": [
    "<p>For $l=14$, we have $2\\lambda+2k_l\\mu=k$, that is $2\\lambda+2\\mu=k$.</p>\n",
    "<p>From [Table 2.4,3], $14$-modular even lattices which are extermal can be found in dimensions which are multiples of 4, from $4$ to $20$.</p>"
   ]
  },
  {
   "cell_type": "code",
   "execution_count": 53,
   "metadata": {},
   "outputs": [
    {
     "data": {
      "text/plain": [
       "8 & 1 + 48*q^6 + 144*q^8 + 48*q^10 + 336*q^12 + 384*q^14 + 864*q^16 + 864*q^18 + O(q^22) \\\n",
       "12 & 1 + 336*q^8 + 672*q^10 + 1064*q^12 + 2688*q^14 + 7560*q^16 + 9632*q^18 + O(q^22) \\\n",
       "16 & 1 + 1920*q^10 + 4320*q^12 + 3840*q^14 + 30240*q^16 + 67200*q^18 + O(q^22) \\\n",
       "20 & 1 + 11480*q^12 + 19200*q^14 + 24360*q^16 + 224000*q^18 + O(q^22) \\"
      ]
     },
     "execution_count": 53,
     "metadata": {},
     "output_type": "execute_result"
    }
   ],
   "source": [
    "for n in range(8,21,4):\n",
    "    k = n/2\n",
    "    #values of the minimum\n",
    "    min_ext = [4,6,8,10,12]\n",
    "    #eqns (-a,b,c) means bx1+cx2=a, ieqs (-a,b,c) means bx1+cx2 >=a\n",
    "    P14 = Polyhedron(eqns = [(-k,2,2)], ieqs = [(0,1,0),(0,0,1)], base_ring = QQ)\n",
    "    #solves 2\\lambda+2\\mu=k\n",
    "    L14_exp = P14.integral_points()\n",
    "    if len(L14_exp) == 1:\n",
    "        p = (Theta_E14**L14_exp[0][0])*(Delta_14**L14_exp[0][1])\n",
    "        [n,p(q^2)+O(q^22)]\n",
    "    else:\n",
    "        M = matrix(len(L14_exp)+1,40)\n",
    "        M[0,0] = -1\n",
    "        for i in range(0,len(L14_exp)):\n",
    "            p = (Theta_E14**L14_exp[i][0])*(Delta_14**L14_exp[i][1]) \n",
    "            M[i+1,0:p.degree()+1] = vector(p.list())  \n",
    "        #identify coefficients to eliminate low powers of q\n",
    "        L14_coeffs = Polyhedron(eqns = M[:,[0..min_ext[n/4-1]/2-1]].transpose(), base_ring = QQ).integral_points()\n",
    "        #initialize coeffs of the extremal series to be computed\n",
    "        ext_series_coeffs = matrix(1,40)\n",
    "        for i in range(0,len(L14_coeffs[0])):\n",
    "            ext_series_coeffs = ext_series_coeffs + M[i+1,:]*L14_coeffs[0][i]\n",
    "        #find a way to get a list \n",
    "        l = [0,0,0,0,0,0,0,0,0,0]\n",
    "        for i in range(0,10):    \n",
    "            l[i] = ext_series_coeffs[0][i]\n",
    "        #latex printing for tabular\n",
    "        print n,\"&\",R(l)(q^2)+O(q^22),\"\\\\\""
   ]
  },
  {
   "cell_type": "markdown",
   "metadata": {},
   "source": [
    "<p>There are two more 14-modular lattices which are strongly modular, not extremal, and can be used to obtain extremal theta series in higher dimensions.</p>\n",
    "<p>They have theta series</p>\n",
    "<p>$\\Theta_{L_{14}}=1+4q+4q^2+20q^4+8q^5+32q^6+4q^7+O(q^8)$</p>\n",
    "<p>$\\Theta_{L_{14}'}=1+2q+6q^2+4q^3+18q^4+8q^5+28q^6+2q^7+O(q^8)$.</p>"
   ]
  },
  {
   "cell_type": "code",
   "execution_count": 84,
   "metadata": {},
   "outputs": [
    {
     "data": {
      "text/plain": []
     },
     "execution_count": 84,
     "metadata": {},
     "output_type": "execute_result"
    }
   ],
   "source": [
    "R.<q> = PowerSeriesRing(ZZ, default_prec=10)\n",
    "Theta_L14 = 1 + 4*q + 4*q^2 + 20*q^4 + 8*q^5 + 32*q^6 + 4*q^7 + O(q^8)\n",
    "Theta_L14_2 = 1 + 2*q + 6*q^2 + 4*q^3 + 18*q^4 + 8*q^5 + 28*q^6 + 2*q^7 + O(q^8)"
   ]
  },
  {
   "cell_type": "code",
   "execution_count": 86,
   "metadata": {},
   "outputs": [
    {
     "data": {
      "text/plain": [
       "8 & 1 + 48*q^6 + 144*q^8 + 48*q^10 + 336*q^12 + O(q^13) \\\n",
       "12 & 1 + 336*q^8 + 672*q^10 + 1064*q^12 + O(q^13) \\\n",
       "16 & 1 + 1920*q^10 + 4320*q^12 + O(q^13) \\\n",
       "20 & 1 + 11480*q^12 + O(q^13) \\"
      ]
     },
     "execution_count": 86,
     "metadata": {},
     "output_type": "execute_result"
    }
   ],
   "source": [
    "for n in range(8,21,4):\n",
    "    k = n/2\n",
    "    #values of the minimum\n",
    "    min_ext = [4,6,8,10,12]\n",
    "    #eqns (-a,b,c) means bx1+cx2=a, ieqs (-a,b,c) means bx1+cx2 >=a\n",
    "    P14 = Polyhedron(eqns = [(-k,2,2)], ieqs = [(0,1,0),(0,0,1)], base_ring = QQ)\n",
    "    #solves 2\\lambda+2\\mu=k\n",
    "    L14_exp = P14.integral_points()\n",
    "    if len(L14_exp) == 1:\n",
    "        p = (Theta_L14**L14_exp[0][0])*(Delta_14**L14_exp[0][1])\n",
    "        [n,p(q^2)+O(q^7)]\n",
    "    else:\n",
    "        M = matrix(len(L14_exp)+1,20)\n",
    "        M[0,0] = -1\n",
    "        for i in range(0,len(L14_exp)):\n",
    "            p = (Theta_L14**L14_exp[i][0])*(Delta_14**L14_exp[i][1]) \n",
    "            M[i+1,0:p.degree()+1] = vector(p.list())  \n",
    "        #identify coefficients to eliminate low powers of q\n",
    "        L14_coeffs = Polyhedron(eqns = M[:,[0..min_ext[n/4-1]/2-1]].transpose(), base_ring = QQ).integral_points()\n",
    "        #initialize coeffs of the extremal series to be computed\n",
    "        ext_series_coeffs = matrix(1,20)\n",
    "        for i in range(0,len(L14_coeffs[0])):\n",
    "            ext_series_coeffs = ext_series_coeffs + M[i+1,:]*L14_coeffs[0][i]\n",
    "        #find a way to get a list \n",
    "        l = [0,0,0,0,0,0,0,0,0,0]\n",
    "        for i in range(0,10):    \n",
    "            l[i] = ext_series_coeffs[0][i]\n",
    "        #latex printing for tabular\n",
    "        print n,\"&\",R(l)(q^2)+O(q^13),\"\\\\\""
   ]
  },
  {
   "cell_type": "code",
   "execution_count": 87,
   "metadata": {},
   "outputs": [
    {
     "data": {
      "text/plain": [
       "8 & 1 + 48*q^6 + 144*q^8 + 48*q^10 + 336*q^12 + O(q^13) \\\n",
       "12 & 1 + 336*q^8 + 672*q^10 + 1064*q^12 + O(q^13) \\\n",
       "16 & 1 + 1920*q^10 + 4320*q^12 + O(q^13) \\\n",
       "20 & 1 + 11480*q^12 + O(q^13) \\"
      ]
     },
     "execution_count": 87,
     "metadata": {},
     "output_type": "execute_result"
    }
   ],
   "source": [
    "for n in range(8,21,4):\n",
    "    k = n/2\n",
    "    #values of the minimum\n",
    "    min_ext = [4,6,8,10,12]\n",
    "    #eqns (-a,b,c) means bx1+cx2=a, ieqs (-a,b,c) means bx1+cx2 >=a\n",
    "    P14 = Polyhedron(eqns = [(-k,2,2)], ieqs = [(0,1,0),(0,0,1)], base_ring = QQ)\n",
    "    #solves 2\\lambda+2\\mu=k\n",
    "    L14_exp = P14.integral_points()\n",
    "    if len(L14_exp) == 1:\n",
    "        p = (Theta_L14_2**L14_exp[0][0])*(Delta_14**L14_exp[0][1])\n",
    "        [n,p(q^2)+O(q^7)]\n",
    "    else:\n",
    "        M = matrix(len(L14_exp)+1,20)\n",
    "        M[0,0] = -1\n",
    "        for i in range(0,len(L14_exp)):\n",
    "            p = (Theta_L14_2**L14_exp[i][0])*(Delta_14**L14_exp[i][1]) \n",
    "            M[i+1,0:p.degree()+1] = vector(p.list())  \n",
    "        #identify coefficients to eliminate low powers of q\n",
    "        L14_coeffs = Polyhedron(eqns = M[:,[0..min_ext[n/4-1]/2-1]].transpose(), base_ring = QQ).integral_points()\n",
    "        #initialize coeffs of the extremal series to be computed\n",
    "        ext_series_coeffs = matrix(1,20)\n",
    "        for i in range(0,len(L14_coeffs[0])):\n",
    "            ext_series_coeffs = ext_series_coeffs + M[i+1,:]*L14_coeffs[0][i]\n",
    "        #find a way to get a list \n",
    "        l = [0,0,0,0,0,0,0,0,0,0]\n",
    "        for i in range(0,10):    \n",
    "            l[i] = ext_series_coeffs[0][i]\n",
    "        #latex printing for tabular\n",
    "        print n,\"&\",R(l)(q^2)+O(q^13),\"\\\\\""
   ]
  },
  {
   "cell_type": "markdown",
   "metadata": {},
   "source": [
    "<p><span style=\"font-size: xx-large; color: #339966; background-color: #ffff99;\">$l=15$</span></p>\n",
    "<p>For $l=15$, $\\Delta_{15}$ is a cusp form of weight 2.</p>"
   ]
  },
  {
   "cell_type": "code",
   "execution_count": 12,
   "metadata": {},
   "outputs": [
    {
     "data": {
      "text/plain": [
       "[\n",
       "q - q^2 - q^3 - q^4 + q^5 + q^6 + 3*q^8 + q^9 - q^10 - 4*q^11 + q^12 - 2*q^13 - q^15 - q^16 + 2*q^17 - q^18 + 4*q^19 - q^20 + O(q^22)\n",
       "]"
      ]
     },
     "execution_count": 12,
     "metadata": {},
     "output_type": "execute_result"
    }
   ],
   "source": [
    "c15_2 = CuspForms(Gamma0(15),2,prec=22)\n",
    "c15_2.basis()"
   ]
  },
  {
   "cell_type": "code",
   "execution_count": 23,
   "metadata": {},
   "outputs": [
    {
     "data": {
      "text/plain": [
       "q - q^2 - q^3 - q^4 + q^5 + q^6 + 3*q^8 + q^9 - q^10 - 4*q^11 + q^12 - 2*q^13 - q^15 - q^16 + 2*q^17 - q^18 + 4*q^19 - q^20 + O(q^22)"
      ]
     },
     "execution_count": 23,
     "metadata": {},
     "output_type": "execute_result"
    }
   ],
   "source": [
    "R.<q> = PowerSeriesRing(ZZ, default_prec=15)\n",
    "Delta_15 = q - q^2 - q^3 - q^4 + q^5 + q^6 + 3*q^8 + q^9 - q^10 - 4*q^11 + q^12 - 2*q^13 - q^15 - q^16 + 2*q^17 - q^18 + 4*q^19 - q^20 + O(q^22)\n",
    "Delta_15"
   ]
  },
  {
   "cell_type": "markdown",
   "metadata": {},
   "source": [
    "<p>Another way to compute $\\Delta_{15}$.</p>"
   ]
  },
  {
   "cell_type": "code",
   "execution_count": 101,
   "metadata": {},
   "outputs": [
    {
     "data": {
      "text/plain": [
       "q^2 - q^4 - q^6 - q^8 + q^10 + q^12 + 3*q^16 + q^18 - q^20 + O(q^22)"
      ]
     },
     "execution_count": 101,
     "metadata": {},
     "output_type": "execute_result"
    }
   ],
   "source": [
    "q^2*(qexp_eta(ZZ[['q']], 10)(q^2)*qexp_eta(ZZ[['q']], 10)(q^6)*qexp_eta(ZZ[['q']], 10)(q^10)*qexp_eta(ZZ[['q']], 10)(q^30))"
   ]
  },
  {
   "cell_type": "code",
   "execution_count": 30,
   "metadata": {},
   "outputs": [
    {
     "data": {
      "text/plain": [
       "[\n",
       "q - q^2 - q^3 - q^4 + q^5 + q^6 + 3*q^8 + q^9 + O(q^10),\n",
       "1 + 12*q^5 + O(q^10),\n",
       "q + 3*q^2 + 7*q^4 + 7*q^5 + 8*q^7 + 15*q^8 - 3*q^9 + O(q^10),\n",
       "q^3 - 2*q^5 + 3*q^6 + 4*q^9 + O(q^10)\n",
       "]"
      ]
     },
     "execution_count": 30,
     "metadata": {},
     "output_type": "execute_result"
    }
   ],
   "source": [
    "m15_2 = ModularForms(Gamma0(15),2, prec=10)\n",
    "b15_2 = m15_2.basis()\n",
    "b15_2"
   ]
  },
  {
   "cell_type": "markdown",
   "metadata": {},
   "source": [
    "<p>The coefficients of E(15) are 1,6,12,12,30.</p>"
   ]
  },
  {
   "cell_type": "code",
   "execution_count": 50,
   "metadata": {},
   "outputs": [
    {
     "data": {
      "text/plain": [
       "1 + 6*q^2 + 12*q^3 + 12*q^4 + 30*q^6 + 12*q^7 + 18*q^8 + 36*q^9 + 6*q^10 + 24*q^11 + 72*q^12 + 24*q^13 + 36*q^14 + 12*q^15 + 48*q^16 + 24*q^17 + 114*q^18 + 24*q^19 + 12*q^20 + O(q^21)"
      ]
     },
     "execution_count": 50,
     "metadata": {},
     "output_type": "execute_result"
    }
   ],
   "source": [
    "Theta_E15 = 1 + 6*q^2 + 12*q^3 + 12*q^4 + 30*q^6 + 12*q^7 + 18*q^8 + 36*q^9 + 6*q^10 + 24*q^11 + 72*q^12 + 24*q^13 + 36*q^14 + 12*q^15 + + 48*q^16 + 24*q^17 + 114*q^18 + 24*q^19 + 12*q^20 + O(q^21)\n",
    "Theta_E15"
   ]
  },
  {
   "cell_type": "markdown",
   "metadata": {},
   "source": [
    "<p>For $l=15$, we have $2\\lambda+2k_l\\mu=k$, that is $2\\lambda+2\\mu=k$.</p>\n",
    "<p>From [Table 2.4,3], $14$-modular even lattices which are extermal can be found in dimensions which are multiples of 4, from $4$ to $20$.</p>"
   ]
  },
  {
   "cell_type": "code",
   "execution_count": 54,
   "metadata": {},
   "outputs": [
    {
     "data": {
      "text/plain": [
       "8 & 1 + 48*q^6 + 72*q^8 + 144*q^10 + 288*q^12 + 288*q^14 + 576*q^16 + 912*q^18 + O(q^22) \\\n",
       "12 & 1 + 270*q^8 + 432*q^10 + 1260*q^12 + 2160*q^14 + 4860*q^16 + 10080*q^18 + O(q^22) \\\n",
       "16 & 1 + 1440*q^10 + 2400*q^12 + 7200*q^14 + 18000*q^16 + 48000*q^18 + O(q^22) \\\n",
       "20 & 1 + 7860*q^12 + 9720*q^14 + 42930*q^16 + 126960*q^18 + O(q^22) \\"
      ]
     },
     "execution_count": 54,
     "metadata": {},
     "output_type": "execute_result"
    }
   ],
   "source": [
    "for n in range(8,21,4):\n",
    "    k = n/2\n",
    "    #values of the minimum\n",
    "    min_ext = [4,6,8,10,12]\n",
    "    #eqns (-a,b,c) means bx1+cx2=a, ieqs (-a,b,c) means bx1+cx2 >=a\n",
    "    P15 = Polyhedron(eqns = [(-k,2,2)], ieqs = [(0,1,0),(0,0,1)], base_ring = QQ)\n",
    "    #solves 2\\lambda+2\\mu=k\n",
    "    L15_exp = P15.integral_points()\n",
    "    if len(L15_exp) == 1:\n",
    "        p = (Theta_E15**L15_exp[0][0])*(Delta_15**L15_exp[0][1])\n",
    "        [n,p(q^2)+O(q^22)]\n",
    "    else:\n",
    "        M = matrix(len(L15_exp)+1,30)\n",
    "        M[0,0] = -1\n",
    "        for i in range(0,len(L15_exp)):\n",
    "            p = (Theta_E15**L15_exp[i][0])*(Delta_15**L15_exp[i][1]) \n",
    "            M[i+1,0:p.degree()+1] = vector(p.list())  \n",
    "        #identify coefficients to eliminate low powers of q\n",
    "        L15_coeffs = Polyhedron(eqns = M[:,[0..min_ext[n/4-1]/2-1]].transpose(), base_ring = QQ).integral_points()\n",
    "        #initialize coeffs of the extremal series to be computed\n",
    "        ext_series_coeffs = matrix(1,30)\n",
    "        for i in range(0,len(L15_coeffs[0])):\n",
    "            ext_series_coeffs = ext_series_coeffs + M[i+1,:]*L15_coeffs[0][i]\n",
    "        #find a way to get a list \n",
    "        l = [0,0,0,0,0,0,0,0,0,0]\n",
    "        for i in range(0,10):    \n",
    "            l[i] = ext_series_coeffs[0][i]\n",
    "        #latex printing for tabular\n",
    "        print n,\"&\",R(l)(q^2)+O(q^22),\"\\\\\""
   ]
  },
  {
   "cell_type": "markdown",
   "metadata": {},
   "source": [
    "<p>Now it is possible that a 15-modular lattice which is not extremal could be used.</p>\n",
    "<p>Below, we tried to find them by computing the Minkowski reduced form.</p>\n",
    "<p>The constraints are described in the book by Conway and Sloane, but the search space is too big to get it done just like that.</p>"
   ]
  },
  {
   "cell_type": "code",
   "execution_count": 69,
   "metadata": {},
   "outputs": [
    {
     "data": {
      "text/plain": [
       "WARNING: Output truncated!  \n",
       "<html><a target='_new' href='/home/admin/2/cells/69/full_output.txt' class='file_link'>full_output.txt</a></html>\n",
       "\n",
       "\n",
       "\n",
       "(\n",
       "     [ 3  0  0  0]\n",
       "     [ 0  4 -1  0]\n",
       "     [ 0 -1  4  0]\n",
       "744, [ 0  0  0  5]\n",
       ")\n",
       "(\n",
       "     [3 0 0 0]\n",
       "     [0 4 1 0]\n",
       "     [0 1 4 0]\n",
       "790, [0 0 0 5]\n",
       ")\n",
       "(\n",
       "      [ 4 -1  0  0]\n",
       "      [-1  4  0  0]\n",
       "      [ 0  0  4 -1]\n",
       "2809, [ 0  0 -1  4]\n",
       ")\n",
       "(\n",
       "      [ 4 -1  0  0]\n",
       "      [-1  4  0  0]\n",
       "      [ 0  0  4  1]\n",
       "2811, [ 0  0  1  4]\n",
       ")\n",
       "(\n",
       "      [ 4  0 -1  0]\n",
       "      [ 0  4  0 -1]\n",
       "      [-1  0  4  0]\n",
       "3917, [ 0 -1  0  4]\n",
       ")\n",
       "(\n",
       "      [ 4  0 -1  0]\n",
       "      [ 0  4  0  1]\n",
       "      [-1  0  4  0]\n",
       "3927, [ 0  1  0  4]\n",
       ")\n",
       "(\n",
       "      [ 4  0  0 -1]\n",
       "      [ 0  4 -1  0]\n",
       "      [ 0 -1  4  0]\n",
       "4235, [-1  0  0  4]\n",
       ")\n",
       "(\n",
       "      [ 4  0  0 -1]\n",
       "      [ 0  4  1  0]\n",
       "      [ 0  1  4  0]\n",
       "4281, [-1  0  0  4]\n",
       ")\n",
       "(\n",
       "      [ 4  0  0  1]\n",
       "      [ 0  4 -1  0]\n",
       "      [ 0 -1  4  0]\n",
       "4421, [ 1  0  0  4]\n",
       ")\n",
       "(\n",
       "      [4 0 0 1]\n",
       "      [0 4 1 0]\n",
       "      [0 1 4 0]\n",
       "4467, [1 0 0 4]\n",
       "\n",
       "...\n",
       "\n",
       "(\n",
       "        [ 5  2 -1  2]\n",
       "        [ 2  5 -1 -1]\n",
       "        [-1 -1  5 -1]\n",
       "117558, [ 2 -1 -1  4]\n",
       ")\n",
       "(\n",
       "        [ 5  2  0 -1]\n",
       "        [ 2  5 -2  1]\n",
       "        [ 0 -2  5  1]\n",
       "117678, [-1  1  1  4]\n",
       ")\n",
       "(\n",
       "        [ 5  2  0 -1]\n",
       "        [ 2  5  2  1]\n",
       "        [ 0  2  5 -1]\n",
       "117763, [-1  1 -1  4]\n",
       ")\n",
       "(\n",
       "        [ 5  2  0  1]\n",
       "        [ 2  5 -2 -1]\n",
       "        [ 0 -2  5 -1]\n",
       "117888, [ 1 -1 -1  4]\n",
       ")\n",
       "(\n",
       "        [ 5  2  0  1]\n",
       "        [ 2  5  2 -1]\n",
       "        [ 0  2  5  1]\n",
       "117980, [ 1 -1  1  4]\n",
       ")\n",
       "(\n",
       "        [ 5  2  1 -2]\n",
       "        [ 2  5  1  1]\n",
       "        [ 1  1  5 -1]\n",
       "118100, [-2  1 -1  4]\n",
       ")\n",
       "(\n",
       "        [ 5  2  1 -1]\n",
       "        [ 2  5  1  2]\n",
       "        [ 1  1  5  1]\n",
       "118194, [-1  2  1  4]\n",
       ")\n",
       "(\n",
       "        [ 5  2  1  1]\n",
       "        [ 2  5  1 -2]\n",
       "        [ 1  1  5 -1]\n",
       "118379, [ 1 -2 -1  4]\n",
       ")\n",
       "(\n",
       "        [ 5  2  2 -1]\n",
       "        [ 2  5  0  1]\n",
       "        [ 2  0  5  1]\n",
       "118523, [-1  1  1  4]\n",
       ")\n",
       "(\n",
       "        [ 5  2  2  1]\n",
       "        [ 2  5  0 -1]\n",
       "        [ 2  0  5 -1]\n",
       "118622, [ 1 -1 -1  4]\n",
       ")"
      ]
     },
     "execution_count": 69,
     "metadata": {},
     "output_type": "execute_result"
    }
   ],
   "source": [
    "P = Polyhedron(ieqs=[(-2,1,0,0,0,0,0,0,0,0,0), # a11 >= 2, restricting to even lattices \n",
    "                     (0,1,-2,0,0,0,0,0,0,0,0), # a11-2a12>=0\n",
    "                     (0,1,2,0,0,0,0,0,0,0,0), # a11+2a12>=0\n",
    "                     (0,1,0,-2,0,0,0,0,0,0,0), # a11-2a13>=0\n",
    "                     (0,1,0,2,0,0,0,0,0,0,0), # a11+2a13>=0\n",
    "                     (0,1,0,0,-2,0,0,0,0,0,0), #a11-2a14>=0\n",
    "                     (0,1,0,0,2,0,0,0,0,0,0), #a11+2a14>=0\n",
    "                     (0,-1,0,0,0,1,0,0,0,0,0), #a22-a11>=0\n",
    "                     (0,0,0,0,0,1,-2,0,0,0,0), #a22-2a23>=0\n",
    "                     (0,0,0,0,0,1,2,0,0,0,0), #a22+2a23>=0\n",
    "                     (0,0,0,0,0,1,0,-2,0,0,0), #a22-2a24>=0\n",
    "                     (0,0,0,0,0,1,0,2,0,0,0), #a22+2a24>=0\n",
    "                     (0,0,0,0,0,-1,0,0,1,0,0), #a33-a22>=0\n",
    "                     (0,0,0,0,0,0,0,0,1,-2,0), #a33-2a34>=0\n",
    "                     (0,0,0,0,0,0,0,0,1,2,0), #a33+2a34>=0\n",
    "                     (0,0,0,0,0,0,0,0,0,-1,1), #a44-a33>=0\n",
    "                     (5,-1,0,0,0,0,0,0,0,0,0), # -a11 >=-(first coeff)\n",
    "                     (4,0,-1,0,0,0,0,0,0,0,0), # a12\n",
    "                     (4,0,0,-1,0,0,0,0,0,0,0), # a13\n",
    "                     (4,0,0,0,-1,0,0,0,0,0,0), # a14\n",
    "                     (5,0,0,0,0,-1,0,0,0,0,0), # a22\n",
    "                     (4,0,0,0,0,0,-1,0,0,0,0), # a23\n",
    "                     (4,0,0,0,0,0,0,-1,0,0,0), # a24\n",
    "                     (5,0,0,0,0,0,0,0,-1,0,0), # a33\n",
    "                     (4,0,0,0,0,0,0,0,0,-1,0), # a34\n",
    "                     (5,0,0,0,0,0,0,0,0,0,-1), # a44\n",
    "                     (0,1,-2,-2,0,1,-2,0,0,0,0), #[with 123] a11 + a22 - 2[a12+a13+a23] >=0\n",
    "                     (0,1,2,2,0,1,2,0,0,0,0), # a11 + a22 + 2[a12+a13+a23] >=0\n",
    "                     (0,1,-2,-2,0,1,2,0,0,0,0), # a11 + a22 - 2[a12+a13-a23] >=0\n",
    "                     (0,1,2,2,0,1,-2,0,0,0,0), # a11 + a22 + 2[a12+a13-a23] >=0\n",
    "                     (0,1,-2,2,0,1,-2,0,0,0,0), # a11 + a22 - 2[a12-a13+a23] >=0\n",
    "                     (0,1,2,-2,0,1,2,0,0,0,0), # a11 + a22 + 2[a12-a13+a23] >=0\n",
    "                     (0,1,-2,2,0,1,2,0,0,0,0), # a11 + a22 - 2[a12-a13-a23] >=0\n",
    "                     (0,1,2,-2,0,1,-2,0,0,0,0), # a11 + a22 + 2[a12-a13-a23] >=0 \n",
    "                     (0,1,-2,0,-2,1,0,-2,0,0,0), #[with 124] a11 + a22 - 2[a12+a14+a24] >=0\n",
    "                     (0,1,2,0,2,1,0,2,0,0,0), # a11 + a22 + 2[a12+a14+a24] >=0\n",
    "                     (0,1,-2,0,-2,1,0,2,0,0,0), # a11 + a22 - 2[a12+a14-a24] >=0\n",
    "                     (0,1,2,0,2,1,0,-2,0,0,0), # a11 + a22 + 2[a12+a14-a24] >=0\n",
    "                     (0,1,-2,0,2,1,0,-2,0,0,0), # a11 + a22 - 2[a12-a14+a24] >=0\n",
    "                     (0,1,2,0,-2,1,0,2,0,0,0), # a11 + a22 + 2[a12-a14+a24] >=0\n",
    "                     (0,1,-2,0,2,1,0,2,0,0,0), # a11 + a22 - 2[a12-a14-a24] >=0\n",
    "                     (0,1,2,0,-2,1,0,-2,0,0,0), # a11 + a22 + 2[a12-a14-a24] >=0 \n",
    "                     (0,1,0,-2,-2,0,0,0,1,-2,0), #[with 134] a11 + a33 - 2[a13+a14+a34] >=0\n",
    "                     (0,1,0,2,2,0,0,0,1,2,0), # a11 + a33 + 2[a13+a14+a34] >=0\n",
    "                     (0,1,0,-2,-2,0,0,0,1,2,0), # a11 + a33 - 2[a13+a14-a34] >=0\n",
    "                     (0,1,0,2,2,0,0,0,1,-2,0), # a11 + a33 + 2[a13+a14-a34] >=0\n",
    "                     (0,1,0,-2,2,0,0,0,1,-2,0), # a11 + a33 - 2[a13-a14+a34] >=0\n",
    "                     (0,1,0,2,-2,0,0,0,1,2,0), # a11 + a33 + 2[a13-a14+a34] >=0\n",
    "                     (0,1,0,-2,2,0,0,0,1,2,0), # a11 + a33 - 2[a13-a14-a34] >=0\n",
    "                     (0,1,0,2,-2,0,0,0,1,-2,0), # a11 + a33 + 2[a13-a14-a34] >=0 \n",
    "                     (0,0,0,0,0,1,-2,-2,1,-2,0), #[with 234] a22 + a33 - 2[a23+a24+a34] >=0\n",
    "                     (0,0,0,0,0,1,2,2,1,2,0), # a22 + a33 + 2[a23+a24+a34] >=0\n",
    "                     (0,0,0,0,0,1,-2,-2,1,2,0), # a22 + a33 - 2[a23+a24-a34] >=0\n",
    "                     (0,0,0,0,0,1,2,2,1,-2,0), # a22 + a33 + 2[a23+a24-a34] >=0\n",
    "                     (0,0,0,0,0,1,-2,2,1,-2,0), # a22 + a33 - 2[a23-a24+a34] >=0\n",
    "                     (0,0,0,0,0,1,2,-2,1,2,0), # a22 + a33 + 2[a23-a24+a34] >=0\n",
    "                     (0,0,0,0,0,1,-2,2,1,2,0), # a22 + a33 - 2[a23-a24-a34] >=0\n",
    "                     (0,0,0,0,0,1,2,-2,1,-2,0), # a22 + a33 + 2[a23-a24-a34] >=0 \n",
    "                     (0,1,-2,-2,2,1,-2,2,1,2,0), #[111] a11+a22+a33+2(a14 + a24 + a34-a12-a13-a23) >=0\n",
    "                     (0,1,2,2,-2,1,2,-2,1,-2,0), #      a11+a22+a33-2(a14 + a24 + a34-a12-a13-a23) >=0\n",
    "                     (0,1,2,2,-2,1,-2,2,1,2,0), # [-111]a11+a22+a33+2(-a14 + a24 + a34+a12+a13-a23) >=0\n",
    "                     (0,1,-2,-2,2,1,2,-2,1,-2,0),#      a11+a22+a33-2(-a14 + a24 + a34+a12+a13-a23) >=0\n",
    "                     (0,1,2,-2,2,1,2,-2,1,2,0), # [1-11]a11+a22+a33+2(a14 -a24 + a34+a12-a13+a23) >=0\n",
    "                     (0,1,-2,2,-2,1,-2,2,1,-2,0),#      a11+a22+a33-2(a14 -a24 + a34+a12-a13+a23) >=0\n",
    "                     (0,1,-2,2,-2,1,2,-2,1,2,0), # [-1-11] a11+a22+a33+2(-a14-a24 + a34-a12+a13+a23) >=0\n",
    "                     (0,1,2,-2,2,1,-2,2,1,-2,0), #         a11+a22+a33-2(-a14-a24 + a34-a12+a13+a23) >=0\n",
    "                     (0,1,-2,2,2,1,2,2,1,-2,0), #   [11-1] a11+a22+a33+2(a14 + a24 - a34-a12+a13+a23) >=0\n",
    "                     (0,1,2,-2,-2,1,-2,-2,1,2,0), #        a11+a22+a33-2(a14 + a24 -a34-a12+a13+a23) >=0\n",
    "                     (0,1,2,-2,-2,1,2,2,1,-2,0), #[-11-1] a11+a22+a33+2(-a14 + a24 -a34+a12-a13+a23) >=0\n",
    "                     (0,1,-2,2,2,1,-2,-2,1,2,0), #      a11+a22+a33-2(-a14 + a24 -a34+a12-a13+a23) >=0\n",
    "                     (0,1,2,2,2,1,-2,-2,1,-2,0), #[1-1-1] a11+a22+a33+2(a14 -a24 -a34+a12+a13-a23) >=0\n",
    "                     (0,1,-2,-2,-2,1,2,2,1,2,0), #      a11+a22+a33-2(a14 -a24 -a34+a12+a13-a23) >=0\n",
    "                     (0,1,-2,-2,-2,1,-2,2,1,-2,0), #[-1-1-1] a11+a22+a33+2(-a14 -a24 -a34-a12-a13-a23) >=0\n",
    "                     (0,1,2,2,2,1,2,2,1,2,0), #      a11+a22+a33-2(-a14 -a24 -a34-a12-a13-a23) >=0\n",
    "                     (-4*sqrt(15.0),1,0,0,0,1,0,0,1,0,1) #AG inequality\n",
    "                     ])\n",
    "Psol = P.integral_points()\n",
    "for i in range(0,len(Psol)):\n",
    "    #I guess there might be a better way to reconstruct a symmetric matrix\n",
    "    M = matrix(4) \n",
    "    D = matrix(4)\n",
    "    M[0] = Psol[i][0:4]\n",
    "    M[1,1:4] = vector(Psol[i][4:7])\n",
    "    M[2,2:4] = vector(Psol[i][7:9])\n",
    "    M[3,3] = Psol[i][9]\n",
    "    D[0,0] = Psol[i][0]\n",
    "    D[1,1] = Psol[i][4]\n",
    "    D[2,2] = Psol[i][7]\n",
    "    D[3,3] = Psol[i][9]\n",
    "    M = M + M.transpose() - D\n",
    "    if det(M) == 225:\n",
    "        i, M"
   ]
  },
  {
   "cell_type": "markdown",
   "metadata": {},
   "source": [
    "<p>There is a list of 4-dimensional even 15-modular lattices in the book by G.L. Nipp, ``Quaternary Quadratic Forms\".</p>\n",
    "<p>There are exactly 5 of them. Out of them, only 3 are strongly 15-modular. One of them only is extremal, it is E(15), the other two are not extremal.</p>\n",
    "<p>They have theta series (modular form notation for the exponent of $q$)</p>\n",
    "<p>$1 + 6q + 6q^3 + 6q^4 + 6q^5 + 36q^6 + O(q^7),$</p>\n",
    "<p>$1 + 2q + 4q^2 + 10q^3 + 10q^4 + 2q^5 + 32q^6 + 12q^7 + O(q^8)$.</p>"
   ]
  },
  {
   "cell_type": "code",
   "execution_count": 70,
   "metadata": {},
   "outputs": [
    {
     "data": {
      "text/plain": []
     },
     "execution_count": 70,
     "metadata": {},
     "output_type": "execute_result"
    }
   ],
   "source": [
    "R.<q> = PowerSeriesRing(ZZ, default_prec=10)\n",
    "Theta_L15_1 = 1 + 6*q + 6*q^3 + 6*q^4 + 6*q^5 + 36*q^6 + 12*q^7 + 36*q^8 + 42*q^9 + 78*q^12 + 12*q^13 + 36*q^14 + 6*q^15 + O(q^16)\n",
    "Theta_L15_2 = 1 + 2*q + 4*q^2 + 10*q^3 + 10*q^4 + 2*q^5 + 32*q^6 + 12*q^7 + 24*q^8 + 38*q^9 + 4*q^10 + 16*q^11 + 74*q^12 + 20*q^13 + 36*q^14 + 10*q^15 + O(q^16)"
   ]
  },
  {
   "cell_type": "code",
   "execution_count": 71,
   "metadata": {},
   "outputs": [
    {
     "data": {
      "text/plain": [
       "8 & 1 + 48*q^6 + 72*q^8 + 144*q^10 + 288*q^12 + O(q^13) \\\n",
       "12 & 1 + 270*q^8 + 432*q^10 + 1260*q^12 + O(q^13) \\\n",
       "16 & 1 + 1440*q^10 + 2400*q^12 + O(q^13) \\\n",
       "20 & 1 + 7860*q^12 + O(q^13) \\"
      ]
     },
     "execution_count": 71,
     "metadata": {},
     "output_type": "execute_result"
    }
   ],
   "source": [
    "for n in range(8,21,4):\n",
    "    k = n/2\n",
    "    #values of the minimum\n",
    "    min_ext = [4,6,8,10,12]\n",
    "    #eqns (-a,b,c) means bx1+cx2=a, ieqs (-a,b,c) means bx1+cx2 >=a\n",
    "    P15 = Polyhedron(eqns = [(-k,2,2)], ieqs = [(0,1,0),(0,0,1)], base_ring = QQ)\n",
    "    #solves 2\\lambda+2\\mu=k\n",
    "    L15_exp = P15.integral_points()\n",
    "    if len(L15_exp) == 1:\n",
    "        p = (Theta_L15_1**L15_exp[0][0])*(Delta_15**L15_exp[0][1])\n",
    "        [n,p(q^2)+O(q^7)]\n",
    "    else:\n",
    "        M = matrix(len(L15_exp)+1,20)\n",
    "        M[0,0] = -1\n",
    "        for i in range(0,len(L15_exp)):\n",
    "            p = (Theta_L15_1**L15_exp[i][0])*(Delta_15**L15_exp[i][1]) \n",
    "            M[i+1,0:p.degree()+1] = vector(p.list())  \n",
    "        #identify coefficients to eliminate low powers of q\n",
    "        L15_coeffs = Polyhedron(eqns = M[:,[0..min_ext[n/4-1]/2-1]].transpose(), base_ring = QQ).integral_points()\n",
    "        #initialize coeffs of the extremal series to be computed\n",
    "        ext_series_coeffs = matrix(1,20)\n",
    "        for i in range(0,len(L15_coeffs[0])):\n",
    "            ext_series_coeffs = ext_series_coeffs + M[i+1,:]*L15_coeffs[0][i]\n",
    "        #find a way to get a list \n",
    "        l = [0,0,0,0,0,0,0,0,0,0]\n",
    "        for i in range(0,10):    \n",
    "            l[i] = ext_series_coeffs[0][i]\n",
    "        #latex printing for tabular\n",
    "        print n,\"&\",R(l)(q^2)+O(q^13),\"\\\\\""
   ]
  },
  {
   "cell_type": "code",
   "execution_count": 72,
   "metadata": {},
   "outputs": [
    {
     "data": {
      "text/plain": [
       "8 & 1 + 48*q^6 + 72*q^8 + 144*q^10 + 288*q^12 + 288*q^14 + O(q^15) \\\n",
       "12 & 1 + 270*q^8 + 432*q^10 + 1260*q^12 + 2160*q^14 + O(q^15) \\\n",
       "16 & 1 + 1440*q^10 + 2400*q^12 + 7200*q^14 + O(q^15) \\\n",
       "20 & 1 + 7860*q^12 + 9720*q^14 + O(q^15) \\"
      ]
     },
     "execution_count": 72,
     "metadata": {},
     "output_type": "execute_result"
    }
   ],
   "source": [
    "for n in range(8,21,4):\n",
    "    k = n/2\n",
    "    #values of the minimum\n",
    "    min_ext = [4,6,8,10,12]\n",
    "    #eqns (-a,b,c) means bx1+cx2=a, ieqs (-a,b,c) means bx1+cx2 >=a\n",
    "    P15 = Polyhedron(eqns = [(-k,2,2)], ieqs = [(0,1,0),(0,0,1)], base_ring = QQ)\n",
    "    #solves 2\\lambda+2\\mu=k\n",
    "    L15_exp = P15.integral_points()\n",
    "    if len(L15_exp) == 1:\n",
    "        p = (Theta_L15_2**L15_exp[0][0])*(Delta_15**L15_exp[0][1])\n",
    "        [n,p(q^2)+O(q^7)]\n",
    "    else:\n",
    "        M = matrix(len(L15_exp)+1,20)\n",
    "        M[0,0] = -1\n",
    "        for i in range(0,len(L15_exp)):\n",
    "            p = (Theta_L15_2**L15_exp[i][0])*(Delta_15**L15_exp[i][1]) \n",
    "            M[i+1,0:p.degree()+1] = vector(p.list())  \n",
    "        #identify coefficients to eliminate low powers of q\n",
    "        L15_coeffs = Polyhedron(eqns = M[:,[0..min_ext[n/4-1]/2-1]].transpose(), base_ring = QQ).integral_points()\n",
    "        #initialize coeffs of the extremal series to be computed\n",
    "        ext_series_coeffs = matrix(1,20)\n",
    "        for i in range(0,len(L15_coeffs[0])):\n",
    "            ext_series_coeffs = ext_series_coeffs + M[i+1,:]*L15_coeffs[0][i]\n",
    "        #find a way to get a list \n",
    "        l = [0,0,0,0,0,0,0,0,0,0]\n",
    "        for i in range(0,10):    \n",
    "            l[i] = ext_series_coeffs[0][i]\n",
    "        #latex printing for tabular\n",
    "        print n,\"&\",R(l)(q^2)+O(q^15),\"\\\\\""
   ]
  },
  {
   "cell_type": "markdown",
   "metadata": {},
   "source": [
    "<p><span style=\"font-size: xx-large; color: #339966;\"><span style=\"font-size: xx-large; color: #339966; background-color: #ccffcc;\">$l=23$</span></span></p>\n",
    "\n",
    "<p>For $l=23$, Minkowski reduced form method works great.</p>"
   ]
  },
  {
   "cell_type": "code",
   "execution_count": 65,
   "metadata": {},
   "outputs": [
    {
     "data": {
      "text/plain": [
       "[ 4 -1]\n",
       "[-1  6]\n",
       "[4 1]\n",
       "[1 6]\n",
       "[ 3 -1]\n",
       "[-1  8]\n",
       "[3 1]\n",
       "[1 8]\n",
       "[ 2 -1]\n",
       "[-1 12]\n",
       "[ 2  1]\n",
       "[ 1 12]\n",
       "[ 1  0]\n",
       "[ 0 23]"
      ]
     },
     "execution_count": 65,
     "metadata": {},
     "output_type": "execute_result"
    }
   ],
   "source": [
    "P = Polyhedron(ieqs=[(0,-1,0,1), #-a11+a22 >=0\n",
    "                     (0,1,-2,0), # a11-2a12 >=0\n",
    "                     (0,1,2,0),  #a11_2a12 >=0\n",
    "                     (23,-1,0,0),#-a11 >= -23\n",
    "                     (23,0,-1,0),#-a12 >=-23\n",
    "                     (23,0,0,-1),#-a22 >=-23\n",
    "                     (-1,1,0,0), #a11 >= 1\n",
    "                     (-2*sqrt(23.0),1,0,1) #a11+a22>= 2sqrt(23) \n",
    "                     ])\n",
    "Psol = P.integral_points()\n",
    "M = matrix(2)\n",
    "for i in range(0,len(Psol)):\n",
    "    M[0] = Psol[i][0:2]\n",
    "    M[1] = Psol[i][1:3]\n",
    "    if det(M) == 23:\n",
    "        M"
   ]
  },
  {
   "cell_type": "markdown",
   "metadata": {},
   "source": [
    "<p>For the computations below, we use the convention $q^i$ (and not the convention of modular forms $q^{i/2}$).</p>\n",
    "<p>We observe that if we use the 23-modular extremal lattice, the term in $q^2$ can be cancelled out only if $a_1=0$.</p>"
   ]
  },
  {
   "cell_type": "code",
   "execution_count": 99,
   "metadata": {},
   "outputs": [
    {
     "data": {
      "text/plain": [
       "q^2 - q^4 - q^6 + q^12 + q^16 - q^25 + O(q^26)"
      ]
     },
     "execution_count": 99,
     "metadata": {},
     "output_type": "execute_result"
    }
   ],
   "source": [
    "Delta_23 = q^2*(qexp_eta(ZZ[['q']], 12)(q^2)*qexp_eta(ZZ[['q']], 12)(q^23))\n",
    "Delta_23"
   ]
  },
  {
   "cell_type": "code",
   "execution_count": 74,
   "metadata": {},
   "outputs": [
    {
     "data": {
      "text/plain": [
       "(1 + 4*q^4 + 4*q^6 + 8*q^8 + 8*q^10 + 16*q^12 + 8*q^14 + 16*q^16 + 12*q^18 + 16*q^20 + 16*q^22 + 28*q^24 + 12*q^26 + 24*q^28 + 32*q^30 + 36*q^32 + 16*q^34 + O(q^36),\n",
       " q^2 - q^4 + q^6 - 2*q^10 - 3*q^12 + q^16 + 2*q^18 + 4*q^20 - 2*q^22 + 2*q^24 - q^25 + O(q^26),\n",
       " q^4 - 2*q^6 - q^8 + 2*q^10 + q^12 + 2*q^14 - 2*q^16 - 2*q^20 - 2*q^22 + q^24 - 2*q^27 + O(q^28))"
      ]
     },
     "execution_count": 74,
     "metadata": {},
     "output_type": "execute_result"
    }
   ],
   "source": [
    "R.<q> = PowerSeriesRing(ZZ,default_prec=10)\n",
    "Theta_23 = 1 + 2*q^4 + 2*q^6 + 2*q^8 + 2*q^12 + 2*q^16 + 2*q^18 + 4*q^24 + 2*q^26 + 4*q^32 + O(q^36)\n",
    "Theta_23**2 , Theta_23*Delta_23, Delta_23**2"
   ]
  },
  {
   "cell_type": "markdown",
   "metadata": {},
   "source": [
    "<p>When $a_1=0$, we must have $a_2=-4$. </p>"
   ]
  },
  {
   "cell_type": "code",
   "execution_count": 75,
   "metadata": {},
   "outputs": [
    {
     "data": {
      "text/plain": [
       "1 + 12*q^6 + 12*q^8 + 12*q^12 + 24*q^16 + 12*q^18 + 24*q^20 + 24*q^22 + 24*q^24 + 12*q^26 + 8*q^27 + O(q^28)"
      ]
     },
     "execution_count": 75,
     "metadata": {},
     "output_type": "execute_result"
    }
   ],
   "source": [
    "Theta_23**2-4*Delta_23**2"
   ]
  },
  {
   "cell_type": "markdown",
   "metadata": {},
   "source": [
    "<p>We also try the other theta serie in dimension 2 which is 23-modular.</p>"
   ]
  },
  {
   "cell_type": "code",
   "execution_count": 78,
   "metadata": {},
   "outputs": [
    {
     "data": {
      "text/plain": [
       "(1 + 4*q^2 + 4*q^4 + 4*q^8 + 8*q^10 + 8*q^12 + 16*q^14 + 12*q^16 + 20*q^18 + 24*q^20 + 40*q^24 + 24*q^26 + 32*q^28 + 16*q^30 + 36*q^32 + 24*q^34 + 44*q^36 + O(q^38),\n",
       " q^2 + q^4 - 3*q^6 - 2*q^8 + 2*q^10 - q^12 + 4*q^14 - 3*q^16 + 2*q^18 - 6*q^22 + 4*q^24 - q^25 + O(q^26),\n",
       " q^4 - 2*q^6 - q^8 + 2*q^10 + q^12 + 2*q^14 - 2*q^16 - 2*q^20 - 2*q^22 + q^24 - 2*q^27 + O(q^28))"
      ]
     },
     "execution_count": 78,
     "metadata": {},
     "output_type": "execute_result"
    }
   ],
   "source": [
    "Theta_L23 = 1 + 2*q^2 + 2*q^8 + 4*q^12 + 4*q^16 + 2*q^18 + 4*q^24 + 2*q^32 + 4*q^36 + O(q^38)\n",
    "Theta_L23**2 , Theta_L23*Delta_23, Delta_23**2"
   ]
  },
  {
   "cell_type": "code",
   "execution_count": 81,
   "metadata": {},
   "outputs": [
    {
     "data": {
      "text/plain": [
       "1 + 12*q^6 + 12*q^8 + 12*q^12 + 24*q^16 + 12*q^18 + 24*q^20 + 24*q^22 + 24*q^24 + 4*q^25 + O(q^26)"
      ]
     },
     "execution_count": 81,
     "metadata": {},
     "output_type": "execute_result"
    }
   ],
   "source": [
    "Theta_L23**2-4*Theta_L23*Delta_23"
   ]
  }
 ],
 "metadata": {
  "kernelspec": {
   "display_name": "SageMath",
   "name": "sagemath"
  },
  "language": "python"
 },
 "nbformat": 4,
 "nbformat_minor": 0
}

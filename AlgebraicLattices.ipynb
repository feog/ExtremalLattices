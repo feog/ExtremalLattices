{
 "cells": [
  {
   "cell_type": "markdown",
   "metadata": {},
   "source": [
    "<p><span style=\"background-color: #ccffcc;\"><strong>This SAGE notebook computes a few 11-modular lattices from number fields.</strong></span></p>\n",
    "\n",
    "<p>We find the 11-modular extremal lattice in dimension 4.</p>"
   ]
  },
  {
   "cell_type": "code",
   "execution_count": 1,
   "metadata": {},
   "outputs": [
    {
     "data": {
      "text/plain": [
       "(\n",
       "[20 10 14 17]  [ 4  2  0 -1]     \n",
       "[10  6  7  8]  [ 2  4 -1  0]     \n",
       "[14  7 12 13]  [ 0 -1  4 -2]     \n",
       "[17  8 13 18], [-1  0 -2  4], 121\n",
       ")"
      ]
     },
     "execution_count": 1,
     "metadata": {},
     "output_type": "execute_result"
    }
   ],
   "source": [
    "K.<a> = NumberField(x^4-x^3+8*x^2+3*x+9)\n",
    "OK = K.ring_of_integers()\n",
    "J = OK.ideal(5)\n",
    "I = J.prime_factors()[1]\n",
    "B = I.basis()\n",
    "n = K.degree()\n",
    "M = Matrix(CC,4)\n",
    "for i in range(0,n):\n",
    "    M[i,0:4] = vector(B[i].complex_embeddings())\n",
    "Gtmp = (M*M.conjugate_transpose())\n",
    "G = matrix(ZZ,n)\n",
    "for i in range(0,n):\n",
    "    for j in range(0,n):\n",
    "        G[i,j] = round(real_part(Gtmp[i,j]))/5\n",
    "G, G.LLL_gram().transpose()*G*G.LLL_gram(), det(G)"
   ]
  },
  {
   "cell_type": "markdown",
   "metadata": {},
   "source": [
    "<p>A first failed attempt in dimension 8.</p>"
   ]
  },
  {
   "cell_type": "code",
   "execution_count": 3,
   "metadata": {},
   "outputs": [
    {
     "data": {
      "text/plain": [
       "(\n",
       "[20 10  0  0  6  3  0  0]  [ 2  0  0  0  0  0  0  1]      \n",
       "[10  6  0  0  3  2  0  0]  [ 0  2  0  0  0  0 -1  0]      \n",
       "[ 0  0  2  0  0  0  0 -1]  [ 0  0  4  2  0 -1  0  0]      \n",
       "[ 0  0  0  2  0  0 -1  0]  [ 0  0  2  4  1  0  0  0]      \n",
       "[ 6  3  0  0  4  2  0  0]  [ 0  0  0  1  4  2  0  0]      \n",
       "[ 3  2  0  0  2  4  0  0]  [ 0  0 -1  0  2  4  0  0]      \n",
       "[ 0  0  0 -1  0  0  6  0]  [ 0 -1  0  0  0  0  6  0]      \n",
       "[ 0  0 -1  0  0  0  0  6], [ 1  0  0  0  0  0  0  6], 11^4\n",
       ")"
      ]
     },
     "execution_count": 3,
     "metadata": {},
     "output_type": "execute_result"
    }
   ],
   "source": [
    "K.<a> = NumberField(x^8 - 4*x^7 + 8*x^6 - 10*x^5 + 61*x^4 - 110*x^3 + 162*x^2 - 108*x + 716)\n",
    "OK = K.ring_of_integers()\n",
    "J = OK.ideal(5)\n",
    "I = J.prime_factors()[0]\n",
    "B = I.basis()\n",
    "n = K.degree()\n",
    "M = Matrix(CC,n)\n",
    "for i in range(0,n):\n",
    "    M[i,0:n] = vector(B[i].complex_embeddings())\n",
    "Gtmp = (M*M.conjugate_transpose())\n",
    "G = matrix(ZZ,n)\n",
    "for i in range(0,n):\n",
    "    for j in range(0,n):\n",
    "        G[i,j] = round(real_part(Gtmp[i,j]))/10\n",
    "G, G.LLL_gram().transpose()*G*G.LLL_gram(), factor(det(G))"
   ]
  },
  {
   "cell_type": "markdown",
   "metadata": {},
   "source": [
    "<p>A second failed attempt in dimension 8.</p>"
   ]
  },
  {
   "cell_type": "code",
   "execution_count": 5,
   "metadata": {},
   "outputs": [
    {
     "data": {
      "text/plain": [
       "(\n",
       "[ 6  0  0 -1  0  0  0  0]  [ 2  0  0  0  0  0 -1  0]      \n",
       "[ 0 12  6  0  0 10  5  0]  [ 0  2  0  0  0  0  0  1]      \n",
       "[ 0  6  4  0  0  5  3  0]  [ 0  0  4  2 -1 -1  0  0]      \n",
       "[-1  0  0  2  0  0  0  0]  [ 0  0  2  4 -1  0  0  0]      \n",
       "[ 0  0  0  0  2  0  0 -1]  [ 0  0 -1 -1  4  2  0  0]      \n",
       "[ 0 10  5  0  0 12  6  0]  [ 0  0 -1  0  2  4  0  0]      \n",
       "[ 0  5  3  0  0  6  6  0]  [-1  0  0  0  0  0  6  0]      \n",
       "[ 0  0  0  0 -1  0  0  6], [ 0  1  0  0  0  0  0  6], 11^4\n",
       ")"
      ]
     },
     "execution_count": 5,
     "metadata": {},
     "output_type": "execute_result"
    }
   ],
   "source": [
    "K.<a> = NumberField(x^8 + 20*x^6 + 151*x^4 + 180*x^2 + 81)\n",
    "OK = K.ring_of_integers()\n",
    "J = OK.ideal(3)\n",
    "I = J.prime_factors()[0]\n",
    "B = I.basis()\n",
    "n = K.degree()\n",
    "M = Matrix(CC,n)\n",
    "for i in range(0,n):\n",
    "    M[i,0:n] = vector(B[i].complex_embeddings())\n",
    "Gtmp = (M*M.conjugate_transpose())\n",
    "G = matrix(ZZ,n)\n",
    "for i in range(0,n):\n",
    "    for j in range(0,n):\n",
    "        G[i,j] = round(real_part(Gtmp[i,j]))/12\n",
    "G, G.LLL_gram().transpose()*G*G.LLL_gram(), factor(det(G))"
   ]
  },
  {
   "cell_type": "markdown",
   "metadata": {},
   "source": [
    "<p>A third failed attempt in dimension 8.</p>"
   ]
  },
  {
   "cell_type": "code",
   "execution_count": 8,
   "metadata": {},
   "outputs": [
    {
     "data": {
      "text/plain": [
       "2^12 * 5^4 * 11^4"
      ]
     },
     "execution_count": 8,
     "metadata": {},
     "output_type": "execute_result"
    }
   ],
   "source": [
    "E.<a> = NumberField(x^2+11);\n",
    "F.<b> = E.extension(x^2-x-1);\n",
    "H.<c> = F.extension(x^2-2)\n",
    "factor(H.absolute_discriminant())"
   ]
  },
  {
   "cell_type": "code",
   "execution_count": 10,
   "metadata": {},
   "outputs": [
    {
     "data": {
      "text/plain": [
       "(\n",
       "[40 20  0  0 -4 27  0  0]  [ 2  0  0  0  0  0  0  1]      \n",
       "[20 12  0  0 -1 14  0  0]  [ 0  2  0  0  0  0  1  0]      \n",
       "[ 0  0 20 10  0  0 14  7]  [ 0  0  4  2  0  1  0  0]      \n",
       "[ 0  0 10  6  0  0  7  4]  [ 0  0  2  4 -1  0  0  0]      \n",
       "[-4 -1  0  0  2 -3  0  0]  [ 0  0  0 -1  4  2  0  0]      \n",
       "[27 14  0  0 -3 20  0  0]  [ 0  0  1  0  2  4  0  0]      \n",
       "[ 0  0 14  7  0  0 12  6]  [ 0  1  0  0  0  0  6  0]      \n",
       "[ 0  0  7  4  0  0  6  6], [ 1  0  0  0  0  0  0  6], 11^4\n",
       ")"
      ]
     },
     "execution_count": 10,
     "metadata": {},
     "output_type": "execute_result"
    }
   ],
   "source": [
    "K = H.absolute_field('d')\n",
    "OK = K.ring_of_integers()\n",
    "J1 = OK.ideal(2)\n",
    "I1 = J1.prime_factors()[0]\n",
    "J2 = OK.ideal(5)\n",
    "I2 = J2.prime_factors()[0]\n",
    "I = I1*I2\n",
    "B = I.basis()\n",
    "n = K.degree()\n",
    "M = Matrix(CC,n)\n",
    "for i in range(0,n):\n",
    "    M[i,0:n] = vector(B[i].complex_embeddings())\n",
    "Gtmp = (M*M.conjugate_transpose())\n",
    "G = matrix(ZZ,n)\n",
    "for i in range(0,n):\n",
    "    for j in range(0,n):\n",
    "        G[i,j] = round(real_part(Gtmp[i,j]))/20\n",
    "G, G.LLL_gram().transpose()*G*G.LLL_gram(), factor(det(G))"
   ]
  },
  {
   "cell_type": "markdown",
   "metadata": {},
   "source": [
    "<p>A 4rth failed attempt in dimension 8.</p>"
   ]
  },
  {
   "cell_type": "code",
   "execution_count": 11,
   "metadata": {},
   "outputs": [
    {
     "data": {
      "text/plain": [
       "2^8 * 5^4 * 7^4 * 11^4"
      ]
     },
     "execution_count": 11,
     "metadata": {},
     "output_type": "execute_result"
    }
   ],
   "source": [
    "E.<a> = NumberField(x^2+11);\n",
    "F.<b> = E.extension(x^2-x-1);\n",
    "H.<c> = F.extension(x^2-7)\n",
    "factor(H.absolute_discriminant())"
   ]
  },
  {
   "cell_type": "code",
   "execution_count": 13,
   "metadata": {},
   "outputs": [
    {
     "data": {
      "text/plain": [
       "(\n",
       "[140  70  56  43   0   0   0   0]  [ 2  0  0  0  0  0  0  1]      \n",
       "[ 70  42  31  23   0   0   0   0]  [ 0  2  0  0  0  0 -1  0]      \n",
       "[ 56  31  24  18   0   0   0   0]  [ 0  0  4  2  0 -1  0  0]      \n",
       "[ 43  23  18  14   0   0   0   0]  [ 0  0  2  4 -1 -1  0  0]      \n",
       "[  0   0   0   0  20  10  14  13]  [ 0  0  0 -1  4  2  0  0]      \n",
       "[  0   0   0   0  10   6   7   6]  [ 0  0 -1 -1  2  4  0  0]      \n",
       "[  0   0   0   0  14   7  12   8]  [ 0 -1  0  0  0  0  6  0]      \n",
       "[  0   0   0   0  13   6   8  12], [ 1  0  0  0  0  0  0  6], 11^4\n",
       ")"
      ]
     },
     "execution_count": 13,
     "metadata": {},
     "output_type": "execute_result"
    }
   ],
   "source": [
    "K = H.absolute_field('d')\n",
    "OK = K.ring_of_integers()\n",
    "J1 = OK.ideal(7)\n",
    "I1 = J1.prime_factors()[0]\n",
    "J2 = OK.ideal(5)\n",
    "I2 = J2.prime_factors()[0]\n",
    "I = I1*I2\n",
    "B = I.basis()\n",
    "n = K.degree()\n",
    "M = Matrix(CC,n)\n",
    "for i in range(0,n):\n",
    "    M[i,0:n] = vector(B[i].complex_embeddings())\n",
    "Gtmp = (M*M.conjugate_transpose())\n",
    "G = matrix(ZZ,n)\n",
    "for i in range(0,n):\n",
    "    for j in range(0,n):\n",
    "        G[i,j] = round(real_part(Gtmp[i,j]))/70\n",
    "G, G.LLL_gram().transpose()*G*G.LLL_gram(), factor(det(G))"
   ]
  },
  {
   "cell_type": "markdown",
   "metadata": {},
   "source": [
    "<p>A 5th failed attempt: this time the minimum goes from 2 to 4, but not yet 6.</p>"
   ]
  },
  {
   "cell_type": "code",
   "execution_count": 14,
   "metadata": {},
   "outputs": [
    {
     "data": {
      "text/plain": [
       "2^8 * 3^4 * 5^4 * 11^4"
      ]
     },
     "execution_count": 14,
     "metadata": {},
     "output_type": "execute_result"
    }
   ],
   "source": [
    "E.<a> = NumberField(x^2+11);\n",
    "F.<b> = E.extension(x^2-x-1);\n",
    "H.<c> = F.extension(x^2-3)\n",
    "factor(H.absolute_discriminant())"
   ]
  },
  {
   "cell_type": "code",
   "execution_count": 16,
   "metadata": {},
   "outputs": [
    {
     "data": {
      "text/plain": [
       "(\n",
       "[60 30 46  0 53  0  0  0]  [ 4 -2 -1 -1  0  0  0  0]      \n",
       "[30 18 23  0 29  0  0  0]  [-2  4  0  1  0  0  0  0]      \n",
       "[46 23 36  0 41  0  0  0]  [-1  0  4  2  0  0  0  0]      \n",
       "[ 0  0  0 20  0 10 14 17]  [-1  1  2  4  0  0  0  0]      \n",
       "[53 29 41  0 50  0  0  0]  [ 0  0  0  0  4  2  0 -1]      \n",
       "[ 0  0  0 10  0  6  7  8]  [ 0  0  0  0  2  4 -1  0]      \n",
       "[ 0  0  0 14  0  7 12 13]  [ 0  0  0  0  0 -1  4 -2]      \n",
       "[ 0  0  0 17  0  8 13 18], [ 0  0  0  0 -1  0 -2  4], 11^4\n",
       ")"
      ]
     },
     "execution_count": 16,
     "metadata": {},
     "output_type": "execute_result"
    }
   ],
   "source": [
    "K = H.absolute_field('d')\n",
    "OK = K.ring_of_integers()\n",
    "J1 = OK.ideal(3)\n",
    "I1 = J1.prime_factors()[0]\n",
    "J2 = OK.ideal(5)\n",
    "I2 = J2.prime_factors()[0]\n",
    "I = I1*I2\n",
    "B = I.basis()\n",
    "n = K.degree()\n",
    "M = Matrix(CC,n)\n",
    "for i in range(0,n):\n",
    "    M[i,0:n] = vector(B[i].complex_embeddings())\n",
    "Gtmp = (M*M.conjugate_transpose())\n",
    "G = matrix(ZZ,n)\n",
    "for i in range(0,n):\n",
    "    for j in range(0,n):\n",
    "        G[i,j] = round(real_part(Gtmp[i,j]))/30\n",
    "G, G.LLL_gram().transpose()*G*G.LLL_gram(), factor(det(G))"
   ]
  },
  {
   "cell_type": "markdown",
   "metadata": {},
   "source": [
    "<p>6th failed attempt.</p>"
   ]
  },
  {
   "cell_type": "code",
   "execution_count": 19,
   "metadata": {},
   "outputs": [
    {
     "data": {
      "text/plain": [
       "2^16 * 3^4 * 11^4"
      ]
     },
     "execution_count": 19,
     "metadata": {},
     "output_type": "execute_result"
    }
   ],
   "source": [
    "E.<a> = NumberField(x^2+11);\n",
    "F.<b> = E.extension(x^2-2);\n",
    "H.<c> = F.extension(x^2-3)\n",
    "factor(H.absolute_discriminant())"
   ]
  },
  {
   "cell_type": "code",
   "execution_count": 20,
   "metadata": {},
   "outputs": [
    {
     "data": {
      "text/plain": [
       "(\n",
       "[ 6  0  0 -1  0  0  0  0]  [ 2  0  0  0  0  0 -1  0]      \n",
       "[ 0 12  6  0  0  5 -1  0]  [ 0  2  0  0  0  0  0  1]      \n",
       "[ 0  6  4  0  0  2 -1  0]  [ 0  0  4  2  0 -1  0  0]      \n",
       "[-1  0  0  2  0  0  0  0]  [ 0  0  2  4 -1  0  0  0]      \n",
       "[ 0  0  0  0  2  0  0 -1]  [ 0  0  0 -1  4 -2  0  0]      \n",
       "[ 0  5  2  0  0  6 -2  0]  [ 0  0 -1  0 -2  4  0  0]      \n",
       "[ 0 -1 -1  0  0 -2  4  0]  [-1  0  0  0  0  0  6  0]      \n",
       "[ 0  0  0  0 -1  0  0  6], [ 0  1  0  0  0  0  0  6], 11^4\n",
       ")"
      ]
     },
     "execution_count": 20,
     "metadata": {},
     "output_type": "execute_result"
    }
   ],
   "source": [
    "K = H.absolute_field('d')\n",
    "OK = K.ring_of_integers()\n",
    "J1 = OK.ideal(3)\n",
    "I1 = J1.prime_factors()[0]\n",
    "B = I1.basis()\n",
    "n = K.degree()\n",
    "M = Matrix(CC,n)\n",
    "for i in range(0,n):\n",
    "    M[i,0:n] = vector(B[i].complex_embeddings())\n",
    "Gtmp = (M*M.conjugate_transpose())\n",
    "G = matrix(ZZ,n)\n",
    "for i in range(0,n):\n",
    "    for j in range(0,n):\n",
    "        G[i,j] = round(real_part(Gtmp[i,j]))/12\n",
    "G, G.LLL_gram().transpose()*G*G.LLL_gram(), factor(det(G))"
   ]
  },
  {
   "cell_type": "markdown",
   "metadata": {},
   "source": [
    "<p>7th failed attempt.</p>"
   ]
  },
  {
   "cell_type": "code",
   "execution_count": 21,
   "metadata": {},
   "outputs": [
    {
     "data": {
      "text/plain": [
       "2^16 * 7^4 * 11^4"
      ]
     },
     "execution_count": 21,
     "metadata": {},
     "output_type": "execute_result"
    }
   ],
   "source": [
    "E.<a> = NumberField(x^2+11);\n",
    "F.<b> = E.extension(x^2-2);\n",
    "H.<c> = F.extension(x^2-7)\n",
    "factor(H.absolute_discriminant())"
   ]
  },
  {
   "cell_type": "code",
   "execution_count": 23,
   "metadata": {},
   "outputs": [
    {
     "data": {
      "text/plain": [
       "(\n",
       "[ 98  42  49  70  77   0  84   0]  [ 16   8  -6   0   1   4   4   0]\n",
       "[ 42  22  21  32  31   0  37   0]  [  8  18 -10   0   4   9  -5   0]\n",
       "[ 49  21 294  35 154   0 119   0]  [ -6 -10  18   0   4  -5   2   0]\n",
       "[ 70  32  35  58  54   0  64   0]  [  0   0   0  14   0   0   0   7]\n",
       "[ 77  31 154  54 122   0  93   0]  [  1   4   4   0  48  24 -18   0]\n",
       "[  0   0   0   0   0  14   0  -7]  [  4   9  -5   0  24  54 -30   0]\n",
       "[ 84  37 119  64  93   0 118   0]  [  4  -5   2   0 -18 -30  54   0]\n",
       "[  0   0   0   0   0  -7   0  42], [  0   0   0   7   0   0   0  42],\n",
       "\n",
       "7^8 * 11^4\n",
       ")"
      ]
     },
     "execution_count": 23,
     "metadata": {},
     "output_type": "execute_result"
    }
   ],
   "source": [
    "K = H.absolute_field('d')\n",
    "OK = K.ring_of_integers()\n",
    "J1 = OK.ideal(7)\n",
    "I1 = J1.prime_factors()[0]\n",
    "B = I1.basis()\n",
    "n = K.degree()\n",
    "M = Matrix(CC,n)\n",
    "for i in range(0,n):\n",
    "    M[i,0:n] = vector(B[i].complex_embeddings())\n",
    "Gtmp = (M*M.conjugate_transpose())\n",
    "G = matrix(ZZ,n)\n",
    "for i in range(0,n):\n",
    "    for j in range(0,n):\n",
    "        G[i,j] = round(real_part(Gtmp[i,j]))/4\n",
    "G, G.LLL_gram().transpose()*G*G.LLL_gram(), factor(det(G))"
   ]
  },
  {
   "cell_type": "markdown",
   "metadata": {},
   "source": [
    "<p>We build a 12-dimensional 11-modular lattice.</p>"
   ]
  },
  {
   "cell_type": "code",
   "execution_count": 24,
   "metadata": {},
   "outputs": [
    {
     "data": {
      "text/plain": [
       "5^6 * 7^8 * 11^6"
      ]
     },
     "execution_count": 24,
     "metadata": {},
     "output_type": "execute_result"
    }
   ],
   "source": [
    "E.<a> = NumberField(x^2+11);\n",
    "F.<b> = E.extension(x^2-x-1);\n",
    "H.<c> = F.extension(x^3+x^2-2*x-1)\n",
    "factor(H.absolute_discriminant())"
   ]
  },
  {
   "cell_type": "code",
   "execution_count": 25,
   "metadata": {},
   "outputs": [
    {
     "data": {
      "text/plain": [
       "(\n",
       "[420 140 140 210  70 350 168  81 196 336 393 223]\n",
       "[140  60  40  70  30 120  56  27  70 116 130  83]\n",
       "[140  40  60  70  20 120  56  27  70 110 133  70]\n",
       "[210  70  70 126  42 182  93  57 101 171 205 120]\n",
       "[ 70  30  20  42  18  62  31  19  36  59  68  44]\n",
       "[350 120 120 182  62 298 143  73 169 282 331 191]\n",
       "[168  56  56  93  31 143  72  39  80 136 161  93]\n",
       "[ 81  27  27  57  19  73  39  30  40  67  82  50]\n",
       "[196  70  70 101  36 169  80  40 100 158 185 108]\n",
       "[336 116 110 171  59 282 136  67 158 272 315 183]\n",
       "[393 130 133 205  68 331 161  82 185 315 374 212]\n",
       "[223  83  70 120  44 191  93  50 108 183 212 130],\n",
       "\n",
       "[ 6 -2 -2  2  2  0 -2  0 -2  1 -2  0]      \n",
       "[-2  6  2  0  2  2  2  2  3  2  2  0]      \n",
       "[-2  2  6  2 -2  2  3 -2  0  2  0 -2]      \n",
       "[ 2  0  2  6 -2  2  2 -2 -2  2 -2  1]      \n",
       "[ 2  2 -2 -2  8  2 -2  4  1 -1 -1 -1]      \n",
       "[ 0  2  2  2  2  6  0  1 -1  0 -2 -2]      \n",
       "[-2  2  3  2 -2  0  6 -2  0  0  0 -1]      \n",
       "[ 0  2 -2 -2  4  1 -2  6  3  0  2  0]      \n",
       "[-2  3  0 -2  1 -1  0  3  6  0  2  0]      \n",
       "[ 1  2  2  2 -1  0  0  0  0  6  2  2]      \n",
       "[-2  2  0 -2 -1 -2  0  2  2  2  6  2]      \n",
       "[ 0  0 -2  1 -1 -2 -1  0  0  2  2  6], 11^6\n",
       ")"
      ]
     },
     "execution_count": 25,
     "metadata": {},
     "output_type": "execute_result"
    }
   ],
   "source": [
    "K = H.absolute_field('d')\n",
    "OK = K.ring_of_integers()\n",
    "J1 = OK.ideal(7)\n",
    "I1 = J1.prime_factors()[0]\n",
    "J2 = OK.ideal(5)\n",
    "I2 = J2.prime_factors()[0]\n",
    "I = I1*I2\n",
    "B = I.basis()\n",
    "n = K.degree()\n",
    "M = Matrix(CC,n)\n",
    "for i in range(0,n):\n",
    "    M[i,0:n] = vector(B[i].complex_embeddings())\n",
    "Gtmp = (M*M.conjugate_transpose())\n",
    "G = matrix(ZZ,n)\n",
    "for i in range(0,n):\n",
    "    for j in range(0,n):\n",
    "        G[i,j] = round(real_part(Gtmp[i,j]))/35\n",
    "G, G.LLL_gram().transpose()*G*G.LLL_gram(), factor(det(G))"
   ]
  },
  {
   "cell_type": "code",
   "execution_count": 27,
   "metadata": {},
   "outputs": [
    {
     "data": {
      "text/plain": [
       "[ 6  2  2 -2  0 -2  0  3  2 -2  2 -2]\n",
       "[ 2  6  2  0  2  0  2 -1  3  2 -2 -2]\n",
       "[ 2  2  6  2 -2  2 -2  2  2  0  0 -3]\n",
       "[-2  0  2  6 -2  1  0 -2  0  0  0  1]\n",
       "[ 0  2 -2 -2  6 -2  1 -2  1  0 -2  1]\n",
       "[-2  0  2  1 -2  6 -2 -1  0  2  0  0]\n",
       "[ 0  2 -2  0  1 -2  6 -3  2  2 -2  2]\n",
       "[ 3 -1  2 -2 -2 -1 -3  8  1 -2  2 -2]\n",
       "[ 2  3  2  0  1  0  2  1  6  2  0  0]\n",
       "[-2  2  0  0  0  2  2 -2  2  6 -3  0]\n",
       "[ 2 -2  0  0 -2  0 -2  2  0 -3  6  0]\n",
       "[-2 -2 -3  1  1  0  2 -2  0  0  0  6]"
      ]
     },
     "execution_count": 27,
     "metadata": {},
     "output_type": "execute_result"
    }
   ],
   "source": [
    "Gdualtmp = 11*G.inverse()\n",
    "Gdual = matrix(ZZ,n)\n",
    "for i in range(0,n):\n",
    "    for j in range(0,n):\n",
    "        Gdual[i,j] = round(Gdualtmp[i,j])\n",
    "Gdual.LLL_gram().transpose()*Gdual*Gdual.LLL_gram()"
   ]
  }
 ],
 "metadata": {
  "kernelspec": {
   "display_name": "SageMath",
   "name": "sagemath"
  },
  "language": "python"
 },
 "nbformat": 4,
 "nbformat_minor": 0
}
